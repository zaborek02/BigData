{
 "cells": [
  {
   "cell_type": "code",
   "execution_count": 0,
   "metadata": {
    "application/vnd.databricks.v1+cell": {
     "cellMetadata": {
      "byteLimit": 2048000,
      "rowLimit": 10000
     },
     "inputWidgets": {},
     "nuid": "f753e043-87b2-42db-abac-fce51f0ad086",
     "showTitle": false,
     "tableResultSettingsMap": {},
     "title": ""
    }
   },
   "outputs": [
    {
     "output_type": "stream",
     "name": "stdout",
     "output_type": "stream",
     "text": [
      "root\n |-- CaptureDate: string (nullable = true)\n |-- CaptureID: long (nullable = true)\n |-- FID: string (nullable = true)\n |-- Geometry: string (nullable = true)\n |-- attribute1: string (nullable = true)\n |-- changeType_source: string (nullable = true)\n |-- identifier: long (nullable = true)\n |-- pathLinkInfo: struct (nullable = true)\n |    |-- alternateName: string (nullable = true)\n |    |-- captureSpecification: string (nullable = true)\n |    |-- cycleFacility: string (nullable = true)\n |    |-- elevationGain: struct (nullable = true)\n |    |    |-- elevationAgainstDirection: double (nullable = true)\n |    |    |-- elevationInDirection: long (nullable = true)\n |    |-- endGradeSeparation: long (nullable = true)\n |    |-- endNode: string (nullable = true)\n |    |-- fictitious: boolean (nullable = true)\n |    |-- formOfWay: string (nullable = true)\n |    |-- formsPartOfPath: string (nullable = true)\n |    |-- formsPartOfStreet: array (nullable = true)\n |    |    |-- element: string (containsNull = true)\n |    |-- heightingMethod: string (nullable = true)\n |    |-- matchStatus: string (nullable = true)\n |    |-- pathName: string (nullable = true)\n |    |-- sourceFID: string (nullable = true)\n |    |-- startGradeSeparation: long (nullable = true)\n |    |-- startNode: string (nullable = true)\n |    |-- surfaceType: string (nullable = true)\n\n+-------------------+---------+----------------+--------+------------------+-----------------+----------+-----------------------------------------------------------------------------------------------------------------------------------------------------------------------------------------------------------------------------+\n|CaptureDate        |CaptureID|FID             |Geometry|attribute1        |changeType_source|identifier|pathLinkInfo                                                                                                                                                                                                                 |\n+-------------------+---------+----------------+--------+------------------+-----------------+----------+-----------------------------------------------------------------------------------------------------------------------------------------------------------------------------------------------------------------------------+\n|2020-12-31T00:00:00|3        |24b3sdf4353fc220|Geo223  |Under Construction|insert           |2         |{null, Urban, null, {1.3, 0}, 0, eb7f6122-f765-4113-8b77-908934437ee96, false, Path, null, [4fb3afad-2c56-4946-83d1-d734508705e2], DTM, Matched, null, MissingFID, 0, 147b7a78-04bf-4f9a-801d-61dc534a0a5, Sealed on surface}|\n+-------------------+---------+----------------+--------+------------------+-----------------+----------+-----------------------------------------------------------------------------------------------------------------------------------------------------------------------------------------------------------------------------+\n\n"
     ]
    }
   ],
   "source": [
    "from pyspark.sql import SparkSession\n",
    "from pyspark.sql import functions as F\n",
    "\n",
    "spark = SparkSession.builder.getOrCreate()\n",
    "\n",
    "fileName = \"dbfs:/FileStore/tables/Nested.json\"\n",
    "\n",
    "df = spark.read.option(\"multiline\", \"true\").json(fileName)\n",
    "df.printSchema()\n",
    "df.show(truncate=False)\n"
   ]
  },
  {
   "cell_type": "code",
   "execution_count": 0,
   "metadata": {
    "application/vnd.databricks.v1+cell": {
     "cellMetadata": {
      "byteLimit": 2048000,
      "rowLimit": 10000
     },
     "inputWidgets": {},
     "nuid": "6d1905c8-72b9-466f-ba7c-7118dc831dc3",
     "showTitle": false,
     "tableResultSettingsMap": {},
     "title": ""
    }
   },
   "outputs": [],
   "source": [
    "df_clean = df.withColumn(\n",
    "    \"pathLinkInfo\",\n",
    "    F.col(\"pathLinkInfo\").dropFields(\n",
    "        \"endGradeSeparation\",\n",
    "        \"elevationAgainstDirection\",\n",
    "        \"formsPartOfPath\"\n",
    "    )\n",
    ")"
   ]
  },
  {
   "cell_type": "code",
   "execution_count": 0,
   "metadata": {
    "application/vnd.databricks.v1+cell": {
     "cellMetadata": {
      "byteLimit": 2048000,
      "rowLimit": 10000
     },
     "inputWidgets": {},
     "nuid": "10249b0b-d4d8-4910-8b4f-14e53939fd69",
     "showTitle": false,
     "tableResultSettingsMap": {},
     "title": ""
    }
   },
   "outputs": [
    {
     "output_type": "stream",
     "name": "stdout",
     "output_type": "stream",
     "text": [
      "root\n |-- CaptureDate: string (nullable = true)\n |-- CaptureID: long (nullable = true)\n |-- FID: string (nullable = true)\n |-- Geometry: string (nullable = true)\n |-- attribute1: string (nullable = true)\n |-- changeType_source: string (nullable = true)\n |-- identifier: long (nullable = true)\n |-- pathLinkInfo: struct (nullable = true)\n |    |-- alternateName: string (nullable = true)\n |    |-- captureSpecification: string (nullable = true)\n |    |-- cycleFacility: string (nullable = true)\n |    |-- elevationGain: struct (nullable = true)\n |    |    |-- elevationAgainstDirection: double (nullable = true)\n |    |    |-- elevationInDirection: long (nullable = true)\n |    |-- endNode: string (nullable = true)\n |    |-- fictitious: boolean (nullable = true)\n |    |-- formOfWay: string (nullable = true)\n |    |-- formsPartOfStreet: array (nullable = true)\n |    |    |-- element: string (containsNull = true)\n |    |-- heightingMethod: string (nullable = true)\n |    |-- matchStatus: string (nullable = true)\n |    |-- pathName: string (nullable = true)\n |    |-- sourceFID: string (nullable = true)\n |    |-- startGradeSeparation: long (nullable = true)\n |    |-- startNode: string (nullable = true)\n |    |-- surfaceType: string (nullable = true)\n\n"
     ]
    }
   ],
   "source": [
    "df_clean.printSchema()"
   ]
  },
  {
   "cell_type": "code",
   "execution_count": 0,
   "metadata": {
    "application/vnd.databricks.v1+cell": {
     "cellMetadata": {},
     "inputWidgets": {},
     "nuid": "a15ae1d7-095c-4852-8e27-b88e78d578a6",
     "showTitle": false,
     "tableResultSettingsMap": {},
     "title": ""
    }
   },
   "outputs": [],
   "source": []
  }
 ],
 "metadata": {
  "application/vnd.databricks.v1+notebook": {
   "computePreferences": null,
   "dashboards": [],
   "environmentMetadata": {
    "base_environment": "",
    "environment_version": "1"
   },
   "inputWidgetPreferences": null,
   "language": "python",
   "notebookMetadata": {
    "pythonIndentUnit": 4
   },
   "notebookName": "Zadanie1",
   "widgets": {}
  }
 },
 "nbformat": 4,
 "nbformat_minor": 0
}