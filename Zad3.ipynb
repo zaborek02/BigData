{
 "cells": [
  {
   "cell_type": "markdown",
   "metadata": {
    "application/vnd.databricks.v1+cell": {
     "cellMetadata": {},
     "inputWidgets": {},
     "nuid": "172f0bc6-1c0f-440a-9b7d-ae6cd6d9e09a",
     "showTitle": false,
     "tableResultSettingsMap": {},
     "title": ""
    }
   },
   "source": [
    "# Zadanie 3"
   ]
  },
  {
   "cell_type": "code",
   "execution_count": 0,
   "metadata": {
    "application/vnd.databricks.v1+cell": {
     "cellMetadata": {
      "byteLimit": 2048000,
      "rowLimit": 10000
     },
     "inputWidgets": {},
     "nuid": "69a864e3-3031-4e40-b7b4-07f98c61825d",
     "showTitle": false,
     "tableResultSettingsMap": {},
     "title": ""
    }
   },
   "outputs": [
    {
     "output_type": "display_data",
     "data": {
      "text/html": [
       "<style scoped>\n",
       "  .table-result-container {\n",
       "    max-height: 300px;\n",
       "    overflow: auto;\n",
       "  }\n",
       "  table, th, td {\n",
       "    border: 1px solid black;\n",
       "    border-collapse: collapse;\n",
       "  }\n",
       "  th, td {\n",
       "    padding: 5px;\n",
       "  }\n",
       "  th {\n",
       "    text-align: left;\n",
       "  }\n",
       "</style><div class='table-result-container'><table class='table-result'><thead style='background-color: white'><tr><th>AccountId</th><th>TranDate</th><th>TranAmt</th></tr></thead><tbody><tr><td>1</td><td>2011-01-01</td><td>500.0</td></tr><tr><td>1</td><td>2011-01-15</td><td>50.0</td></tr><tr><td>1</td><td>2011-01-22</td><td>250.0</td></tr><tr><td>1</td><td>2011-01-24</td><td>75.0</td></tr><tr><td>1</td><td>2011-01-26</td><td>125.0</td></tr><tr><td>1</td><td>2011-01-28</td><td>175.0</td></tr><tr><td>2</td><td>2011-01-01</td><td>500.0</td></tr><tr><td>2</td><td>2011-01-15</td><td>50.0</td></tr><tr><td>2</td><td>2011-01-22</td><td>25.0</td></tr><tr><td>2</td><td>2011-01-23</td><td>125.0</td></tr><tr><td>2</td><td>2011-01-26</td><td>200.0</td></tr><tr><td>2</td><td>2011-01-29</td><td>250.0</td></tr><tr><td>3</td><td>2011-01-01</td><td>500.0</td></tr><tr><td>3</td><td>2011-01-15</td><td>50.0</td></tr><tr><td>3</td><td>2011-01-22</td><td>5000.0</td></tr><tr><td>3</td><td>2011-01-25</td><td>550.0</td></tr><tr><td>3</td><td>2011-01-27</td><td>95.0</td></tr><tr><td>3</td><td>2011-01-30</td><td>2500.0</td></tr></tbody></table></div>"
      ]
     },
     "metadata": {
      "application/vnd.databricks.v1+output": {
       "addedWidgets": {},
       "aggData": [],
       "aggError": "",
       "aggOverflow": false,
       "aggSchema": [],
       "aggSeriesLimitReached": false,
       "aggType": "",
       "arguments": {},
       "columnCustomDisplayInfos": {},
       "data": [
        [
         1,
         "2011-01-01",
         500.0
        ],
        [
         1,
         "2011-01-15",
         50.0
        ],
        [
         1,
         "2011-01-22",
         250.0
        ],
        [
         1,
         "2011-01-24",
         75.0
        ],
        [
         1,
         "2011-01-26",
         125.0
        ],
        [
         1,
         "2011-01-28",
         175.0
        ],
        [
         2,
         "2011-01-01",
         500.0
        ],
        [
         2,
         "2011-01-15",
         50.0
        ],
        [
         2,
         "2011-01-22",
         25.0
        ],
        [
         2,
         "2011-01-23",
         125.0
        ],
        [
         2,
         "2011-01-26",
         200.0
        ],
        [
         2,
         "2011-01-29",
         250.0
        ],
        [
         3,
         "2011-01-01",
         500.0
        ],
        [
         3,
         "2011-01-15",
         50.0
        ],
        [
         3,
         "2011-01-22",
         5000.0
        ],
        [
         3,
         "2011-01-25",
         550.0
        ],
        [
         3,
         "2011-01-27",
         95.0
        ],
        [
         3,
         "2011-01-30",
         2500.0
        ]
       ],
       "datasetInfos": [],
       "dbfsResultPath": null,
       "isJsonSchema": true,
       "metadata": {},
       "overflow": false,
       "plotOptions": {
        "customPlotOptions": {},
        "displayType": "table",
        "pivotAggregation": null,
        "pivotColumns": null,
        "xColumns": null,
        "yColumns": null
       },
       "removedWidgets": [],
       "schema": [
        {
         "metadata": "{}",
         "name": "AccountId",
         "type": "\"long\""
        },
        {
         "metadata": "{}",
         "name": "TranDate",
         "type": "\"date\""
        },
        {
         "metadata": "{}",
         "name": "TranAmt",
         "type": "\"double\""
        }
       ],
       "type": "table"
      }
     },
     "output_type": "display_data"
    }
   ],
   "source": [
    "from pyspark.sql.types import *\n",
    "from pyspark.sql.functions import to_date, col\n",
    "\n",
    "transactions = spark.createDataFrame([\n",
    "    ( 1, '2011-01-01', 500),\n",
    "    ( 1, '2011-01-15', 50),\n",
    "    ( 1, '2011-01-22', 250),\n",
    "    ( 1, '2011-01-24', 75),\n",
    "    ( 1, '2011-01-26', 125),\n",
    "    ( 1, '2011-01-28', 175),\n",
    "    ( 2, '2011-01-01', 500),\n",
    "    ( 2, '2011-01-15', 50),\n",
    "    ( 2, '2011-01-22', 25),\n",
    "    ( 2, '2011-01-23', 125),\n",
    "    ( 2, '2011-01-26', 200),\n",
    "    ( 2, '2011-01-29', 250),\n",
    "    ( 3, '2011-01-01', 500),\n",
    "    ( 3, '2011-01-15', 50 ),\n",
    "    ( 3, '2011-01-22', 5000),\n",
    "    ( 3, '2011-01-25', 550),\n",
    "    ( 3, '2011-01-27', 95 ),\n",
    "    ( 3, '2011-01-30', 2500)],\n",
    "    ['AccountId', 'TranDate', 'TranAmt'])\n",
    "\n",
    "transactions = transactions.withColumn(\"TranDate\", to_date(\"TranDate\"))\\\n",
    "    .withColumn(\"TranAmt\", col(\"TranAmt\").cast(DoubleType()))\n",
    "\n",
    "display(transactions)"
   ]
  },
  {
   "cell_type": "code",
   "execution_count": 0,
   "metadata": {
    "application/vnd.databricks.v1+cell": {
     "cellMetadata": {
      "byteLimit": 2048000,
      "rowLimit": 10000
     },
     "inputWidgets": {},
     "nuid": "46355007-a564-4b42-a4e5-62b8dc351b0a",
     "showTitle": false,
     "tableResultSettingsMap": {},
     "title": ""
    }
   },
   "outputs": [
    {
     "output_type": "display_data",
     "data": {
      "text/html": [
       "<style scoped>\n",
       "  .table-result-container {\n",
       "    max-height: 300px;\n",
       "    overflow: auto;\n",
       "  }\n",
       "  table, th, td {\n",
       "    border: 1px solid black;\n",
       "    border-collapse: collapse;\n",
       "  }\n",
       "  th, td {\n",
       "    padding: 5px;\n",
       "  }\n",
       "  th {\n",
       "    text-align: left;\n",
       "  }\n",
       "</style><div class='table-result-container'><table class='table-result'><thead style='background-color: white'><tr><th>RowID</th><th>FName</th><th>Salary</th></tr></thead><tbody><tr><td>1</td><td>George</td><td>800</td></tr><tr><td>2</td><td>Sam</td><td>950</td></tr><tr><td>3</td><td>Diane</td><td>1100</td></tr><tr><td>4</td><td>Nicholas</td><td>1250</td></tr><tr><td>5</td><td>Samuel</td><td>1250</td></tr><tr><td>6</td><td>Patricia</td><td>1300</td></tr><tr><td>7</td><td>Brian</td><td>1500</td></tr><tr><td>8</td><td>Thomas</td><td>1600</td></tr><tr><td>9</td><td>Fran</td><td>2450</td></tr><tr><td>10</td><td>Debbie</td><td>2850</td></tr><tr><td>11</td><td>Mark</td><td>2975</td></tr><tr><td>12</td><td>James</td><td>3000</td></tr><tr><td>13</td><td>Cynthia</td><td>3000</td></tr><tr><td>14</td><td>Christopher</td><td>5000</td></tr></tbody></table></div>"
      ]
     },
     "metadata": {
      "application/vnd.databricks.v1+output": {
       "addedWidgets": {},
       "aggData": [],
       "aggError": "",
       "aggOverflow": false,
       "aggSchema": [],
       "aggSeriesLimitReached": false,
       "aggType": "",
       "arguments": {},
       "columnCustomDisplayInfos": {},
       "data": [
        [
         1,
         "George",
         800
        ],
        [
         2,
         "Sam",
         950
        ],
        [
         3,
         "Diane",
         1100
        ],
        [
         4,
         "Nicholas",
         1250
        ],
        [
         5,
         "Samuel",
         1250
        ],
        [
         6,
         "Patricia",
         1300
        ],
        [
         7,
         "Brian",
         1500
        ],
        [
         8,
         "Thomas",
         1600
        ],
        [
         9,
         "Fran",
         2450
        ],
        [
         10,
         "Debbie",
         2850
        ],
        [
         11,
         "Mark",
         2975
        ],
        [
         12,
         "James",
         3000
        ],
        [
         13,
         "Cynthia",
         3000
        ],
        [
         14,
         "Christopher",
         5000
        ]
       ],
       "datasetInfos": [],
       "dbfsResultPath": null,
       "isJsonSchema": true,
       "metadata": {},
       "overflow": false,
       "plotOptions": {
        "customPlotOptions": {},
        "displayType": "table",
        "pivotAggregation": null,
        "pivotColumns": null,
        "xColumns": null,
        "yColumns": null
       },
       "removedWidgets": [],
       "schema": [
        {
         "metadata": "{}",
         "name": "RowID",
         "type": "\"long\""
        },
        {
         "metadata": "{}",
         "name": "FName",
         "type": "\"string\""
        },
        {
         "metadata": "{}",
         "name": "Salary",
         "type": "\"short\""
        }
       ],
       "type": "table"
      }
     },
     "output_type": "display_data"
    }
   ],
   "source": [
    "logical = spark.createDataFrame([\n",
    "    (1,'George', 800),\n",
    "    (2,'Sam', 950),\n",
    "    (3,'Diane', 1100),\n",
    "    (4,'Nicholas', 1250),\n",
    "    (5,'Samuel', 1250),\n",
    "    (6,'Patricia', 1300),\n",
    "    (7,'Brian', 1500),\n",
    "    (8,'Thomas', 1600),\n",
    "    (9,'Fran', 2450),\n",
    "    (10,'Debbie', 2850),\n",
    "    (11,'Mark', 2975),\n",
    "    (12,'James', 3000),\n",
    "    (13,'Cynthia', 3000),\n",
    "    (14,'Christopher', 5000)\n",
    "], [\"RowID\", \"FName\", \"Salary\"])\n",
    "\n",
    "logical = logical.withColumn(\"Salary\", col(\"Salary\").cast(ShortType()))\n",
    "\n",
    "display(logical)"
   ]
  },
  {
   "cell_type": "code",
   "execution_count": 0,
   "metadata": {
    "application/vnd.databricks.v1+cell": {
     "cellMetadata": {
      "byteLimit": 2048000,
      "rowLimit": 10000
     },
     "inputWidgets": {},
     "nuid": "de241ca6-55c0-4a89-9761-82b088f45dba",
     "showTitle": false,
     "tableResultSettingsMap": {},
     "title": ""
    }
   },
   "outputs": [
    {
     "output_type": "display_data",
     "data": {
      "text/html": [
       "<style scoped>\n",
       "  .table-result-container {\n",
       "    max-height: 300px;\n",
       "    overflow: auto;\n",
       "  }\n",
       "  table, th, td {\n",
       "    border: 1px solid black;\n",
       "    border-collapse: collapse;\n",
       "  }\n",
       "  th, td {\n",
       "    padding: 5px;\n",
       "  }\n",
       "  th {\n",
       "    text-align: left;\n",
       "  }\n",
       "</style><div class='table-result-container'><table class='table-result'><thead style='background-color: white'><tr><th>AccountId</th><th>TranDate</th><th>TranAmt</th><th>RunTotalAmt</th></tr></thead><tbody><tr><td>1</td><td>2011-01-01</td><td>500.0</td><td>500.0</td></tr><tr><td>1</td><td>2011-01-15</td><td>50.0</td><td>550.0</td></tr><tr><td>1</td><td>2011-01-22</td><td>250.0</td><td>800.0</td></tr><tr><td>1</td><td>2011-01-24</td><td>75.0</td><td>875.0</td></tr><tr><td>1</td><td>2011-01-26</td><td>125.0</td><td>1000.0</td></tr><tr><td>1</td><td>2011-01-28</td><td>175.0</td><td>1175.0</td></tr><tr><td>2</td><td>2011-01-01</td><td>500.0</td><td>500.0</td></tr><tr><td>2</td><td>2011-01-15</td><td>50.0</td><td>550.0</td></tr><tr><td>2</td><td>2011-01-22</td><td>25.0</td><td>575.0</td></tr><tr><td>2</td><td>2011-01-23</td><td>125.0</td><td>700.0</td></tr><tr><td>2</td><td>2011-01-26</td><td>200.0</td><td>900.0</td></tr><tr><td>2</td><td>2011-01-29</td><td>250.0</td><td>1150.0</td></tr><tr><td>3</td><td>2011-01-01</td><td>500.0</td><td>500.0</td></tr><tr><td>3</td><td>2011-01-15</td><td>50.0</td><td>550.0</td></tr><tr><td>3</td><td>2011-01-22</td><td>5000.0</td><td>5550.0</td></tr><tr><td>3</td><td>2011-01-25</td><td>550.0</td><td>6100.0</td></tr><tr><td>3</td><td>2011-01-27</td><td>95.0</td><td>6195.0</td></tr><tr><td>3</td><td>2011-01-30</td><td>2500.0</td><td>8695.0</td></tr></tbody></table></div>"
      ]
     },
     "metadata": {
      "application/vnd.databricks.v1+output": {
       "addedWidgets": {},
       "aggData": [],
       "aggError": "",
       "aggOverflow": false,
       "aggSchema": [],
       "aggSeriesLimitReached": false,
       "aggType": "",
       "arguments": {},
       "columnCustomDisplayInfos": {},
       "data": [
        [
         1,
         "2011-01-01",
         500.0,
         500.0
        ],
        [
         1,
         "2011-01-15",
         50.0,
         550.0
        ],
        [
         1,
         "2011-01-22",
         250.0,
         800.0
        ],
        [
         1,
         "2011-01-24",
         75.0,
         875.0
        ],
        [
         1,
         "2011-01-26",
         125.0,
         1000.0
        ],
        [
         1,
         "2011-01-28",
         175.0,
         1175.0
        ],
        [
         2,
         "2011-01-01",
         500.0,
         500.0
        ],
        [
         2,
         "2011-01-15",
         50.0,
         550.0
        ],
        [
         2,
         "2011-01-22",
         25.0,
         575.0
        ],
        [
         2,
         "2011-01-23",
         125.0,
         700.0
        ],
        [
         2,
         "2011-01-26",
         200.0,
         900.0
        ],
        [
         2,
         "2011-01-29",
         250.0,
         1150.0
        ],
        [
         3,
         "2011-01-01",
         500.0,
         500.0
        ],
        [
         3,
         "2011-01-15",
         50.0,
         550.0
        ],
        [
         3,
         "2011-01-22",
         5000.0,
         5550.0
        ],
        [
         3,
         "2011-01-25",
         550.0,
         6100.0
        ],
        [
         3,
         "2011-01-27",
         95.0,
         6195.0
        ],
        [
         3,
         "2011-01-30",
         2500.0,
         8695.0
        ]
       ],
       "datasetInfos": [],
       "dbfsResultPath": null,
       "isJsonSchema": true,
       "metadata": {},
       "overflow": false,
       "plotOptions": {
        "customPlotOptions": {},
        "displayType": "table",
        "pivotAggregation": null,
        "pivotColumns": null,
        "xColumns": null,
        "yColumns": null
       },
       "removedWidgets": [],
       "schema": [
        {
         "metadata": "{}",
         "name": "AccountId",
         "type": "\"long\""
        },
        {
         "metadata": "{}",
         "name": "TranDate",
         "type": "\"date\""
        },
        {
         "metadata": "{}",
         "name": "TranAmt",
         "type": "\"double\""
        },
        {
         "metadata": "{}",
         "name": "RunTotalAmt",
         "type": "\"double\""
        }
       ],
       "type": "table"
      }
     },
     "output_type": "display_data"
    }
   ],
   "source": [
    "from pyspark.sql.window import Window\n",
    "from pyspark.sql.functions import avg, count, min as spmin, max as spmax, sum as spsum, row_number\n",
    "\n",
    "runTotAmtDf = transactions.select(\n",
    "    \"AccountId\", \"TranDate\", \"TranAmt\",\n",
    "    spsum(\"TranAmt\").over(\n",
    "        Window.partitionBy(\"AccountID\").orderBy(\"TranDate\")).alias(\"RunTotalAmt\")\n",
    ").orderBy([\"AccountId\", \"TranDate\"], ascending = [True, True])\n",
    "\n",
    "display(runTotAmtDf)"
   ]
  },
  {
   "cell_type": "code",
   "execution_count": 0,
   "metadata": {
    "application/vnd.databricks.v1+cell": {
     "cellMetadata": {
      "byteLimit": 2048000,
      "rowLimit": 10000
     },
     "inputWidgets": {},
     "nuid": "6f85d9f3-7aa1-4f26-9a52-2a9829f46027",
     "showTitle": false,
     "tableResultSettingsMap": {},
     "title": ""
    }
   },
   "outputs": [
    {
     "output_type": "display_data",
     "data": {
      "text/html": [
       "<style scoped>\n",
       "  .table-result-container {\n",
       "    max-height: 300px;\n",
       "    overflow: auto;\n",
       "  }\n",
       "  table, th, td {\n",
       "    border: 1px solid black;\n",
       "    border-collapse: collapse;\n",
       "  }\n",
       "  th, td {\n",
       "    padding: 5px;\n",
       "  }\n",
       "  th {\n",
       "    text-align: left;\n",
       "  }\n",
       "</style><div class='table-result-container'><table class='table-result'><thead style='background-color: white'><tr><th>AccountId</th><th>TranDate</th><th>TranAmt</th><th>RunAvg</th><th>RunTranQty</th><th>RunSmallAmt</th><th>RunLargeAmt</th><th>RunTotalAmt</th></tr></thead><tbody><tr><td>1</td><td>2011-01-01</td><td>500.0</td><td>500.0</td><td>1</td><td>500.0</td><td>500.0</td><td>500.0</td></tr><tr><td>1</td><td>2011-01-15</td><td>50.0</td><td>275.0</td><td>2</td><td>50.0</td><td>500.0</td><td>550.0</td></tr><tr><td>1</td><td>2011-01-22</td><td>250.0</td><td>266.6666666666667</td><td>3</td><td>50.0</td><td>500.0</td><td>800.0</td></tr><tr><td>1</td><td>2011-01-24</td><td>75.0</td><td>218.75</td><td>4</td><td>50.0</td><td>500.0</td><td>875.0</td></tr><tr><td>1</td><td>2011-01-26</td><td>125.0</td><td>200.0</td><td>5</td><td>50.0</td><td>500.0</td><td>1000.0</td></tr><tr><td>1</td><td>2011-01-28</td><td>175.0</td><td>195.83333333333334</td><td>6</td><td>50.0</td><td>500.0</td><td>1175.0</td></tr><tr><td>2</td><td>2011-01-01</td><td>500.0</td><td>500.0</td><td>1</td><td>500.0</td><td>500.0</td><td>500.0</td></tr><tr><td>2</td><td>2011-01-15</td><td>50.0</td><td>275.0</td><td>2</td><td>50.0</td><td>500.0</td><td>550.0</td></tr><tr><td>2</td><td>2011-01-22</td><td>25.0</td><td>191.66666666666666</td><td>3</td><td>25.0</td><td>500.0</td><td>575.0</td></tr><tr><td>2</td><td>2011-01-23</td><td>125.0</td><td>175.0</td><td>4</td><td>25.0</td><td>500.0</td><td>700.0</td></tr><tr><td>2</td><td>2011-01-26</td><td>200.0</td><td>180.0</td><td>5</td><td>25.0</td><td>500.0</td><td>900.0</td></tr><tr><td>2</td><td>2011-01-29</td><td>250.0</td><td>191.66666666666666</td><td>6</td><td>25.0</td><td>500.0</td><td>1150.0</td></tr><tr><td>3</td><td>2011-01-01</td><td>500.0</td><td>500.0</td><td>1</td><td>500.0</td><td>500.0</td><td>500.0</td></tr><tr><td>3</td><td>2011-01-15</td><td>50.0</td><td>275.0</td><td>2</td><td>50.0</td><td>500.0</td><td>550.0</td></tr><tr><td>3</td><td>2011-01-22</td><td>5000.0</td><td>1850.0</td><td>3</td><td>50.0</td><td>5000.0</td><td>5550.0</td></tr><tr><td>3</td><td>2011-01-25</td><td>550.0</td><td>1525.0</td><td>4</td><td>50.0</td><td>5000.0</td><td>6100.0</td></tr><tr><td>3</td><td>2011-01-27</td><td>95.0</td><td>1239.0</td><td>5</td><td>50.0</td><td>5000.0</td><td>6195.0</td></tr><tr><td>3</td><td>2011-01-30</td><td>2500.0</td><td>1449.1666666666667</td><td>6</td><td>50.0</td><td>5000.0</td><td>8695.0</td></tr></tbody></table></div>"
      ]
     },
     "metadata": {
      "application/vnd.databricks.v1+output": {
       "addedWidgets": {},
       "aggData": [],
       "aggError": "",
       "aggOverflow": false,
       "aggSchema": [],
       "aggSeriesLimitReached": false,
       "aggType": "",
       "arguments": {},
       "columnCustomDisplayInfos": {},
       "data": [
        [
         1,
         "2011-01-01",
         500.0,
         500.0,
         1,
         500.0,
         500.0,
         500.0
        ],
        [
         1,
         "2011-01-15",
         50.0,
         275.0,
         2,
         50.0,
         500.0,
         550.0
        ],
        [
         1,
         "2011-01-22",
         250.0,
         266.6666666666667,
         3,
         50.0,
         500.0,
         800.0
        ],
        [
         1,
         "2011-01-24",
         75.0,
         218.75,
         4,
         50.0,
         500.0,
         875.0
        ],
        [
         1,
         "2011-01-26",
         125.0,
         200.0,
         5,
         50.0,
         500.0,
         1000.0
        ],
        [
         1,
         "2011-01-28",
         175.0,
         195.83333333333334,
         6,
         50.0,
         500.0,
         1175.0
        ],
        [
         2,
         "2011-01-01",
         500.0,
         500.0,
         1,
         500.0,
         500.0,
         500.0
        ],
        [
         2,
         "2011-01-15",
         50.0,
         275.0,
         2,
         50.0,
         500.0,
         550.0
        ],
        [
         2,
         "2011-01-22",
         25.0,
         191.66666666666666,
         3,
         25.0,
         500.0,
         575.0
        ],
        [
         2,
         "2011-01-23",
         125.0,
         175.0,
         4,
         25.0,
         500.0,
         700.0
        ],
        [
         2,
         "2011-01-26",
         200.0,
         180.0,
         5,
         25.0,
         500.0,
         900.0
        ],
        [
         2,
         "2011-01-29",
         250.0,
         191.66666666666666,
         6,
         25.0,
         500.0,
         1150.0
        ],
        [
         3,
         "2011-01-01",
         500.0,
         500.0,
         1,
         500.0,
         500.0,
         500.0
        ],
        [
         3,
         "2011-01-15",
         50.0,
         275.0,
         2,
         50.0,
         500.0,
         550.0
        ],
        [
         3,
         "2011-01-22",
         5000.0,
         1850.0,
         3,
         50.0,
         5000.0,
         5550.0
        ],
        [
         3,
         "2011-01-25",
         550.0,
         1525.0,
         4,
         50.0,
         5000.0,
         6100.0
        ],
        [
         3,
         "2011-01-27",
         95.0,
         1239.0,
         5,
         50.0,
         5000.0,
         6195.0
        ],
        [
         3,
         "2011-01-30",
         2500.0,
         1449.1666666666667,
         6,
         50.0,
         5000.0,
         8695.0
        ]
       ],
       "datasetInfos": [],
       "dbfsResultPath": null,
       "isJsonSchema": true,
       "metadata": {},
       "overflow": false,
       "plotOptions": {
        "customPlotOptions": {},
        "displayType": "table",
        "pivotAggregation": null,
        "pivotColumns": null,
        "xColumns": null,
        "yColumns": null
       },
       "removedWidgets": [],
       "schema": [
        {
         "metadata": "{}",
         "name": "AccountId",
         "type": "\"long\""
        },
        {
         "metadata": "{}",
         "name": "TranDate",
         "type": "\"date\""
        },
        {
         "metadata": "{}",
         "name": "TranAmt",
         "type": "\"double\""
        },
        {
         "metadata": "{}",
         "name": "RunAvg",
         "type": "\"double\""
        },
        {
         "metadata": "{}",
         "name": "RunTranQty",
         "type": "\"long\""
        },
        {
         "metadata": "{}",
         "name": "RunSmallAmt",
         "type": "\"double\""
        },
        {
         "metadata": "{}",
         "name": "RunLargeAmt",
         "type": "\"double\""
        },
        {
         "metadata": "{}",
         "name": "RunTotalAmt",
         "type": "\"double\""
        }
       ],
       "type": "table"
      }
     },
     "output_type": "display_data"
    }
   ],
   "source": [
    "win2_df = transactions.select(\n",
    "    \"AccountId\", \"TranDate\", \"TranAmt\",\n",
    "    \n",
    "    avg(\"TranAmt\").over(Window.partitionBy(\"AccountId\").orderBy(\"TranDate\")).alias(\"RunAvg\"),\n",
    "    \n",
    "    count(\"*\").over(Window.partitionBy(\"AccountId\").orderBy(\"TranDate\")).alias(\"RunTranQty\"),\n",
    "\n",
    "    spmin(\"TranAmt\").over(Window.partitionBy(\"AccountId\").orderBy(\"TranDate\")).alias(\"RunSmallAmt\"),\n",
    "\n",
    "    spmax(\"TranAmt\").over(Window.partitionBy(\"AccountId\").orderBy(\"TranDate\")).alias(\"RunLargeAmt\"),\n",
    "\n",
    "    spsum(\"TranAmt\").over(Window.partitionBy(\"AccountId\").orderBy(\"TranDate\")).alias(\"RunTotalAmt\")\n",
    ").orderBy(['AccountId', 'TranDate'], ascending = [True, True])\n",
    "\n",
    "display(win2_df)"
   ]
  },
  {
   "cell_type": "code",
   "execution_count": 0,
   "metadata": {
    "application/vnd.databricks.v1+cell": {
     "cellMetadata": {
      "byteLimit": 2048000,
      "rowLimit": 10000
     },
     "inputWidgets": {},
     "nuid": "2f4c0a47-89d4-4b57-945c-34e23c1fd664",
     "showTitle": false,
     "tableResultSettingsMap": {},
     "title": ""
    }
   },
   "outputs": [
    {
     "output_type": "display_data",
     "data": {
      "text/html": [
       "<style scoped>\n",
       "  .table-result-container {\n",
       "    max-height: 300px;\n",
       "    overflow: auto;\n",
       "  }\n",
       "  table, th, td {\n",
       "    border: 1px solid black;\n",
       "    border-collapse: collapse;\n",
       "  }\n",
       "  th, td {\n",
       "    padding: 5px;\n",
       "  }\n",
       "  th {\n",
       "    text-align: left;\n",
       "  }\n",
       "</style><div class='table-result-container'><table class='table-result'><thead style='background-color: white'><tr><th>AccountId</th><th>TranDate</th><th>TranAmt</th><th>SlideAvg</th><th>SlideQty</th><th>SlideMin</th><th>SlideMax</th><th>SlideTotal</th><th>SlideAvg</th><th>RN</th></tr></thead><tbody><tr><td>1</td><td>2011-01-01</td><td>500.0</td><td>500.0</td><td>1</td><td>500.0</td><td>500.0</td><td>500.0</td><td>500.0</td><td>1</td></tr><tr><td>1</td><td>2011-01-15</td><td>50.0</td><td>275.0</td><td>2</td><td>50.0</td><td>500.0</td><td>550.0</td><td>275.0</td><td>2</td></tr><tr><td>1</td><td>2011-01-22</td><td>250.0</td><td>266.6666666666667</td><td>3</td><td>50.0</td><td>500.0</td><td>800.0</td><td>266.6666666666667</td><td>3</td></tr><tr><td>1</td><td>2011-01-24</td><td>75.0</td><td>125.0</td><td>3</td><td>50.0</td><td>250.0</td><td>375.0</td><td>125.0</td><td>4</td></tr><tr><td>1</td><td>2011-01-26</td><td>125.0</td><td>150.0</td><td>3</td><td>75.0</td><td>250.0</td><td>450.0</td><td>150.0</td><td>5</td></tr><tr><td>1</td><td>2011-01-28</td><td>175.0</td><td>125.0</td><td>3</td><td>75.0</td><td>175.0</td><td>375.0</td><td>125.0</td><td>6</td></tr><tr><td>2</td><td>2011-01-01</td><td>500.0</td><td>500.0</td><td>1</td><td>500.0</td><td>500.0</td><td>500.0</td><td>500.0</td><td>1</td></tr><tr><td>2</td><td>2011-01-15</td><td>50.0</td><td>275.0</td><td>2</td><td>50.0</td><td>500.0</td><td>550.0</td><td>275.0</td><td>2</td></tr><tr><td>2</td><td>2011-01-22</td><td>25.0</td><td>191.66666666666666</td><td>3</td><td>25.0</td><td>500.0</td><td>575.0</td><td>191.66666666666666</td><td>3</td></tr><tr><td>2</td><td>2011-01-23</td><td>125.0</td><td>66.66666666666667</td><td>3</td><td>25.0</td><td>125.0</td><td>200.0</td><td>66.66666666666667</td><td>4</td></tr><tr><td>2</td><td>2011-01-26</td><td>200.0</td><td>116.66666666666667</td><td>3</td><td>25.0</td><td>200.0</td><td>350.0</td><td>116.66666666666667</td><td>5</td></tr><tr><td>2</td><td>2011-01-29</td><td>250.0</td><td>191.66666666666666</td><td>3</td><td>125.0</td><td>250.0</td><td>575.0</td><td>191.66666666666666</td><td>6</td></tr><tr><td>3</td><td>2011-01-01</td><td>500.0</td><td>500.0</td><td>1</td><td>500.0</td><td>500.0</td><td>500.0</td><td>500.0</td><td>1</td></tr><tr><td>3</td><td>2011-01-15</td><td>50.0</td><td>275.0</td><td>2</td><td>50.0</td><td>500.0</td><td>550.0</td><td>275.0</td><td>2</td></tr><tr><td>3</td><td>2011-01-22</td><td>5000.0</td><td>1850.0</td><td>3</td><td>50.0</td><td>5000.0</td><td>5550.0</td><td>1850.0</td><td>3</td></tr><tr><td>3</td><td>2011-01-25</td><td>550.0</td><td>1866.6666666666667</td><td>3</td><td>50.0</td><td>5000.0</td><td>5600.0</td><td>1866.6666666666667</td><td>4</td></tr><tr><td>3</td><td>2011-01-27</td><td>95.0</td><td>1881.6666666666667</td><td>3</td><td>95.0</td><td>5000.0</td><td>5645.0</td><td>1881.6666666666667</td><td>5</td></tr><tr><td>3</td><td>2011-01-30</td><td>2500.0</td><td>1048.3333333333333</td><td>3</td><td>95.0</td><td>2500.0</td><td>3145.0</td><td>1048.3333333333333</td><td>6</td></tr></tbody></table></div>"
      ]
     },
     "metadata": {
      "application/vnd.databricks.v1+output": {
       "addedWidgets": {},
       "aggData": [],
       "aggError": "",
       "aggOverflow": false,
       "aggSchema": [],
       "aggSeriesLimitReached": false,
       "aggType": "",
       "arguments": {},
       "columnCustomDisplayInfos": {},
       "data": [
        [
         1,
         "2011-01-01",
         500.0,
         500.0,
         1,
         500.0,
         500.0,
         500.0,
         500.0,
         1
        ],
        [
         1,
         "2011-01-15",
         50.0,
         275.0,
         2,
         50.0,
         500.0,
         550.0,
         275.0,
         2
        ],
        [
         1,
         "2011-01-22",
         250.0,
         266.6666666666667,
         3,
         50.0,
         500.0,
         800.0,
         266.6666666666667,
         3
        ],
        [
         1,
         "2011-01-24",
         75.0,
         125.0,
         3,
         50.0,
         250.0,
         375.0,
         125.0,
         4
        ],
        [
         1,
         "2011-01-26",
         125.0,
         150.0,
         3,
         75.0,
         250.0,
         450.0,
         150.0,
         5
        ],
        [
         1,
         "2011-01-28",
         175.0,
         125.0,
         3,
         75.0,
         175.0,
         375.0,
         125.0,
         6
        ],
        [
         2,
         "2011-01-01",
         500.0,
         500.0,
         1,
         500.0,
         500.0,
         500.0,
         500.0,
         1
        ],
        [
         2,
         "2011-01-15",
         50.0,
         275.0,
         2,
         50.0,
         500.0,
         550.0,
         275.0,
         2
        ],
        [
         2,
         "2011-01-22",
         25.0,
         191.66666666666666,
         3,
         25.0,
         500.0,
         575.0,
         191.66666666666666,
         3
        ],
        [
         2,
         "2011-01-23",
         125.0,
         66.66666666666667,
         3,
         25.0,
         125.0,
         200.0,
         66.66666666666667,
         4
        ],
        [
         2,
         "2011-01-26",
         200.0,
         116.66666666666667,
         3,
         25.0,
         200.0,
         350.0,
         116.66666666666667,
         5
        ],
        [
         2,
         "2011-01-29",
         250.0,
         191.66666666666666,
         3,
         125.0,
         250.0,
         575.0,
         191.66666666666666,
         6
        ],
        [
         3,
         "2011-01-01",
         500.0,
         500.0,
         1,
         500.0,
         500.0,
         500.0,
         500.0,
         1
        ],
        [
         3,
         "2011-01-15",
         50.0,
         275.0,
         2,
         50.0,
         500.0,
         550.0,
         275.0,
         2
        ],
        [
         3,
         "2011-01-22",
         5000.0,
         1850.0,
         3,
         50.0,
         5000.0,
         5550.0,
         1850.0,
         3
        ],
        [
         3,
         "2011-01-25",
         550.0,
         1866.6666666666667,
         3,
         50.0,
         5000.0,
         5600.0,
         1866.6666666666667,
         4
        ],
        [
         3,
         "2011-01-27",
         95.0,
         1881.6666666666667,
         3,
         95.0,
         5000.0,
         5645.0,
         1881.6666666666667,
         5
        ],
        [
         3,
         "2011-01-30",
         2500.0,
         1048.3333333333333,
         3,
         95.0,
         2500.0,
         3145.0,
         1048.3333333333333,
         6
        ]
       ],
       "datasetInfos": [],
       "dbfsResultPath": null,
       "isJsonSchema": true,
       "metadata": {},
       "overflow": false,
       "plotOptions": {
        "customPlotOptions": {},
        "displayType": "table",
        "pivotAggregation": null,
        "pivotColumns": null,
        "xColumns": null,
        "yColumns": null
       },
       "removedWidgets": [],
       "schema": [
        {
         "metadata": "{}",
         "name": "AccountId",
         "type": "\"long\""
        },
        {
         "metadata": "{}",
         "name": "TranDate",
         "type": "\"date\""
        },
        {
         "metadata": "{}",
         "name": "TranAmt",
         "type": "\"double\""
        },
        {
         "metadata": "{}",
         "name": "SlideAvg",
         "type": "\"double\""
        },
        {
         "metadata": "{}",
         "name": "SlideQty",
         "type": "\"long\""
        },
        {
         "metadata": "{}",
         "name": "SlideMin",
         "type": "\"double\""
        },
        {
         "metadata": "{}",
         "name": "SlideMax",
         "type": "\"double\""
        },
        {
         "metadata": "{}",
         "name": "SlideTotal",
         "type": "\"double\""
        },
        {
         "metadata": "{}",
         "name": "SlideAvg",
         "type": "\"double\""
        },
        {
         "metadata": "{}",
         "name": "RN",
         "type": "\"integer\""
        }
       ],
       "type": "table"
      }
     },
     "output_type": "display_data"
    }
   ],
   "source": [
    "win_spec = Window.partitionBy(\"AccountId\")\\\n",
    "    .orderBy(\"TranDate\")\\\n",
    "    .rowsBetween(-2, Window.currentRow)\n",
    "\n",
    "win3_df = transactions.select(\n",
    "    \"AccountId\", \"TranDate\", \"TranAmt\",\n",
    "\n",
    "    avg(\"TranAmt\").over(win_spec).alias(\"SlideAvg\"),\n",
    "\n",
    "    count(\"TranAmt\").over(win_spec).alias(\"SlideQty\"),\n",
    "\n",
    "    spmin(\"TranAmt\").over(win_spec).alias(\"SlideMin\"),\n",
    "\n",
    "    spmax(\"TranAmt\").over(win_spec).alias(\"SlideMax\"),\n",
    "\n",
    "    spsum(\"TranAmt\").over(win_spec).alias(\"SlideTotal\"),\n",
    "\n",
    "    avg(\"TranAmt\").over(win_spec).alias(\"SlideAvg\"),\n",
    "\n",
    "    row_number().over(Window.partitionBy(\"AccountId\").orderBy(\"TranDate\")).alias(\"RN\")\n",
    ").orderBy([\"AccountId\", \"TranDate\", \"RN\"], ascending = [True, True, True])\n",
    "\n",
    "display(win3_df)"
   ]
  },
  {
   "cell_type": "code",
   "execution_count": 0,
   "metadata": {
    "application/vnd.databricks.v1+cell": {
     "cellMetadata": {
      "byteLimit": 2048000,
      "rowLimit": 10000
     },
     "inputWidgets": {},
     "nuid": "b8b8cf91-5cee-45dd-acba-aefdd88e9327",
     "showTitle": false,
     "tableResultSettingsMap": {},
     "title": ""
    }
   },
   "outputs": [
    {
     "output_type": "display_data",
     "data": {
      "text/html": [
       "<style scoped>\n",
       "  .table-result-container {\n",
       "    max-height: 300px;\n",
       "    overflow: auto;\n",
       "  }\n",
       "  table, th, td {\n",
       "    border: 1px solid black;\n",
       "    border-collapse: collapse;\n",
       "  }\n",
       "  th, td {\n",
       "    padding: 5px;\n",
       "  }\n",
       "  th {\n",
       "    text-align: left;\n",
       "  }\n",
       "</style><div class='table-result-container'><table class='table-result'><thead style='background-color: white'><tr><th>RowID</th><th>FName</th><th>Salary</th><th>SumByRows</th><th>SumByRange</th></tr></thead><tbody><tr><td>1</td><td>George</td><td>800</td><td>800</td><td>800</td></tr><tr><td>2</td><td>Sam</td><td>950</td><td>1750</td><td>1750</td></tr><tr><td>3</td><td>Diane</td><td>1100</td><td>2850</td><td>2850</td></tr><tr><td>4</td><td>Nicholas</td><td>1250</td><td>4100</td><td>5350</td></tr><tr><td>5</td><td>Samuel</td><td>1250</td><td>5350</td><td>5350</td></tr><tr><td>6</td><td>Patricia</td><td>1300</td><td>6650</td><td>6650</td></tr><tr><td>7</td><td>Brian</td><td>1500</td><td>8150</td><td>8150</td></tr><tr><td>8</td><td>Thomas</td><td>1600</td><td>9750</td><td>9750</td></tr><tr><td>9</td><td>Fran</td><td>2450</td><td>12200</td><td>12200</td></tr><tr><td>10</td><td>Debbie</td><td>2850</td><td>15050</td><td>15050</td></tr><tr><td>11</td><td>Mark</td><td>2975</td><td>18025</td><td>18025</td></tr><tr><td>12</td><td>James</td><td>3000</td><td>21025</td><td>24025</td></tr><tr><td>13</td><td>Cynthia</td><td>3000</td><td>24025</td><td>24025</td></tr><tr><td>14</td><td>Christopher</td><td>5000</td><td>29025</td><td>29025</td></tr></tbody></table></div>"
      ]
     },
     "metadata": {
      "application/vnd.databricks.v1+output": {
       "addedWidgets": {},
       "aggData": [],
       "aggError": "",
       "aggOverflow": false,
       "aggSchema": [],
       "aggSeriesLimitReached": false,
       "aggType": "",
       "arguments": {},
       "columnCustomDisplayInfos": {},
       "data": [
        [
         1,
         "George",
         800,
         800,
         800
        ],
        [
         2,
         "Sam",
         950,
         1750,
         1750
        ],
        [
         3,
         "Diane",
         1100,
         2850,
         2850
        ],
        [
         4,
         "Nicholas",
         1250,
         4100,
         5350
        ],
        [
         5,
         "Samuel",
         1250,
         5350,
         5350
        ],
        [
         6,
         "Patricia",
         1300,
         6650,
         6650
        ],
        [
         7,
         "Brian",
         1500,
         8150,
         8150
        ],
        [
         8,
         "Thomas",
         1600,
         9750,
         9750
        ],
        [
         9,
         "Fran",
         2450,
         12200,
         12200
        ],
        [
         10,
         "Debbie",
         2850,
         15050,
         15050
        ],
        [
         11,
         "Mark",
         2975,
         18025,
         18025
        ],
        [
         12,
         "James",
         3000,
         21025,
         24025
        ],
        [
         13,
         "Cynthia",
         3000,
         24025,
         24025
        ],
        [
         14,
         "Christopher",
         5000,
         29025,
         29025
        ]
       ],
       "datasetInfos": [],
       "dbfsResultPath": null,
       "isJsonSchema": true,
       "metadata": {},
       "overflow": false,
       "plotOptions": {
        "customPlotOptions": {},
        "displayType": "table",
        "pivotAggregation": null,
        "pivotColumns": null,
        "xColumns": null,
        "yColumns": null
       },
       "removedWidgets": [],
       "schema": [
        {
         "metadata": "{}",
         "name": "RowID",
         "type": "\"long\""
        },
        {
         "metadata": "{}",
         "name": "FName",
         "type": "\"string\""
        },
        {
         "metadata": "{}",
         "name": "Salary",
         "type": "\"short\""
        },
        {
         "metadata": "{}",
         "name": "SumByRows",
         "type": "\"long\""
        },
        {
         "metadata": "{}",
         "name": "SumByRange",
         "type": "\"long\""
        }
       ],
       "type": "table"
      }
     },
     "output_type": "display_data"
    }
   ],
   "source": [
    "win4_df = logical.select(\n",
    "    \"RowID\", \"FName\", \"Salary\",\n",
    "\n",
    "    spsum(\"Salary\").over(Window.orderBy(\"Salary\").rowsBetween(Window.unboundedPreceding, Window.currentRow)).alias(\"SumByRows\"),\n",
    "\n",
    "    spsum(\"Salary\").over(Window.orderBy(\"Salary\").rangeBetween(Window.unboundedPreceding, Window.currentRow)).alias(\"SumByRange\")\n",
    ").orderBy(\"RowID\")\n",
    "\n",
    "display(win4_df)"
   ]
  },
  {
   "cell_type": "code",
   "execution_count": 0,
   "metadata": {
    "application/vnd.databricks.v1+cell": {
     "cellMetadata": {
      "byteLimit": 2048000,
      "rowLimit": 10000
     },
     "inputWidgets": {},
     "nuid": "2535eccf-2981-4715-9d44-24007e66065c",
     "showTitle": false,
     "tableResultSettingsMap": {},
     "title": ""
    }
   },
   "outputs": [
    {
     "output_type": "display_data",
     "data": {
      "text/html": [
       "<style scoped>\n",
       "  .table-result-container {\n",
       "    max-height: 300px;\n",
       "    overflow: auto;\n",
       "  }\n",
       "  table, th, td {\n",
       "    border: 1px solid black;\n",
       "    border-collapse: collapse;\n",
       "  }\n",
       "  th, td {\n",
       "    padding: 5px;\n",
       "  }\n",
       "  th {\n",
       "    text-align: left;\n",
       "  }\n",
       "</style><div class='table-result-container'><table class='table-result'><thead style='background-color: white'><tr><th>AccountId</th><th>TranDate</th><th>TranAmt</th><th>TwoLead</th><th>OneLag</th><th>FirstValue</th><th>LastValue</th><th>RowNumber</th></tr></thead><tbody><tr><td>1</td><td>2011-01-01</td><td>500.0</td><td>250.0</td><td>0.0</td><td>500.0</td><td>500.0</td><td>1</td></tr><tr><td>1</td><td>2011-01-15</td><td>50.0</td><td>75.0</td><td>500.0</td><td>500.0</td><td>50.0</td><td>2</td></tr><tr><td>1</td><td>2011-01-22</td><td>250.0</td><td>125.0</td><td>50.0</td><td>500.0</td><td>250.0</td><td>3</td></tr><tr><td>1</td><td>2011-01-24</td><td>75.0</td><td>175.0</td><td>250.0</td><td>500.0</td><td>75.0</td><td>4</td></tr><tr><td>1</td><td>2011-01-26</td><td>125.0</td><td>0.0</td><td>75.0</td><td>500.0</td><td>125.0</td><td>5</td></tr><tr><td>1</td><td>2011-01-28</td><td>175.0</td><td>0.0</td><td>125.0</td><td>500.0</td><td>175.0</td><td>6</td></tr><tr><td>2</td><td>2011-01-01</td><td>500.0</td><td>25.0</td><td>0.0</td><td>500.0</td><td>500.0</td><td>1</td></tr><tr><td>2</td><td>2011-01-15</td><td>50.0</td><td>125.0</td><td>500.0</td><td>500.0</td><td>50.0</td><td>2</td></tr><tr><td>2</td><td>2011-01-22</td><td>25.0</td><td>200.0</td><td>50.0</td><td>500.0</td><td>25.0</td><td>3</td></tr><tr><td>2</td><td>2011-01-23</td><td>125.0</td><td>250.0</td><td>25.0</td><td>500.0</td><td>125.0</td><td>4</td></tr><tr><td>2</td><td>2011-01-26</td><td>200.0</td><td>0.0</td><td>125.0</td><td>500.0</td><td>200.0</td><td>5</td></tr><tr><td>2</td><td>2011-01-29</td><td>250.0</td><td>0.0</td><td>200.0</td><td>500.0</td><td>250.0</td><td>6</td></tr><tr><td>3</td><td>2011-01-01</td><td>500.0</td><td>5000.0</td><td>0.0</td><td>500.0</td><td>500.0</td><td>1</td></tr><tr><td>3</td><td>2011-01-15</td><td>50.0</td><td>550.0</td><td>500.0</td><td>500.0</td><td>50.0</td><td>2</td></tr><tr><td>3</td><td>2011-01-22</td><td>5000.0</td><td>95.0</td><td>50.0</td><td>500.0</td><td>5000.0</td><td>3</td></tr><tr><td>3</td><td>2011-01-25</td><td>550.0</td><td>2500.0</td><td>5000.0</td><td>500.0</td><td>550.0</td><td>4</td></tr><tr><td>3</td><td>2011-01-27</td><td>95.0</td><td>0.0</td><td>550.0</td><td>500.0</td><td>95.0</td><td>5</td></tr><tr><td>3</td><td>2011-01-30</td><td>2500.0</td><td>0.0</td><td>95.0</td><td>500.0</td><td>2500.0</td><td>6</td></tr></tbody></table></div>"
      ]
     },
     "metadata": {
      "application/vnd.databricks.v1+output": {
       "addedWidgets": {},
       "aggData": [],
       "aggError": "",
       "aggOverflow": false,
       "aggSchema": [],
       "aggSeriesLimitReached": false,
       "aggType": "",
       "arguments": {},
       "columnCustomDisplayInfos": {},
       "data": [
        [
         1,
         "2011-01-01",
         500.0,
         250.0,
         0.0,
         500.0,
         500.0,
         1
        ],
        [
         1,
         "2011-01-15",
         50.0,
         75.0,
         500.0,
         500.0,
         50.0,
         2
        ],
        [
         1,
         "2011-01-22",
         250.0,
         125.0,
         50.0,
         500.0,
         250.0,
         3
        ],
        [
         1,
         "2011-01-24",
         75.0,
         175.0,
         250.0,
         500.0,
         75.0,
         4
        ],
        [
         1,
         "2011-01-26",
         125.0,
         0.0,
         75.0,
         500.0,
         125.0,
         5
        ],
        [
         1,
         "2011-01-28",
         175.0,
         0.0,
         125.0,
         500.0,
         175.0,
         6
        ],
        [
         2,
         "2011-01-01",
         500.0,
         25.0,
         0.0,
         500.0,
         500.0,
         1
        ],
        [
         2,
         "2011-01-15",
         50.0,
         125.0,
         500.0,
         500.0,
         50.0,
         2
        ],
        [
         2,
         "2011-01-22",
         25.0,
         200.0,
         50.0,
         500.0,
         25.0,
         3
        ],
        [
         2,
         "2011-01-23",
         125.0,
         250.0,
         25.0,
         500.0,
         125.0,
         4
        ],
        [
         2,
         "2011-01-26",
         200.0,
         0.0,
         125.0,
         500.0,
         200.0,
         5
        ],
        [
         2,
         "2011-01-29",
         250.0,
         0.0,
         200.0,
         500.0,
         250.0,
         6
        ],
        [
         3,
         "2011-01-01",
         500.0,
         5000.0,
         0.0,
         500.0,
         500.0,
         1
        ],
        [
         3,
         "2011-01-15",
         50.0,
         550.0,
         500.0,
         500.0,
         50.0,
         2
        ],
        [
         3,
         "2011-01-22",
         5000.0,
         95.0,
         50.0,
         500.0,
         5000.0,
         3
        ],
        [
         3,
         "2011-01-25",
         550.0,
         2500.0,
         5000.0,
         500.0,
         550.0,
         4
        ],
        [
         3,
         "2011-01-27",
         95.0,
         0.0,
         550.0,
         500.0,
         95.0,
         5
        ],
        [
         3,
         "2011-01-30",
         2500.0,
         0.0,
         95.0,
         500.0,
         2500.0,
         6
        ]
       ],
       "datasetInfos": [],
       "dbfsResultPath": null,
       "isJsonSchema": true,
       "metadata": {},
       "overflow": false,
       "plotOptions": {
        "customPlotOptions": {},
        "displayType": "table",
        "pivotAggregation": null,
        "pivotColumns": null,
        "xColumns": null,
        "yColumns": null
       },
       "removedWidgets": [],
       "schema": [
        {
         "metadata": "{}",
         "name": "AccountId",
         "type": "\"long\""
        },
        {
         "metadata": "{}",
         "name": "TranDate",
         "type": "\"date\""
        },
        {
         "metadata": "{}",
         "name": "TranAmt",
         "type": "\"double\""
        },
        {
         "metadata": "{}",
         "name": "TwoLead",
         "type": "\"double\""
        },
        {
         "metadata": "{}",
         "name": "OneLag",
         "type": "\"double\""
        },
        {
         "metadata": "{}",
         "name": "FirstValue",
         "type": "\"double\""
        },
        {
         "metadata": "{}",
         "name": "LastValue",
         "type": "\"double\""
        },
        {
         "metadata": "{}",
         "name": "RowNumber",
         "type": "\"integer\""
        }
       ],
       "type": "table"
      }
     },
     "output_type": "display_data"
    }
   ],
   "source": [
    "from pyspark.sql.window import Window\n",
    "from pyspark.sql.functions import lead, lag, row_number, first, last, col\n",
    "\n",
    "# Okno partycjonowane po AccountId i posortowane po dacie\n",
    "win_spec2 = Window.partitionBy(\"AccountId\").orderBy(\"TranDate\")\n",
    "\n",
    "# Zastosowanie funkcji okienkowych\n",
    "win5Df = transactions.select(\n",
    "    \"AccountId\", \"TranDate\", \"TranAmt\",\n",
    "    lead(\"TranAmt\", 2, 0).over(win_spec2).alias(\"TwoLead\"),\n",
    "    lag(\"TranAmt\", 1, 0).over(win_spec2).alias(\"OneLag\"),\n",
    "    first(\"TranAmt\").over(win_spec2).alias(\"FirstValue\"),\n",
    "    last(\"TranAmt\").over(win_spec2).alias(\"LastValue\"),\n",
    "    row_number().over(win_spec2).alias(\"RowNumber\")\n",
    ")\n",
    "\n",
    "display(win5Df)\n"
   ]
  }
 ],
 "metadata": {
  "application/vnd.databricks.v1+notebook": {
   "computePreferences": null,
   "dashboards": [],
   "environmentMetadata": {
    "base_environment": "",
    "environment_version": "1"
   },
   "inputWidgetPreferences": null,
   "language": "python",
   "notebookMetadata": {
    "pythonIndentUnit": 4
   },
   "notebookName": "Zad3",
   "widgets": {}
  }
 },
 "nbformat": 4,
 "nbformat_minor": 0
}