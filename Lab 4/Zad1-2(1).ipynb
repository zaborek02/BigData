{
 "cells": [
  {
   "cell_type": "markdown",
   "metadata": {
    "application/vnd.databricks.v1+cell": {
     "cellMetadata": {
      "byteLimit": 2048000,
      "rowLimit": 10000
     },
     "inputWidgets": {},
     "nuid": "d7171cb2-977f-4b90-a2c4-58ec8751c97a",
     "showTitle": false,
     "tableResultSettingsMap": {},
     "title": ""
    }
   },
   "source": [
    "# Lab4\n",
    "## Zad 1"
   ]
  },
  {
   "cell_type": "code",
   "execution_count": 0,
   "metadata": {
    "application/vnd.databricks.v1+cell": {
     "cellMetadata": {
      "byteLimit": 2048000,
      "rowLimit": 10000
     },
     "inputWidgets": {},
     "nuid": "ab8a9439-9912-47c3-b458-a1b7479191cd",
     "showTitle": false,
     "tableResultSettingsMap": {},
     "title": ""
    }
   },
   "outputs": [
    {
     "output_type": "stream",
     "name": "stdout",
     "output_type": "stream",
     "text": [
      "+-------+--------+-------------------+--------------------+--------------+-------------------+--------------------+------------+------+---------------+--------+\n|Trip ID|Duration|         Start Date|       Start Station|Start Terminal|           End Date|         End Station|End Terminal|Bike #|Subscriber Type|Zip Code|\n+-------+--------+-------------------+--------------------+--------------+-------------------+--------------------+------------+------+---------------+--------+\n| 913460|     765|2015-08-31 23:26:00|Harry Bridges Pla...|            50|2015-08-31 23:39:00|San Francisco Cal...|          70|   288|     Subscriber|    2139|\n| 913459|    1036|2015-08-31 23:11:00|San Antonio Shopp...|            31|2015-08-31 23:28:00|Mountain View Cit...|          27|    35|     Subscriber|   95032|\n| 913455|     307|2015-08-31 23:13:00|      Post at Kearny|            47|2015-08-31 23:18:00|   2nd at South Park|          64|   468|     Subscriber|   94107|\n| 913454|     409|2015-08-31 23:10:00|  San Jose City Hall|            10|2015-08-31 23:17:00| San Salvador at 1st|           8|    68|     Subscriber|   95113|\n| 913453|     789|2015-08-31 23:09:00|Embarcadero at Fo...|            51|2015-08-31 23:22:00|Embarcadero at Sa...|          60|   487|       Customer|    9069|\n| 913452|     293|2015-08-31 23:07:00|Yerba Buena Cente...|            68|2015-08-31 23:12:00|San Francisco Cal...|          70|   538|     Subscriber|   94118|\n| 913451|     896|2015-08-31 23:07:00|Embarcadero at Fo...|            51|2015-08-31 23:22:00|Embarcadero at Sa...|          60|   363|       Customer|   92562|\n| 913450|     255|2015-08-31 22:16:00|Embarcadero at Sa...|            60|2015-08-31 22:20:00|   Steuart at Market|          74|   470|     Subscriber|   94111|\n| 913449|     126|2015-08-31 22:12:00|     Beale at Market|            56|2015-08-31 22:15:00|Temporary Transba...|          55|   439|     Subscriber|   94130|\n| 913448|     932|2015-08-31 21:57:00|      Post at Kearny|            47|2015-08-31 22:12:00|South Van Ness at...|          66|   472|     Subscriber|   94702|\n| 913443|     691|2015-08-31 21:49:00|Embarcadero at Sa...|            60|2015-08-31 22:01:00|   Market at Sansome|          77|   434|     Subscriber|   94109|\n| 913442|     633|2015-08-31 21:44:00|      Market at 10th|            67|2015-08-31 21:54:00|San Francisco Cal...|          70|   531|     Subscriber|   94107|\n| 913441|     387|2015-08-31 21:39:00|       Market at 4th|            76|2015-08-31 21:46:00|Grant Avenue at C...|          73|   383|     Subscriber|   94104|\n| 913440|     281|2015-08-31 21:31:00|   Market at Sansome|            77|2015-08-31 21:36:00|Broadway St at Ba...|          82|   621|     Subscriber|   94107|\n| 913435|     424|2015-08-31 21:25:00|Temporary Transba...|            55|2015-08-31 21:33:00|San Francisco Cal...|          69|   602|     Subscriber|   94401|\n| 913434|     283|2015-08-31 21:19:00|San Francisco Cal...|            69|2015-08-31 21:24:00|     Townsend at 7th|          65|   521|     Subscriber|   94107|\n| 913433|     145|2015-08-31 21:17:00|University and Em...|            35|2015-08-31 21:20:00|Cowper at University|          37|    75|       Customer|    6907|\n| 913432|     703|2015-08-31 21:16:00|     Spear at Folsom|            49|2015-08-31 21:28:00|San Francisco Cal...|          69|   426|     Subscriber|   95032|\n| 913431|     605|2015-08-31 21:11:00|Temporary Transba...|            55|2015-08-31 21:21:00|Grant Avenue at C...|          73|   572|     Subscriber|   94133|\n| 913429|     902|2015-08-31 21:07:00|San Francisco Cal...|            70|2015-08-31 21:22:00|Broadway St at Ba...|          82|   501|     Subscriber|   94133|\n| 913426|     481|2015-08-31 21:06:00|San Francisco Cal...|            70|2015-08-31 21:14:00|       Market at 4th|          76|   542|     Subscriber|   95054|\n| 913421|     335|2015-08-31 21:01:00|Mountain View Cal...|            28|2015-08-31 21:07:00|Castro Street and...|          32|    13|     Subscriber|   94040|\n| 913419|     704|2015-08-31 20:58:00|   Steuart at Market|            74|2015-08-31 21:10:00|San Francisco Cal...|          70|   579|     Subscriber|   94158|\n| 913416|     326|2015-08-31 20:53:00|Yerba Buena Cente...|            68|2015-08-31 20:59:00|San Francisco Cal...|          69|   517|     Subscriber|   94061|\n| 913415|     274|2015-08-31 20:53:00|Harry Bridges Pla...|            50|2015-08-31 20:58:00|Embarcadero at Br...|          54|   524|     Subscriber|   94105|\n| 913410|     709|2015-08-31 20:46:00|Embarcadero at Sa...|            60|2015-08-31 20:58:00|Embarcadero at Br...|          54|   553|     Subscriber|   94105|\n| 913409|     486|2015-08-31 20:44:00|     Spear at Folsom|            49|2015-08-31 20:52:00|     2nd at Townsend|          61|   652|     Subscriber|   94107|\n| 913404|     273|2015-08-31 20:39:00|San Francisco Cal...|            69|2015-08-31 20:44:00|     Townsend at 7th|          65|   287|     Subscriber|   94107|\n| 913403|     497|2015-08-31 20:37:00|   Market at Sansome|            77|2015-08-31 20:45:00|     2nd at Townsend|          61|   359|     Subscriber|   94105|\n| 913402|     395|2015-08-31 20:36:00|      Market at 10th|            67|2015-08-31 20:43:00|       5th at Howard|          57|   877|     Subscriber|   94103|\n| 913401|     509|2015-08-31 20:34:00|Civic Center BART...|            72|2015-08-31 20:42:00|     Beale at Market|          56|   562|     Subscriber|   94577|\n| 913400|     671|2015-08-31 20:33:00|     2nd at Townsend|            61|2015-08-31 20:45:00|Powell at Post (U...|          71|    33|       Customer|   43214|\n| 913393|     307|2015-08-31 20:27:00|Castro Street and...|            32|2015-08-31 20:32:00|Mountain View Cal...|          28|   147|     Subscriber|   94041|\n| 913392|     359|2015-08-31 20:24:00|       Howard at 2nd|            63|2015-08-31 20:30:00|San Francisco Cal...|          70|   501|     Subscriber|   94062|\n| 913391|     310|2015-08-31 20:24:00|       5th at Howard|            57|2015-08-31 20:29:00|San Francisco Cal...|          69|   214|     Subscriber|   94303|\n| 913388|     329|2015-08-31 20:23:00|   2nd at South Park|            64|2015-08-31 20:28:00|   Market at Sansome|          77|   621|     Subscriber|   94705|\n| 913387|     382|2015-08-31 20:23:00|       5th at Howard|            57|2015-08-31 20:29:00|San Francisco Cal...|          69|   238|       Customer|   19127|\n| 913386|    1808|2015-08-31 20:23:00|Embarcadero at Br...|            54|2015-08-31 20:53:00|Harry Bridges Pla...|          50|   524|     Subscriber|   94105|\n| 913385|     215|2015-08-31 20:23:00|       Howard at 2nd|            63|2015-08-31 20:26:00|   2nd at South Park|          64|   193|     Subscriber|   94107|\n| 913384|     393|2015-08-31 20:23:00|       5th at Howard|            57|2015-08-31 20:29:00|San Francisco Cal...|          69|   584|       Customer|   19134|\n| 913383|    1435|2015-08-31 20:20:00|     2nd at Townsend|            61|2015-08-31 20:44:00|Embarcadero at Sa...|          60|   604|       Customer|   98103|\n| 913382|     645|2015-08-31 20:20:00|     Townsend at 7th|            65|2015-08-31 20:31:00|Harry Bridges Pla...|          50|   270|     Subscriber|   94945|\n| 913381|     346|2015-08-31 20:17:00|Yerba Buena Cente...|            68|2015-08-31 20:23:00|   Steuart at Market|          74|   284|     Subscriber|   94602|\n| 913380|     776|2015-08-31 20:15:00|   Market at Sansome|            77|2015-08-31 20:28:00|San Francisco Cal...|          70|    29|     Subscriber|   94087|\n| 913379|     803|2015-08-31 20:15:00|     Spear at Folsom|            49|2015-08-31 20:28:00|     Townsend at 7th|          65|   607|     Subscriber|   94107|\n| 913375|     378|2015-08-31 20:12:00|   Market at Sansome|            77|2015-08-31 20:18:00|Broadway St at Ba...|          82|   282|     Subscriber|   94111|\n| 913372|     523|2015-08-31 20:10:00|San Francisco Cal...|            69|2015-08-31 20:18:00|Harry Bridges Pla...|          50|   625|     Subscriber|   94107|\n| 913371|     663|2015-08-31 20:10:00|     Townsend at 7th|            65|2015-08-31 20:21:00|     Spear at Folsom|          49|   405|     Subscriber|   94103|\n| 913368|     888|2015-08-31 20:09:00|Commercial at Mon...|            45|2015-08-31 20:24:00|San Francisco Cit...|          58|   598|     Subscriber|   94102|\n| 913367|     842|2015-08-31 20:08:00|San Francisco Cal...|            70|2015-08-31 20:22:00|     Spear at Folsom|          49|   652|       Customer|   94105|\n+-------+--------+-------------------+--------------------+--------------+-------------------+--------------------+------------+------+---------------+--------+\nonly showing top 50 rows\n\n"
     ]
    }
   ],
   "source": [
    "from pyspark.sql.types import *\n",
    "from pyspark.sql.functions import to_timestamp, coalesce, col\n",
    "\n",
    "# Wczytanie danych CSV\n",
    "data = spark.read.format(\"csv\")\\\n",
    "    .option(\"inferSchema\", \"true\")\\\n",
    "    .option(\"header\", \"true\")\\\n",
    "    .load(\"/FileStore/tables/201508_trip_data.csv\")\n",
    "\n",
    "# Uporządkowane formaty daty\n",
    "pat1 = \"M/d/yyyy H:mm\"\n",
    "pat2 = \"M/d/yyyy HH:mm\"\n",
    "pat3 = \"M/dd/yyyy H:mm\"\n",
    "pat4 = \"M/dd/yyyy HH:mm\"\n",
    "pat5 = \"MM/d/yyyy H:mm\"\n",
    "pat6 = \"MM/d/yyyy HH:mm\"\n",
    "pat7 = \"MM/dd/yyyy H:mm\"\n",
    "pat8 = \"MM/dd/yyyy HH:mm\"\n",
    "\n",
    "# Parsowanie dat + konwersja Zip Code\n",
    "df = data.withColumn(\"Start Date\", coalesce(\n",
    "        to_timestamp(\"Start Date\", pat1),\n",
    "        to_timestamp(\"Start Date\", pat2),\n",
    "        to_timestamp(\"Start Date\", pat3),\n",
    "        to_timestamp(\"Start Date\", pat4),\n",
    "        to_timestamp(\"Start Date\", pat5),\n",
    "        to_timestamp(\"Start Date\", pat6),\n",
    "        to_timestamp(\"Start Date\", pat7),\n",
    "        to_timestamp(\"Start Date\", pat8)\n",
    "    )\n",
    ").withColumn(\"End Date\", coalesce(\n",
    "        to_timestamp(\"End Date\", pat1),\n",
    "        to_timestamp(\"End Date\", pat2),\n",
    "        to_timestamp(\"End Date\", pat3),\n",
    "        to_timestamp(\"End Date\", pat4),\n",
    "        to_timestamp(\"End Date\", pat5),\n",
    "        to_timestamp(\"End Date\", pat6),\n",
    "        to_timestamp(\"End Date\", pat7),\n",
    "        to_timestamp(\"End Date\", pat8)\n",
    "    )\n",
    ").withColumn(\"Zip Code\", col(\"Zip Code\").cast(IntegerType()))\n",
    "\n",
    "# Wyświetlenie\n",
    "df.show(50) \n"
   ]
  },
  {
   "cell_type": "code",
   "execution_count": 0,
   "metadata": {
    "application/vnd.databricks.v1+cell": {
     "cellMetadata": {
      "byteLimit": 2048000,
      "rowLimit": 10000
     },
     "inputWidgets": {},
     "nuid": "2fa620b4-02a4-4324-bb07-4976bd0b9515",
     "showTitle": false,
     "tableResultSettingsMap": {},
     "title": ""
    }
   },
   "outputs": [
    {
     "output_type": "stream",
     "name": "stdout",
     "output_type": "stream",
     "text": [
      "+-------+--------+-------------------+--------------------+--------------+-------------------+--------------------+------------+------+---------------+--------+\n|Trip ID|Duration|         Start Date|       Start Station|Start Terminal|           End Date|         End Station|End Terminal|Bike #|Subscriber Type|Zip Code|\n+-------+--------+-------------------+--------------------+--------------+-------------------+--------------------+------------+------+---------------+--------+\n| 913084|     547|2015-08-31 17:58:00|       Howard at 2nd|            63|2015-08-31 18:08:00|Embarcadero at Sa...|          60|   279|       Customer|    null|\n| 912988|     293|2015-08-31 17:36:00|   Steuart at Market|            74|2015-08-31 17:41:00|       Howard at 2nd|          63|   282|       Customer|    null|\n| 912665|     824|2015-08-31 16:14:00|Embarcadero at Sa...|            60|2015-08-31 16:28:00|Harry Bridges Pla...|          50|   511|       Customer|    null|\n| 912664|     827|2015-08-31 16:14:00|Embarcadero at Sa...|            60|2015-08-31 16:28:00|Harry Bridges Pla...|          50|   586|       Customer|    null|\n| 912576|     324|2015-08-31 15:17:00|Temporary Transba...|            55|2015-08-31 15:22:00|   Steuart at Market|          74|   418|       Customer|    null|\n| 912455|    2092|2015-08-31 12:40:00|SJSU 4th at San C...|            12|2015-08-31 13:14:00|SJSU 4th at San C...|          12|   186|       Customer|    null|\n| 912203|     519|2015-08-31 09:24:00|Embarcadero at Sa...|            60|2015-08-31 09:33:00|   Steuart at Market|          74|   410|       Customer|    null|\n| 912102|     744|2015-08-31 09:00:00|Rengstorff Avenue...|            33|2015-08-31 09:12:00|Mountain View Cal...|          28|   296|     Subscriber|    null|\n| 911550|     818|2015-08-30 19:06:00|Embarcadero at Sa...|            60|2015-08-30 19:20:00|Broadway St at Ba...|          82|   624|       Customer|    null|\n| 911549|    1502|2015-08-30 18:55:00|Embarcadero at Sa...|            60|2015-08-30 19:21:00|Broadway St at Ba...|          82|   446|       Customer|    null|\n| 911538|     492|2015-08-30 18:15:00|       2nd at Folsom|            62|2015-08-30 18:23:00|      Post at Kearny|          47|   468|       Customer|    null|\n| 911536|     545|2015-08-30 18:12:00|       2nd at Folsom|            62|2015-08-30 18:21:00|      Post at Kearny|          47|   389|       Customer|    null|\n| 911465|    3818|2015-08-30 15:48:00|Broadway St at Ba...|            82|2015-08-30 16:52:00|South Van Ness at...|          66|   594|       Customer|    null|\n| 911446|   20958|2015-08-30 15:26:00|  Powell Street BART|            39|2015-08-30 21:15:00|Embarcadero at Sa...|          60|   584|       Customer|    null|\n| 911444|    4424|2015-08-30 15:25:00|   Steuart at Market|            74|2015-08-30 16:39:00|   Steuart at Market|          74|   484|       Customer|    null|\n| 911436|   21180|2015-08-30 15:22:00|  Powell Street BART|            39|2015-08-30 21:15:00|Embarcadero at Sa...|          60|   618|       Customer|    null|\n| 911435|   21182|2015-08-30 15:22:00|  Powell Street BART|            39|2015-08-30 21:15:00|Embarcadero at Sa...|          60|   586|       Customer|    null|\n| 911430|    4652|2015-08-30 15:22:00|   Steuart at Market|            74|2015-08-30 16:39:00|   Steuart at Market|          74|    56|       Customer|    null|\n| 911423|    5254|2015-08-30 15:11:00|   Steuart at Market|            74|2015-08-30 16:39:00|   Steuart at Market|          74|   608|       Customer|    null|\n| 911411|    1447|2015-08-30 15:02:00|    San Pedro Square|             6|2015-08-30 15:26:00|SJSU - San Salvad...|          16|    61|       Customer|    null|\n| 911410|    1495|2015-08-30 15:01:00|    San Pedro Square|             6|2015-08-30 15:26:00|SJSU - San Salvad...|          16|   656|       Customer|    null|\n| 911379|     676|2015-08-30 13:51:00|SJSU - San Salvad...|            16|2015-08-30 14:02:00|    San Pedro Square|           6|    63|       Customer|    null|\n| 911378|     801|2015-08-30 13:49:00|SJSU - San Salvad...|            16|2015-08-30 14:02:00|    San Pedro Square|           6|   656|       Customer|    null|\n| 911369|     940|2015-08-30 13:35:00|      Post at Kearny|            47|2015-08-30 13:51:00|Embarcadero at Br...|          54|   387|       Customer|    null|\n| 911355|    4586|2015-08-30 13:06:00|       Market at 4th|            76|2015-08-30 14:22:00|       Market at 4th|          76|   479|       Customer|    null|\n| 911306|   18353|2015-08-30 11:45:00|Palo Alto Caltrai...|            34|2015-08-30 16:51:00|Mountain View Cal...|          28|   148|       Customer|    null|\n| 911273|    9581|2015-08-30 10:47:00|   Market at Sansome|            77|2015-08-30 13:27:00|Grant Avenue at C...|          73|   513|       Customer|    null|\n| 911268|    9791|2015-08-30 10:44:00|   Market at Sansome|            77|2015-08-30 13:27:00|Grant Avenue at C...|          73|   629|       Customer|    null|\n| 911202|    6481|2015-08-30 08:24:00|Powell at Post (U...|            71|2015-08-30 10:12:00|Powell at Post (U...|          71|   354|       Customer|    null|\n| 911112|    1710|2015-08-29 18:17:00|     2nd at Townsend|            61|2015-08-29 18:45:00|Embarcadero at Sa...|          60|   352|       Customer|    null|\n| 911111|    1728|2015-08-29 18:17:00|     2nd at Townsend|            61|2015-08-29 18:45:00|Embarcadero at Sa...|          60|   472|       Customer|    null|\n| 911091|    1812|2015-08-29 17:46:00|     Spear at Folsom|            49|2015-08-29 18:16:00|     Beale at Market|          56|   385|       Customer|    null|\n| 911076|     538|2015-08-29 17:36:00|   Steuart at Market|            74|2015-08-29 17:45:00|Embarcadero at Sa...|          60|   431|       Customer|    null|\n| 911072|     725|2015-08-29 17:29:00|   Steuart at Market|            74|2015-08-29 17:41:00|       Market at 4th|          76|   212|       Customer|    null|\n| 911069|    1840|2015-08-29 17:23:00|      Market at 10th|            67|2015-08-29 17:54:00|Grant Avenue at C...|          73|   601|       Customer|    null|\n| 911068|    1925|2015-08-29 17:23:00|      Market at 10th|            67|2015-08-29 17:55:00|Grant Avenue at C...|          73|   404|       Customer|    null|\n| 911064|    7114|2015-08-29 17:22:00|San Francisco Cal...|            70|2015-08-29 19:20:00|Embarcadero at Va...|          48|   491|       Customer|    null|\n| 911057|     668|2015-08-29 17:11:00|Commercial at Mon...|            45|2015-08-29 17:22:00|Harry Bridges Pla...|          50|   578|       Customer|    null|\n| 911056|    2015|2015-08-29 17:11:00|Grant Avenue at C...|            73|2015-08-29 17:44:00|     Spear at Folsom|          49|   477|       Customer|    null|\n| 911055|     685|2015-08-29 17:11:00|Commercial at Mon...|            45|2015-08-29 17:22:00|Harry Bridges Pla...|          50|   371|       Customer|    null|\n| 910981|     863|2015-08-29 15:14:00|Embarcadero at Fo...|            51|2015-08-29 15:29:00|       Market at 4th|          76|   353|       Customer|    null|\n| 910980|     873|2015-08-29 15:14:00|Embarcadero at Fo...|            51|2015-08-29 15:29:00|       Market at 4th|          76|   383|       Customer|    null|\n| 910978|     342|2015-08-29 15:10:00|Embarcadero at Sa...|            60|2015-08-29 15:16:00|   Steuart at Market|          74|   212|       Customer|    null|\n| 910969|     632|2015-08-29 14:50:00|       2nd at Folsom|            62|2015-08-29 15:00:00|Embarcadero at Fo...|          51|   614|       Customer|    null|\n| 910968|     648|2015-08-29 14:49:00|       2nd at Folsom|            62|2015-08-29 15:00:00|Embarcadero at Fo...|          51|   383|       Customer|    null|\n| 910954|    5444|2015-08-29 14:19:00|Washington at Kearny|            46|2015-08-29 15:50:00|       Market at 4th|          76|   482|       Customer|    null|\n| 910913|     432|2015-08-29 13:11:00|     Spear at Folsom|            49|2015-08-29 13:18:00|     2nd at Townsend|          61|   238|       Customer|    null|\n| 910912|     444|2015-08-29 13:10:00|     Spear at Folsom|            49|2015-08-29 13:18:00|     2nd at Townsend|          61|   586|       Customer|    null|\n| 910874|     959|2015-08-29 12:24:00|   Steuart at Market|            74|2015-08-29 12:40:00|San Francisco Cal...|          70|   328|       Customer|    null|\n| 910858|     494|2015-08-29 12:02:00|   Steuart at Market|            74|2015-08-29 12:10:00|     Spear at Folsom|          49|   259|       Customer|    null|\n+-------+--------+-------------------+--------------------+--------------+-------------------+--------------------+------------+------+---------------+--------+\nonly showing top 50 rows\n\n"
     ]
    }
   ],
   "source": [
    "#wiersze z nullami (przykład)\n",
    "\n",
    "nullDf = df.filter(col(\"Zip Code\").isNull())\n",
    "\n",
    "nullDf.show(50)\n"
   ]
  },
  {
   "cell_type": "markdown",
   "metadata": {
    "application/vnd.databricks.v1+cell": {
     "cellMetadata": {
      "byteLimit": 2048000,
      "rowLimit": 10000
     },
     "inputWidgets": {},
     "nuid": "675cff09-5773-4d11-bc7f-acc9ce3666db",
     "showTitle": false,
     "tableResultSettingsMap": {},
     "title": ""
    }
   },
   "source": [
    "### Użycie wybranych funkcji"
   ]
  },
  {
   "cell_type": "code",
   "execution_count": 0,
   "metadata": {
    "application/vnd.databricks.v1+cell": {
     "cellMetadata": {
      "byteLimit": 2048000,
      "rowLimit": 10000
     },
     "inputWidgets": {},
     "nuid": "59631fc3-91db-4401-afd2-3124e04f3f59",
     "showTitle": false,
     "tableResultSettingsMap": {},
     "title": ""
    }
   },
   "outputs": [],
   "source": [
    "from pyspark.sql.functions import (explode, regexp_replace, regexp_extract, array_contains, lit)"
   ]
  },
  {
   "cell_type": "code",
   "execution_count": 0,
   "metadata": {
    "application/vnd.databricks.v1+cell": {
     "cellMetadata": {
      "byteLimit": 2048000,
      "rowLimit": 10000
     },
     "inputWidgets": {},
     "nuid": "925c99f4-18dc-45a4-af2a-f431bb06ae39",
     "showTitle": false,
     "tableResultSettingsMap": {},
     "title": ""
    }
   },
   "outputs": [
    {
     "output_type": "stream",
     "name": "stdout",
     "output_type": "stream",
     "text": [
      "+-------+--------+-------------------+--------------------+--------------+-------------------+--------------------+------------+------+---------------+--------+\n|Trip ID|Duration|         Start Date|       Start Station|Start Terminal|           End Date|         End Station|End Terminal|Bike #|Subscriber Type|Zip Code|\n+-------+--------+-------------------+--------------------+--------------+-------------------+--------------------+------------+------+---------------+--------+\n| 913084|     547|2015-08-31 17:58:00|       Howard at 2nd|            63|2015-08-31 18:08:00|Embarcadero at Sa...|          60|   279|       Customer|      88|\n| 912988|     293|2015-08-31 17:36:00|   Steuart at Market|            74|2015-08-31 17:41:00|       Howard at 2nd|          63|   282|       Customer|      88|\n| 912665|     824|2015-08-31 16:14:00|Embarcadero at Sa...|            60|2015-08-31 16:28:00|Harry Bridges Pla...|          50|   511|       Customer|      88|\n| 912664|     827|2015-08-31 16:14:00|Embarcadero at Sa...|            60|2015-08-31 16:28:00|Harry Bridges Pla...|          50|   586|       Customer|      88|\n| 912576|     324|2015-08-31 15:17:00|Temporary Transba...|            55|2015-08-31 15:22:00|   Steuart at Market|          74|   418|       Customer|      88|\n| 912455|    2092|2015-08-31 12:40:00|SJSU 4th at San C...|            12|2015-08-31 13:14:00|SJSU 4th at San C...|          12|   186|       Customer|      88|\n| 912203|     519|2015-08-31 09:24:00|Embarcadero at Sa...|            60|2015-08-31 09:33:00|   Steuart at Market|          74|   410|       Customer|      88|\n| 912102|     744|2015-08-31 09:00:00|Rengstorff Avenue...|            33|2015-08-31 09:12:00|Mountain View Cal...|          28|   296|     Subscriber|      88|\n| 911550|     818|2015-08-30 19:06:00|Embarcadero at Sa...|            60|2015-08-30 19:20:00|Broadway St at Ba...|          82|   624|       Customer|      88|\n| 911549|    1502|2015-08-30 18:55:00|Embarcadero at Sa...|            60|2015-08-30 19:21:00|Broadway St at Ba...|          82|   446|       Customer|      88|\n| 911538|     492|2015-08-30 18:15:00|       2nd at Folsom|            62|2015-08-30 18:23:00|      Post at Kearny|          47|   468|       Customer|      88|\n| 911536|     545|2015-08-30 18:12:00|       2nd at Folsom|            62|2015-08-30 18:21:00|      Post at Kearny|          47|   389|       Customer|      88|\n| 911465|    3818|2015-08-30 15:48:00|Broadway St at Ba...|            82|2015-08-30 16:52:00|South Van Ness at...|          66|   594|       Customer|      88|\n| 911446|   20958|2015-08-30 15:26:00|  Powell Street BART|            39|2015-08-30 21:15:00|Embarcadero at Sa...|          60|   584|       Customer|      88|\n| 911444|    4424|2015-08-30 15:25:00|   Steuart at Market|            74|2015-08-30 16:39:00|   Steuart at Market|          74|   484|       Customer|      88|\n| 911436|   21180|2015-08-30 15:22:00|  Powell Street BART|            39|2015-08-30 21:15:00|Embarcadero at Sa...|          60|   618|       Customer|      88|\n| 911435|   21182|2015-08-30 15:22:00|  Powell Street BART|            39|2015-08-30 21:15:00|Embarcadero at Sa...|          60|   586|       Customer|      88|\n| 911430|    4652|2015-08-30 15:22:00|   Steuart at Market|            74|2015-08-30 16:39:00|   Steuart at Market|          74|    56|       Customer|      88|\n| 911423|    5254|2015-08-30 15:11:00|   Steuart at Market|            74|2015-08-30 16:39:00|   Steuart at Market|          74|   608|       Customer|      88|\n| 911411|    1447|2015-08-30 15:02:00|    San Pedro Square|             6|2015-08-30 15:26:00|SJSU - San Salvad...|          16|    61|       Customer|      88|\n| 911410|    1495|2015-08-30 15:01:00|    San Pedro Square|             6|2015-08-30 15:26:00|SJSU - San Salvad...|          16|   656|       Customer|      88|\n| 911379|     676|2015-08-30 13:51:00|SJSU - San Salvad...|            16|2015-08-30 14:02:00|    San Pedro Square|           6|    63|       Customer|      88|\n| 911378|     801|2015-08-30 13:49:00|SJSU - San Salvad...|            16|2015-08-30 14:02:00|    San Pedro Square|           6|   656|       Customer|      88|\n| 911369|     940|2015-08-30 13:35:00|      Post at Kearny|            47|2015-08-30 13:51:00|Embarcadero at Br...|          54|   387|       Customer|      88|\n| 911355|    4586|2015-08-30 13:06:00|       Market at 4th|            76|2015-08-30 14:22:00|       Market at 4th|          76|   479|       Customer|      88|\n| 911306|   18353|2015-08-30 11:45:00|Palo Alto Caltrai...|            34|2015-08-30 16:51:00|Mountain View Cal...|          28|   148|       Customer|      88|\n| 911273|    9581|2015-08-30 10:47:00|   Market at Sansome|            77|2015-08-30 13:27:00|Grant Avenue at C...|          73|   513|       Customer|      88|\n| 911268|    9791|2015-08-30 10:44:00|   Market at Sansome|            77|2015-08-30 13:27:00|Grant Avenue at C...|          73|   629|       Customer|      88|\n| 911202|    6481|2015-08-30 08:24:00|Powell at Post (U...|            71|2015-08-30 10:12:00|Powell at Post (U...|          71|   354|       Customer|      88|\n| 911112|    1710|2015-08-29 18:17:00|     2nd at Townsend|            61|2015-08-29 18:45:00|Embarcadero at Sa...|          60|   352|       Customer|      88|\n| 911111|    1728|2015-08-29 18:17:00|     2nd at Townsend|            61|2015-08-29 18:45:00|Embarcadero at Sa...|          60|   472|       Customer|      88|\n| 911091|    1812|2015-08-29 17:46:00|     Spear at Folsom|            49|2015-08-29 18:16:00|     Beale at Market|          56|   385|       Customer|      88|\n| 911076|     538|2015-08-29 17:36:00|   Steuart at Market|            74|2015-08-29 17:45:00|Embarcadero at Sa...|          60|   431|       Customer|      88|\n| 911072|     725|2015-08-29 17:29:00|   Steuart at Market|            74|2015-08-29 17:41:00|       Market at 4th|          76|   212|       Customer|      88|\n| 911069|    1840|2015-08-29 17:23:00|      Market at 10th|            67|2015-08-29 17:54:00|Grant Avenue at C...|          73|   601|       Customer|      88|\n| 911068|    1925|2015-08-29 17:23:00|      Market at 10th|            67|2015-08-29 17:55:00|Grant Avenue at C...|          73|   404|       Customer|      88|\n| 911064|    7114|2015-08-29 17:22:00|San Francisco Cal...|            70|2015-08-29 19:20:00|Embarcadero at Va...|          48|   491|       Customer|      88|\n| 911057|     668|2015-08-29 17:11:00|Commercial at Mon...|            45|2015-08-29 17:22:00|Harry Bridges Pla...|          50|   578|       Customer|      88|\n| 911056|    2015|2015-08-29 17:11:00|Grant Avenue at C...|            73|2015-08-29 17:44:00|     Spear at Folsom|          49|   477|       Customer|      88|\n| 911055|     685|2015-08-29 17:11:00|Commercial at Mon...|            45|2015-08-29 17:22:00|Harry Bridges Pla...|          50|   371|       Customer|      88|\n| 910981|     863|2015-08-29 15:14:00|Embarcadero at Fo...|            51|2015-08-29 15:29:00|       Market at 4th|          76|   353|       Customer|      88|\n| 910980|     873|2015-08-29 15:14:00|Embarcadero at Fo...|            51|2015-08-29 15:29:00|       Market at 4th|          76|   383|       Customer|      88|\n| 910978|     342|2015-08-29 15:10:00|Embarcadero at Sa...|            60|2015-08-29 15:16:00|   Steuart at Market|          74|   212|       Customer|      88|\n| 910969|     632|2015-08-29 14:50:00|       2nd at Folsom|            62|2015-08-29 15:00:00|Embarcadero at Fo...|          51|   614|       Customer|      88|\n| 910968|     648|2015-08-29 14:49:00|       2nd at Folsom|            62|2015-08-29 15:00:00|Embarcadero at Fo...|          51|   383|       Customer|      88|\n| 910954|    5444|2015-08-29 14:19:00|Washington at Kearny|            46|2015-08-29 15:50:00|       Market at 4th|          76|   482|       Customer|      88|\n| 910913|     432|2015-08-29 13:11:00|     Spear at Folsom|            49|2015-08-29 13:18:00|     2nd at Townsend|          61|   238|       Customer|      88|\n| 910912|     444|2015-08-29 13:10:00|     Spear at Folsom|            49|2015-08-29 13:18:00|     2nd at Townsend|          61|   586|       Customer|      88|\n| 910874|     959|2015-08-29 12:24:00|   Steuart at Market|            74|2015-08-29 12:40:00|San Francisco Cal...|          70|   328|       Customer|      88|\n| 910858|     494|2015-08-29 12:02:00|   Steuart at Market|            74|2015-08-29 12:10:00|     Spear at Folsom|          49|   259|       Customer|      88|\n+-------+--------+-------------------+--------------------+--------------+-------------------+--------------------+------------+------+---------------+--------+\nonly showing top 50 rows\n\n"
     ]
    }
   ],
   "source": [
    "#fill\n",
    "\n",
    "from random import randint\n",
    "\n",
    "filledDf = nullDf.na.fill(randint(11,100))\n",
    "\n",
    "filledDf.show(50)"
   ]
  },
  {
   "cell_type": "code",
   "execution_count": 0,
   "metadata": {
    "application/vnd.databricks.v1+cell": {
     "cellMetadata": {
      "byteLimit": 2048000,
      "rowLimit": 10000
     },
     "inputWidgets": {},
     "nuid": "7a8b83d8-f7f5-4096-98ee-8e5f52fa3652",
     "showTitle": false,
     "tableResultSettingsMap": {},
     "title": ""
    }
   },
   "outputs": [
    {
     "output_type": "stream",
     "name": "stdout",
     "output_type": "stream",
     "text": [
      "+-------+-----------+\n|trip ID|        col|\n+-------+-----------+\n| 913460|      Harry|\n| 913460|    Bridges|\n| 913460|      Plaza|\n| 913460|     (Ferry|\n| 913460|  Building)|\n| 913459|        San|\n| 913459|    Antonio|\n| 913459|   Shopping|\n| 913459|     Center|\n| 913455|       Post|\n| 913455|         at|\n| 913455|     Kearny|\n| 913454|        San|\n| 913454|       Jose|\n| 913454|       City|\n| 913454|       Hall|\n| 913453|Embarcadero|\n| 913453|         at|\n| 913453|     Folsom|\n| 913452|      Yerba|\n| 913452|      Buena|\n| 913452|     Center|\n| 913452|         of|\n| 913452|        the|\n| 913452|       Arts|\n| 913452|       (3rd|\n| 913452|          @|\n| 913452|    Howard)|\n| 913451|Embarcadero|\n| 913451|         at|\n| 913451|     Folsom|\n| 913450|Embarcadero|\n| 913450|         at|\n| 913450|    Sansome|\n| 913449|      Beale|\n| 913449|         at|\n| 913449|     Market|\n| 913448|       Post|\n| 913448|         at|\n| 913448|     Kearny|\n| 913443|Embarcadero|\n| 913443|         at|\n| 913443|    Sansome|\n| 913442|     Market|\n| 913442|         at|\n| 913442|       10th|\n| 913441|     Market|\n| 913441|         at|\n| 913441|        4th|\n| 913440|     Market|\n+-------+-----------+\nonly showing top 50 rows\n\n"
     ]
    }
   ],
   "source": [
    "#explode\n",
    "from pyspark.sql.functions import split\n",
    "arrDf = df.select(\"trip ID\", split(col(\"Start Station\"), \" \").alias(\"Start Station\"))\n",
    "expDf = arrDf.select(\"trip ID\", explode(\"Start Station\"))\n",
    "expDf.show(50)"
   ]
  },
  {
   "cell_type": "code",
   "execution_count": 0,
   "metadata": {
    "application/vnd.databricks.v1+cell": {
     "cellMetadata": {
      "byteLimit": 2048000,
      "rowLimit": 10000
     },
     "inputWidgets": {},
     "nuid": "a5b78564-40f8-4eff-8e68-dd6568dbfd5f",
     "showTitle": false,
     "tableResultSettingsMap": {},
     "title": ""
    }
   },
   "outputs": [
    {
     "output_type": "stream",
     "name": "stdout",
     "output_type": "stream",
     "text": [
      "+-------+--------+-------------------+--------------------+--------------+-------------------+--------------------+------------+------+---------------+--------+\n|Trip ID|Duration|         Start Date|       Start Station|Start Terminal|           End Date|         End Station|End Terminal|Bike #|Subscriber Type|Zip Code|\n+-------+--------+-------------------+--------------------+--------------+-------------------+--------------------+------------+------+---------------+--------+\n| 913460|     765|2015-08-31 23:26:00|Harry Bridges Pla...|            50|2015-08-31 23:39:00|San Francisco Cal...|          70|   288|     Subscriber|    2139|\n| 913459|    1036|2015-08-31 23:11:00|San Antonio Shopp...|            31|2015-08-31 23:28:00|Mountain View Cit...|          27|    35|     Subscriber|   95032|\n| 913455|     307|2015-08-31 23:13:00|      Post at Kearny|            47|2015-08-31 23:18:00|   2nd at South Park|          64|   468|     Subscriber|   94107|\n| 913454|     409|2015-08-31 23:10:00|  San Jose City Hall|            10|2015-08-31 23:17:00| San Salvador at 1st|           8|    68|     Subscriber|   95113|\n| 913453|     789|2015-08-31 23:09:00|Embarcadero at Fo...|            51|2015-08-31 23:22:00|Embarcadero at Sa...|          60|   487|       Customer|    9069|\n| 913452|     293|2015-08-31 23:07:00|Yerba Buena Cente...|            68|2015-08-31 23:12:00|San Francisco Cal...|          70|   538|     Subscriber|   94118|\n| 913451|     896|2015-08-31 23:07:00|Embarcadero at Fo...|            51|2015-08-31 23:22:00|Embarcadero at Sa...|          60|   363|       Customer|   92562|\n| 913450|     255|2015-08-31 22:16:00|Embarcadero at Sa...|            60|2015-08-31 22:20:00|   Steuart at Market|          74|   470|     Subscriber|   94111|\n| 913449|     126|2015-08-31 22:12:00|     Beale at Market|            56|2015-08-31 22:15:00|Temporary Transba...|          55|   439|     Subscriber|   94130|\n| 913448|     932|2015-08-31 21:57:00|      Post at Kearny|            47|2015-08-31 22:12:00|South Van Ness at...|          66|   472|     Subscriber|   94702|\n| 913443|     691|2015-08-31 21:49:00|Embarcadero at Sa...|            60|2015-08-31 22:01:00|   Market at Sansome|          77|   434|     Subscriber|   94109|\n| 913442|     633|2015-08-31 21:44:00|      Market at 10th|            67|2015-08-31 21:54:00|San Francisco Cal...|          70|   531|     Subscriber|   94107|\n| 913441|     387|2015-08-31 21:39:00|       Market at 4th|            76|2015-08-31 21:46:00|Grant Avenue at C...|          73|   383|     Subscriber|   94104|\n| 913440|     281|2015-08-31 21:31:00|   Market at Sansome|            77|2015-08-31 21:36:00|Broadway St at Ba...|          82|   621|     Subscriber|   94107|\n| 913435|     424|2015-08-31 21:25:00|Temporary Transba...|            55|2015-08-31 21:33:00|San Francisco Cal...|          69|   602|     Subscriber|   94401|\n| 913434|     283|2015-08-31 21:19:00|San Francisco Cal...|            69|2015-08-31 21:24:00|     Townsend at 7th|          65|   521|     Subscriber|   94107|\n| 913433|     145|2015-08-31 21:17:00|University and Em...|            35|2015-08-31 21:20:00|Cowper at University|          37|    75|       Customer|    6907|\n| 913432|     703|2015-08-31 21:16:00|     Spear at Folsom|            49|2015-08-31 21:28:00|San Francisco Cal...|          69|   426|     Subscriber|   95032|\n| 913431|     605|2015-08-31 21:11:00|Temporary Transba...|            55|2015-08-31 21:21:00|Grant Avenue at C...|          73|   572|     Subscriber|   94133|\n| 913429|     902|2015-08-31 21:07:00|San Francisco Cal...|            70|2015-08-31 21:22:00|Broadway St at Ba...|          82|   501|     Subscriber|   94133|\n| 913426|     481|2015-08-31 21:06:00|San Francisco Cal...|            70|2015-08-31 21:14:00|       Market at 4th|          76|   542|     Subscriber|   95054|\n| 913421|     335|2015-08-31 21:01:00|Mountain View Cal...|            28|2015-08-31 21:07:00|Castro Street and...|          32|    13|     Subscriber|   94040|\n| 913419|     704|2015-08-31 20:58:00|   Steuart at Market|            74|2015-08-31 21:10:00|San Francisco Cal...|          70|   579|     Subscriber|   94158|\n| 913416|     326|2015-08-31 20:53:00|Yerba Buena Cente...|            68|2015-08-31 20:59:00|San Francisco Cal...|          69|   517|     Subscriber|   94061|\n| 913415|     274|2015-08-31 20:53:00|Harry Bridges Pla...|            50|2015-08-31 20:58:00|Embarcadero at Br...|          54|   524|     Subscriber|   94105|\n| 913410|     709|2015-08-31 20:46:00|Embarcadero at Sa...|            60|2015-08-31 20:58:00|Embarcadero at Br...|          54|   553|     Subscriber|   94105|\n| 913409|     486|2015-08-31 20:44:00|     Spear at Folsom|            49|2015-08-31 20:52:00|     2nd at Townsend|          61|   652|     Subscriber|   94107|\n| 913404|     273|2015-08-31 20:39:00|San Francisco Cal...|            69|2015-08-31 20:44:00|     Townsend at 7th|          65|   287|     Subscriber|   94107|\n| 913403|     497|2015-08-31 20:37:00|   Market at Sansome|            77|2015-08-31 20:45:00|     2nd at Townsend|          61|   359|     Subscriber|   94105|\n| 913402|     395|2015-08-31 20:36:00|      Market at 10th|            67|2015-08-31 20:43:00|       5th at Howard|          57|   877|     Subscriber|   94103|\n| 913401|     509|2015-08-31 20:34:00|Civic Center BART...|            72|2015-08-31 20:42:00|     Beale at Market|          56|   562|     Subscriber|   94577|\n| 913400|     671|2015-08-31 20:33:00|     2nd at Townsend|            61|2015-08-31 20:45:00|Powell at Post (U...|          71|    33|       Customer|   43214|\n| 913393|     307|2015-08-31 20:27:00|Castro Street and...|            32|2015-08-31 20:32:00|Mountain View Cal...|          28|   147|     Subscriber|   94041|\n| 913392|     359|2015-08-31 20:24:00|       Howard at 2nd|            63|2015-08-31 20:30:00|San Francisco Cal...|          70|   501|     Subscriber|   94062|\n| 913391|     310|2015-08-31 20:24:00|       5th at Howard|            57|2015-08-31 20:29:00|San Francisco Cal...|          69|   214|     Subscriber|   94303|\n| 913388|     329|2015-08-31 20:23:00|   2nd at South Park|            64|2015-08-31 20:28:00|   Market at Sansome|          77|   621|     Subscriber|   94705|\n| 913387|     382|2015-08-31 20:23:00|       5th at Howard|            57|2015-08-31 20:29:00|San Francisco Cal...|          69|   238|       Customer|   19127|\n| 913386|    1808|2015-08-31 20:23:00|Embarcadero at Br...|            54|2015-08-31 20:53:00|Harry Bridges Pla...|          50|   524|     Subscriber|   94105|\n| 913385|     215|2015-08-31 20:23:00|       Howard at 2nd|            63|2015-08-31 20:26:00|   2nd at South Park|          64|   193|     Subscriber|   94107|\n| 913384|     393|2015-08-31 20:23:00|       5th at Howard|            57|2015-08-31 20:29:00|San Francisco Cal...|          69|   584|       Customer|   19134|\n| 913383|    1435|2015-08-31 20:20:00|     2nd at Townsend|            61|2015-08-31 20:44:00|Embarcadero at Sa...|          60|   604|       Customer|   98103|\n| 913382|     645|2015-08-31 20:20:00|     Townsend at 7th|            65|2015-08-31 20:31:00|Harry Bridges Pla...|          50|   270|     Subscriber|   94945|\n| 913381|     346|2015-08-31 20:17:00|Yerba Buena Cente...|            68|2015-08-31 20:23:00|   Steuart at Market|          74|   284|     Subscriber|   94602|\n| 913380|     776|2015-08-31 20:15:00|   Market at Sansome|            77|2015-08-31 20:28:00|San Francisco Cal...|          70|    29|     Subscriber|   94087|\n| 913379|     803|2015-08-31 20:15:00|     Spear at Folsom|            49|2015-08-31 20:28:00|     Townsend at 7th|          65|   607|     Subscriber|   94107|\n| 913375|     378|2015-08-31 20:12:00|   Market at Sansome|            77|2015-08-31 20:18:00|Broadway St at Ba...|          82|   282|     Subscriber|   94111|\n| 913372|     523|2015-08-31 20:10:00|San Francisco Cal...|            69|2015-08-31 20:18:00|Harry Bridges Pla...|          50|   625|     Subscriber|   94107|\n| 913371|     663|2015-08-31 20:10:00|     Townsend at 7th|            65|2015-08-31 20:21:00|     Spear at Folsom|          49|   405|     Subscriber|   94103|\n| 913368|     888|2015-08-31 20:09:00|Commercial at Mon...|            45|2015-08-31 20:24:00|San Francisco Cit...|          58|   598|     Subscriber|   94102|\n| 913367|     842|2015-08-31 20:08:00|San Francisco Cal...|            70|2015-08-31 20:22:00|     Spear at Folsom|          49|   652|       Customer|   94105|\n+-------+--------+-------------------+--------------------+--------------+-------------------+--------------------+------------+------+---------------+--------+\nonly showing top 50 rows\n\n"
     ]
    }
   ],
   "source": [
    "#drop\n",
    "droppedDf = df.na.drop()\n",
    "droppedDf.show(50)"
   ]
  },
  {
   "cell_type": "code",
   "execution_count": 0,
   "metadata": {
    "application/vnd.databricks.v1+cell": {
     "cellMetadata": {
      "byteLimit": 2048000,
      "rowLimit": 10000
     },
     "inputWidgets": {},
     "nuid": "f012194e-3d31-4046-8a03-042cfe82293b",
     "showTitle": false,
     "tableResultSettingsMap": {},
     "title": ""
    }
   },
   "outputs": [
    {
     "output_type": "stream",
     "name": "stdout",
     "output_type": "stream",
     "text": [
      "+-------------------+-------------------+\n|         Start Date|     regexp_replace|\n+-------------------+-------------------+\n|2015-08-31 23:26:00|1900-08-31 23:26:00|\n|2015-08-31 23:11:00|1900-08-31 23:11:00|\n|2015-08-31 23:13:00|1900-08-31 23:13:00|\n|2015-08-31 23:10:00|1900-08-31 23:10:00|\n|2015-08-31 23:09:00|1900-08-31 23:09:00|\n|2015-08-31 23:07:00|1900-08-31 23:07:00|\n|2015-08-31 23:07:00|1900-08-31 23:07:00|\n|2015-08-31 22:16:00|1900-08-31 22:16:00|\n|2015-08-31 22:12:00|1900-08-31 22:12:00|\n|2015-08-31 21:57:00|1900-08-31 21:57:00|\n|2015-08-31 21:49:00|1900-08-31 21:49:00|\n|2015-08-31 21:44:00|1900-08-31 21:44:00|\n|2015-08-31 21:39:00|1900-08-31 21:39:00|\n|2015-08-31 21:31:00|1900-08-31 21:31:00|\n|2015-08-31 21:25:00|1900-08-31 21:25:00|\n|2015-08-31 21:19:00|1900-08-31 21:19:00|\n|2015-08-31 21:17:00|1900-08-31 21:17:00|\n|2015-08-31 21:16:00|1900-08-31 21:16:00|\n|2015-08-31 21:11:00|1900-08-31 21:11:00|\n|2015-08-31 21:07:00|1900-08-31 21:07:00|\n|2015-08-31 21:06:00|1900-08-31 21:06:00|\n|2015-08-31 21:01:00|1900-08-31 21:01:00|\n|2015-08-31 20:58:00|1900-08-31 20:58:00|\n|2015-08-31 20:53:00|1900-08-31 20:53:00|\n|2015-08-31 20:53:00|1900-08-31 20:53:00|\n|2015-08-31 20:46:00|1900-08-31 20:46:00|\n|2015-08-31 20:44:00|1900-08-31 20:44:00|\n|2015-08-31 20:39:00|1900-08-31 20:39:00|\n|2015-08-31 20:37:00|1900-08-31 20:37:00|\n|2015-08-31 20:36:00|1900-08-31 20:36:00|\n|2015-08-31 20:34:00|1900-08-31 20:34:00|\n|2015-08-31 20:33:00|1900-08-31 20:33:00|\n|2015-08-31 20:27:00|1900-08-31 20:27:00|\n|2015-08-31 20:24:00|1900-08-31 20:24:00|\n|2015-08-31 20:24:00|1900-08-31 20:24:00|\n|2015-08-31 20:23:00|1900-08-31 20:23:00|\n|2015-08-31 20:23:00|1900-08-31 20:23:00|\n|2015-08-31 20:23:00|1900-08-31 20:23:00|\n|2015-08-31 20:23:00|1900-08-31 20:23:00|\n|2015-08-31 20:23:00|1900-08-31 20:23:00|\n|2015-08-31 20:20:00|1900-08-31 20:20:00|\n|2015-08-31 20:20:00|1900-08-31 20:20:00|\n|2015-08-31 20:17:00|1900-08-31 20:17:00|\n|2015-08-31 20:15:00|1900-08-31 20:15:00|\n|2015-08-31 20:15:00|1900-08-31 20:15:00|\n|2015-08-31 20:12:00|1900-08-31 20:12:00|\n|2015-08-31 20:10:00|1900-08-31 20:10:00|\n|2015-08-31 20:10:00|1900-08-31 20:10:00|\n|2015-08-31 20:09:00|1900-08-31 20:09:00|\n|2015-08-31 20:08:00|1900-08-31 20:08:00|\n+-------------------+-------------------+\nonly showing top 50 rows\n\n"
     ]
    }
   ],
   "source": [
    "from pyspark.sql.functions import regexp_replace\n",
    "\n",
    "regex = r\"\\d{4}\"  # znajdź rok (cztery cyfry)\n",
    "\n",
    "rDf = df.select(\n",
    "    \"Start Date\",\n",
    "    regexp_replace(\"Start Date\", regex, \"1900\").alias(\"regexp_replace\")\n",
    ")\n",
    "\n",
    "rDf.show(50)\n"
   ]
  },
  {
   "cell_type": "code",
   "execution_count": 0,
   "metadata": {
    "application/vnd.databricks.v1+cell": {
     "cellMetadata": {
      "byteLimit": 2048000,
      "rowLimit": 10000
     },
     "inputWidgets": {},
     "nuid": "5f69a439-0b7f-4e72-bdc6-787c2ae81f05",
     "showTitle": false,
     "tableResultSettingsMap": {},
     "title": ""
    }
   },
   "outputs": [
    {
     "output_type": "stream",
     "name": "stdout",
     "output_type": "stream",
     "text": [
      "+-------+\n|extract|\n+-------+\n|     08|\n|     08|\n|     08|\n|     08|\n|     08|\n|     08|\n|     08|\n|     08|\n|     08|\n|     08|\n|     08|\n|     08|\n|     08|\n|     08|\n|     08|\n|     08|\n|     08|\n|     08|\n|     08|\n|     08|\n|     08|\n|     08|\n|     08|\n|     08|\n|     08|\n|     08|\n|     08|\n|     08|\n|     08|\n|     08|\n|     08|\n|     08|\n|     08|\n|     08|\n|     08|\n|     08|\n|     08|\n|     08|\n|     08|\n|     08|\n|     08|\n|     08|\n|     08|\n|     08|\n|     08|\n|     08|\n|     08|\n|     08|\n|     08|\n|     08|\n+-------+\nonly showing top 50 rows\n\n"
     ]
    }
   ],
   "source": [
    "#regexp_extract\n",
    "\n",
    "regex2 = r\"(\\d{4})-(\\d{1,2})\"\n",
    "\n",
    "reDf = rDf.select(regexp_extract(\"regexp_replace\", regex2, 2).alias(\"extract\"))\n",
    "\n",
    "reDf.show(50)"
   ]
  },
  {
   "cell_type": "code",
   "execution_count": 0,
   "metadata": {
    "application/vnd.databricks.v1+cell": {
     "cellMetadata": {
      "byteLimit": 2048000,
      "rowLimit": 10000
     },
     "inputWidgets": {},
     "nuid": "2dd484f6-bbf6-463b-8cb0-5ffa6e8697d8",
     "showTitle": false,
     "tableResultSettingsMap": {},
     "title": ""
    }
   },
   "outputs": [
    {
     "output_type": "stream",
     "name": "stdout",
     "output_type": "stream",
     "text": [
      "+--------+-----+\n|Zip Code| test|\n+--------+-----+\n|    null|  547|\n|    null|  293|\n|    null|  824|\n|    null|  827|\n|    null|  324|\n|    null| 2092|\n|    null|  519|\n|    null|  744|\n|    null|  818|\n|    null| 1502|\n|    null|  492|\n|    null|  545|\n|    null| 3818|\n|    null|20958|\n|    null| 4424|\n|    null|21180|\n|    null|21182|\n|    null| 4652|\n|    null| 5254|\n|    null| 1447|\n|    null| 1495|\n|    null|  676|\n|    null|  801|\n|    null|  940|\n|    null| 4586|\n|    null|18353|\n|    null| 9581|\n|    null| 9791|\n|    null| 6481|\n|    null| 1710|\n|    null| 1728|\n|    null| 1812|\n|    null|  538|\n|    null|  725|\n|    null| 1840|\n|    null| 1925|\n|    null| 7114|\n|    null|  668|\n|    null| 2015|\n|    null|  685|\n|    null|  863|\n|    null|  873|\n|    null|  342|\n|    null|  632|\n|    null|  648|\n|    null| 5444|\n|    null|  432|\n|    null|  444|\n|    null|  959|\n|    null|  494|\n+--------+-----+\nonly showing top 50 rows\n\n"
     ]
    }
   ],
   "source": [
    "from pyspark.sql.functions import coalesce\n",
    "\n",
    "ifnDf = df.select(\n",
    "    \"Zip Code\",\n",
    "    coalesce(col(\"Zip Code\"), col(\"Duration\")).alias(\"test\")  # jeśli Zip Code jest null, użyj Duration\n",
    ").filter(col(\"Zip Code\").isNull())\n",
    "\n",
    "ifnDf.show(50)"
   ]
  },
  {
   "cell_type": "code",
   "execution_count": 0,
   "metadata": {
    "application/vnd.databricks.v1+cell": {
     "cellMetadata": {
      "byteLimit": 2048000,
      "rowLimit": 10000
     },
     "inputWidgets": {},
     "nuid": "a76aae1f-e4de-4a62-a924-3ffde1df514b",
     "showTitle": false,
     "tableResultSettingsMap": {},
     "title": ""
    }
   },
   "outputs": [
    {
     "output_type": "stream",
     "name": "stdout",
     "output_type": "stream",
     "text": [
      "+--------+---------+------+\n|Duration|Duration2|nullif|\n+--------+---------+------+\n|     765|      765|  null|\n|    1036|     2072|  1036|\n|     307|      307|  null|\n|     409|      409|  null|\n|     789|      789|  null|\n|     293|      293|  null|\n|     896|     1792|   896|\n|     255|      255|  null|\n|     126|      252|   126|\n|     932|     1864|   932|\n|     691|      691|  null|\n|     633|      633|  null|\n|     387|      387|  null|\n|     281|      281|  null|\n|     424|      848|   424|\n|     283|      283|  null|\n|     145|      145|  null|\n|     703|      703|  null|\n|     605|      605|  null|\n|     902|     1804|   902|\n|     481|      481|  null|\n|     335|      335|  null|\n|     704|     1408|   704|\n|     326|      652|   326|\n|     274|      548|   274|\n|     709|      709|  null|\n|     486|      972|   486|\n|     273|      273|  null|\n|     497|      497|  null|\n|     395|      395|  null|\n|     509|      509|  null|\n|     671|      671|  null|\n|     307|      307|  null|\n|     359|      359|  null|\n|     310|      620|   310|\n|     329|      329|  null|\n|     382|      764|   382|\n|    1808|     3616|  1808|\n|     215|      215|  null|\n|     393|      393|  null|\n|    1435|     1435|  null|\n|     645|      645|  null|\n|     346|      692|   346|\n|     776|     1552|   776|\n|     803|      803|  null|\n|     378|      756|   378|\n|     523|      523|  null|\n|     663|      663|  null|\n|     888|     1776|   888|\n|     842|     1684|   842|\n+--------+---------+------+\nonly showing top 50 rows\n\n"
     ]
    }
   ],
   "source": [
    "from pyspark.sql.functions import when, col\n",
    "\n",
    "# Do testu – Duration2 czasem różni się od Duration\n",
    "sampDf = df.select(\n",
    "    \"Duration\",\n",
    "    (when(col(\"Duration\") % 2 == 0, 2 * col(\"Duration\"))\n",
    "     .otherwise(col(\"Duration\"))).alias(\"Duration2\")\n",
    ")\n",
    "\n",
    "# NULLIF(Duration, Duration2)\n",
    "niDf = sampDf.select(\n",
    "    \"Duration\",\n",
    "    \"Duration2\",\n",
    "    (when(col(\"Duration\") == col(\"Duration2\"), None)\n",
    "     .otherwise(col(\"Duration\"))).alias(\"nullif\")\n",
    ")\n",
    "\n",
    "niDf.show(50)\n"
   ]
  },
  {
   "cell_type": "code",
   "execution_count": 0,
   "metadata": {
    "application/vnd.databricks.v1+cell": {
     "cellMetadata": {
      "byteLimit": 2048000,
      "rowLimit": 10000
     },
     "inputWidgets": {},
     "nuid": "f2ae09df-cb65-4938-8196-0635e9734a37",
     "showTitle": false,
     "tableResultSettingsMap": {},
     "title": ""
    }
   },
   "outputs": [
    {
     "output_type": "stream",
     "name": "stdout",
     "output_type": "stream",
     "text": [
      "+--------+---------+------+\n|Duration|Duration2|nullif|\n+--------+---------+------+\n|     765|      765|  null|\n|    1036|     2072|  1036|\n|     307|      307|  null|\n|     409|      409|  null|\n|     789|      789|  null|\n|     293|      293|  null|\n|     896|     1792|   896|\n|     255|      255|  null|\n|     126|      252|   126|\n|     932|     1864|   932|\n|     691|      691|  null|\n|     633|      633|  null|\n|     387|      387|  null|\n|     281|      281|  null|\n|     424|      848|   424|\n|     283|      283|  null|\n|     145|      145|  null|\n|     703|      703|  null|\n|     605|      605|  null|\n|     902|     1804|   902|\n|     481|      481|  null|\n|     335|      335|  null|\n|     704|     1408|   704|\n|     326|      652|   326|\n|     274|      548|   274|\n|     709|      709|  null|\n|     486|      972|   486|\n|     273|      273|  null|\n|     497|      497|  null|\n|     395|      395|  null|\n|     509|      509|  null|\n|     671|      671|  null|\n|     307|      307|  null|\n|     359|      359|  null|\n|     310|      620|   310|\n|     329|      329|  null|\n|     382|      764|   382|\n|    1808|     3616|  1808|\n|     215|      215|  null|\n|     393|      393|  null|\n|    1435|     1435|  null|\n|     645|      645|  null|\n|     346|      692|   346|\n|     776|     1552|   776|\n|     803|      803|  null|\n|     378|      756|   378|\n|     523|      523|  null|\n|     663|      663|  null|\n|     888|     1776|   888|\n|     842|     1684|   842|\n+--------+---------+------+\nonly showing top 50 rows\n\n"
     ]
    }
   ],
   "source": [
    "#replace\n",
    "\n",
    "repDf = niDf.na.replace(25, 33, ['Duration'])\n",
    "\n",
    "repDf.show(50)"
   ]
  },
  {
   "cell_type": "code",
   "execution_count": 0,
   "metadata": {
    "application/vnd.databricks.v1+cell": {
     "cellMetadata": {
      "byteLimit": 2048000,
      "rowLimit": 10000
     },
     "inputWidgets": {},
     "nuid": "206e8ede-6a65-455a-b689-28fc89affff1",
     "showTitle": false,
     "tableResultSettingsMap": {},
     "title": ""
    }
   },
   "outputs": [
    {
     "output_type": "stream",
     "name": "stdout",
     "output_type": "stream",
     "text": [
      "+--------------------+--------+\n|       Start Station|arr_cont|\n+--------------------+--------+\n|[Harry, Bridges, ...|   false|\n|[San, Antonio, Sh...|    true|\n|  [Post, at, Kearny]|   false|\n|[San, Jose, City,...|    true|\n|[Embarcadero, at,...|   false|\n|[Yerba, Buena, Ce...|   false|\n|[Embarcadero, at,...|   false|\n|[Embarcadero, at,...|   false|\n| [Beale, at, Market]|   false|\n|  [Post, at, Kearny]|   false|\n|[Embarcadero, at,...|   false|\n|  [Market, at, 10th]|   false|\n|   [Market, at, 4th]|   false|\n|[Market, at, Sans...|   false|\n|[Temporary, Trans...|   false|\n|[San, Francisco, ...|    true|\n|[University, and,...|   false|\n| [Spear, at, Folsom]|   false|\n|[Temporary, Trans...|   false|\n|[San, Francisco, ...|    true|\n|[San, Francisco, ...|    true|\n|[Mountain, View, ...|   false|\n|[Steuart, at, Mar...|   false|\n|[Yerba, Buena, Ce...|   false|\n|[Harry, Bridges, ...|   false|\n|[Embarcadero, at,...|   false|\n| [Spear, at, Folsom]|   false|\n|[San, Francisco, ...|    true|\n|[Market, at, Sans...|   false|\n|  [Market, at, 10th]|   false|\n|[Civic, Center, B...|   false|\n| [2nd, at, Townsend]|   false|\n|[Castro, Street, ...|   false|\n|   [Howard, at, 2nd]|   false|\n|   [5th, at, Howard]|   false|\n|[2nd, at, South, ...|   false|\n|   [5th, at, Howard]|   false|\n|[Embarcadero, at,...|   false|\n|   [Howard, at, 2nd]|   false|\n|   [5th, at, Howard]|   false|\n| [2nd, at, Townsend]|   false|\n| [Townsend, at, 7th]|   false|\n|[Yerba, Buena, Ce...|   false|\n|[Market, at, Sans...|   false|\n| [Spear, at, Folsom]|   false|\n|[Market, at, Sans...|   false|\n|[San, Francisco, ...|    true|\n| [Townsend, at, 7th]|   false|\n|[Commercial, at, ...|   false|\n|[San, Francisco, ...|    true|\n+--------------------+--------+\nonly showing top 50 rows\n\n"
     ]
    }
   ],
   "source": [
    "#array_contains\n",
    "aDf = arrDf.select(\"Start Station\", array_contains(\"Start Station\", \"San\").alias('arr_cont'))\n",
    "\n",
    "aDf.show(50)"
   ]
  },
  {
   "cell_type": "markdown",
   "metadata": {
    "application/vnd.databricks.v1+cell": {
     "cellMetadata": {
      "byteLimit": 2048000,
      "rowLimit": 10000
     },
     "inputWidgets": {},
     "nuid": "6f6a8800-7ea2-4958-977e-d80024c98cd1",
     "showTitle": false,
     "tableResultSettingsMap": {},
     "title": ""
    }
   },
   "source": [
    "### Funkcje agregujące"
   ]
  },
  {
   "cell_type": "code",
   "execution_count": 0,
   "metadata": {
    "application/vnd.databricks.v1+cell": {
     "cellMetadata": {
      "byteLimit": 2048000,
      "rowLimit": 10000
     },
     "inputWidgets": {},
     "nuid": "7babbe52-9719-41f4-b913-0e936d39eabc",
     "showTitle": false,
     "tableResultSettingsMap": {},
     "title": ""
    }
   },
   "outputs": [
    {
     "output_type": "stream",
     "name": "stdout",
     "output_type": "stream",
     "text": [
      "+------------------+------------------+------------------+\n|     avg(Duration)|skewness(Duration)|kurtosis(Duration)|\n+------------------+------------------+------------------+\n|1046.0326611172604| 539.9225455582219|309473.43755760806|\n+------------------+------------------+------------------+\n\n"
     ]
    }
   ],
   "source": [
    "from pyspark.sql.functions import avg, skewness, kurtosis\n",
    "\n",
    "aggDf = df.select(avg(\"Duration\"), skewness(\"Duration\"), kurtosis(\"Duration\"))\n",
    "\n",
    "aggDf.show(50)"
   ]
  },
  {
   "cell_type": "markdown",
   "metadata": {
    "application/vnd.databricks.v1+cell": {
     "cellMetadata": {
      "byteLimit": 2048000,
      "rowLimit": 10000
     },
     "inputWidgets": {},
     "nuid": "2b4f95ed-874e-4efb-b001-7b3a30321342",
     "showTitle": false,
     "tableResultSettingsMap": {},
     "title": ""
    }
   },
   "source": [
    "## Zad 2"
   ]
  },
  {
   "cell_type": "code",
   "execution_count": 0,
   "metadata": {
    "application/vnd.databricks.v1+cell": {
     "cellMetadata": {
      "byteLimit": 2048000,
      "rowLimit": 10000
     },
     "inputWidgets": {},
     "nuid": "f07a2fb7-c93b-4565-b63b-7faed70f9b2a",
     "showTitle": false,
     "tableResultSettingsMap": {},
     "title": ""
    }
   },
   "outputs": [
    {
     "output_type": "stream",
     "name": "stdout",
     "output_type": "stream",
     "text": [
      "+--------------------+-----------+\n|       Start Station| First word|\n+--------------------+-----------+\n|Harry Bridges Pla...|      Harry|\n|San Antonio Shopp...|        San|\n|      Post at Kearny|       Post|\n|  San Jose City Hall|        San|\n|Embarcadero at Fo...|Embarcadero|\n|Yerba Buena Cente...|      Yerba|\n|Embarcadero at Fo...|Embarcadero|\n|Embarcadero at Sa...|Embarcadero|\n|     Beale at Market|      Beale|\n|      Post at Kearny|       Post|\n|Embarcadero at Sa...|Embarcadero|\n|      Market at 10th|     Market|\n|       Market at 4th|     Market|\n|   Market at Sansome|     Market|\n|Temporary Transba...|  Temporary|\n|San Francisco Cal...|        San|\n|University and Em...| University|\n|     Spear at Folsom|      Spear|\n|Temporary Transba...|  Temporary|\n|San Francisco Cal...|        San|\n|San Francisco Cal...|        San|\n|Mountain View Cal...|   Mountain|\n|   Steuart at Market|    Steuart|\n|Yerba Buena Cente...|      Yerba|\n|Harry Bridges Pla...|      Harry|\n|Embarcadero at Sa...|Embarcadero|\n|     Spear at Folsom|      Spear|\n|San Francisco Cal...|        San|\n|   Market at Sansome|     Market|\n|      Market at 10th|     Market|\n|Civic Center BART...|      Civic|\n|     2nd at Townsend|        2nd|\n|Castro Street and...|     Castro|\n|       Howard at 2nd|     Howard|\n|       5th at Howard|        5th|\n|   2nd at South Park|        2nd|\n|       5th at Howard|        5th|\n|Embarcadero at Br...|Embarcadero|\n|       Howard at 2nd|     Howard|\n|       5th at Howard|        5th|\n|     2nd at Townsend|        2nd|\n|     Townsend at 7th|   Townsend|\n|Yerba Buena Cente...|      Yerba|\n|   Market at Sansome|     Market|\n|     Spear at Folsom|      Spear|\n|   Market at Sansome|     Market|\n|San Francisco Cal...|        San|\n|     Townsend at 7th|   Townsend|\n|Commercial at Mon...| Commercial|\n|San Francisco Cal...|        San|\n+--------------------+-----------+\nonly showing top 50 rows\n\n"
     ]
    }
   ],
   "source": [
    "from pyspark.sql.functions import udf\n",
    "from pyspark.sql.types import StringType\n",
    "\n",
    "def fun2(string: str) -> str:\n",
    "    return string.split()[0] if string else None\n",
    "\n",
    "fun2_udf = udf(fun2, StringType())\n",
    "\n",
    "fDf = df.select(\"Start Station\", fun2_udf(\"Start Station\").alias(\"First word\"))\n",
    "\n",
    "fDf.show(50)\n"
   ]
  },
  {
   "cell_type": "code",
   "execution_count": 0,
   "metadata": {
    "application/vnd.databricks.v1+cell": {
     "cellMetadata": {
      "byteLimit": 2048000,
      "rowLimit": 10000
     },
     "inputWidgets": {},
     "nuid": "b45b6e9a-0b03-42d3-84d2-1c5f74266450",
     "showTitle": false,
     "tableResultSettingsMap": {},
     "title": ""
    }
   },
   "outputs": [
    {
     "output_type": "stream",
     "name": "stdout",
     "output_type": "stream",
     "text": [
      "+--------+---------------+\n|Duration|Double Duration|\n+--------+---------------+\n|     765|           1530|\n|    1036|           2072|\n|     307|            614|\n|     409|            818|\n|     789|           1578|\n|     293|            586|\n|     896|           1792|\n|     255|            510|\n|     126|            252|\n|     932|           1864|\n|     691|           1382|\n|     633|           1266|\n|     387|            774|\n|     281|            562|\n|     424|            848|\n|     283|            566|\n|     145|            290|\n|     703|           1406|\n|     605|           1210|\n|     902|           1804|\n|     481|            962|\n|     335|            670|\n|     704|           1408|\n|     326|            652|\n|     274|            548|\n|     709|           1418|\n|     486|            972|\n|     273|            546|\n|     497|            994|\n|     395|            790|\n|     509|           1018|\n|     671|           1342|\n|     307|            614|\n|     359|            718|\n|     310|            620|\n|     329|            658|\n|     382|            764|\n|    1808|           3616|\n|     215|            430|\n|     393|            786|\n|    1435|           2870|\n|     645|           1290|\n|     346|            692|\n|     776|           1552|\n|     803|           1606|\n|     378|            756|\n|     523|           1046|\n|     663|           1326|\n|     888|           1776|\n|     842|           1684|\n+--------+---------------+\nonly showing top 50 rows\n\n"
     ]
    }
   ],
   "source": [
    "from pyspark.sql.functions import pandas_udf\n",
    "from pyspark.sql.types import IntegerType\n",
    "import pandas as pd\n",
    "\n",
    "# Definicja pandas_udf (mnożenie wartości przez 2)\n",
    "@pandas_udf(returnType=IntegerType())\n",
    "def fun(arr: pd.Series) -> pd.Series:\n",
    "    return arr * 2\n",
    "\n",
    "# Zastosowanie w DataFrame\n",
    "ffDf = df.select(\"Duration\", fun(\"Duration\").alias(\"Double Duration\"))\n",
    "\n",
    "# Wyświetlenie\n",
    "ffDf.show(50)\n"
   ]
  },
  {
   "cell_type": "code",
   "execution_count": 0,
   "metadata": {
    "application/vnd.databricks.v1+cell": {
     "cellMetadata": {
      "byteLimit": 2048000,
      "rowLimit": 10000
     },
     "inputWidgets": {},
     "nuid": "40bfed6d-1e1e-4fda-ad11-5e5b5c2bcc79",
     "showTitle": false,
     "tableResultSettingsMap": {},
     "title": ""
    }
   },
   "outputs": [],
   "source": []
  }
 ],
 "metadata": {
  "application/vnd.databricks.v1+notebook": {
   "computePreferences": null,
   "dashboards": [],
   "environmentMetadata": {
    "base_environment": "",
    "environment_version": "1"
   },
   "inputWidgetPreferences": null,
   "language": "python",
   "notebookMetadata": {
    "pythonIndentUnit": 4
   },
   "notebookName": "Zad1-2",
   "widgets": {}
  }
 },
 "nbformat": 4,
 "nbformat_minor": 0
}