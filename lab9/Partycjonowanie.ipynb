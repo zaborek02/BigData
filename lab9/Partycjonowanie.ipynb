{
 "cells": [
  {
   "cell_type": "markdown",
   "metadata": {
    "application/vnd.databricks.v1+cell": {
     "cellMetadata": {},
     "inputWidgets": {},
     "nuid": "e4e077c2-e165-4611-829e-6810152755f7",
     "showTitle": false,
     "tableResultSettingsMap": {},
     "title": ""
    }
   },
   "source": [
    "#Partycjonowanie\n",
    "\n",
    "* Wikipedia odwiedziny strony\n",
    "\n",
    "* Różnice pomiędzy partycjami a slots/cores\n",
    "* Porównanie `repartition(n)` and `coalesce(n)`\n",
    "* Shuffle partitions\n",
    "\n",
    "https://dumps.wikimedia.org/other/pageviews/readme.html"
   ]
  },
  {
   "cell_type": "code",
   "execution_count": 0,
   "metadata": {
    "application/vnd.databricks.v1+cell": {
     "cellMetadata": {
      "byteLimit": 2048000,
      "rowLimit": 10000
     },
     "inputWidgets": {},
     "nuid": "352d9429-7e66-4b96-9e87-e5ee6a425f8c",
     "showTitle": false,
     "tableResultSettingsMap": {},
     "title": ""
    }
   },
   "outputs": [],
   "source": [
    "from pyspark.sql.functions import * \n",
    "from pyspark.sql.types import * \n",
    "\n",
    "\n",
    "schema = StructType([\n",
    "    StructField(\"domain_code\", StringType(), True),\n",
    "    StructField(\"page_title\", StringType(), False),\n",
    "    StructField(\"count_views\", IntegerType(), True),\n",
    "    StructField(\"total_response_size\",IntegerType(),True)\n",
    "  ])\n",
    "\n",
    "fileName = \"dbfs:/FileStore/tables/pageviews_20250501_040000-2\"\n",
    "\n",
    "initialDF = (spark.read\n",
    "  .option(\"header\", \"true\")\n",
    "  .option(\"sep\", \" \")\n",
    "  .option(\"header\",\"True\")\n",
    "  .schema(schema)\n",
    "  .csv(fileName))"
   ]
  },
  {
   "cell_type": "markdown",
   "metadata": {
    "application/vnd.databricks.v1+cell": {
     "cellMetadata": {},
     "inputWidgets": {},
     "nuid": "e660744e-60ea-43c0-85d3-875c6548d235",
     "showTitle": false,
     "tableResultSettingsMap": {},
     "title": ""
    }
   },
   "source": [
    "## Partycje kontra Sloty\n",
    "\n",
    "** *The Spark API uses the term **core** meaning a thread available for parallel execution.*<br/>*Here we refer to it as **slot** to avoid confusion with the number of cores in the underlying CPU(s)*<br/>*to which there isn't necessarily an equal number.*"
   ]
  },
  {
   "cell_type": "markdown",
   "metadata": {
    "application/vnd.databricks.v1+cell": {
     "cellMetadata": {},
     "inputWidgets": {},
     "nuid": "3cfe3ff6-d675-48c7-855b-be66e6d7ec5b",
     "showTitle": false,
     "tableResultSettingsMap": {},
     "title": ""
    }
   },
   "source": [
    "### Slots/Cores\n",
    "\n",
    "Sprawdzam ile jest slotów `SparkContext.defaultParallelism`\n",
    "\n",
    "Dokumentacja <a href=\"https://spark.apache.org/docs/latest/configuration.html#execution-behavior\" target=\"_blank\">Spark Configuration, Execution Behavior</a>\n",
    "\n",
    "> Może zależeć od manager clustra:\n",
    "> * Local mode: number of cores on the local machine\n",
    "> * Mesos fine grained mode: 8\n",
    "> * **Others: total number of cores on all executor nodes or 2, whichever is larger**"
   ]
  },
  {
   "cell_type": "markdown",
   "metadata": {
    "application/vnd.databricks.v1+cell": {
     "cellMetadata": {},
     "inputWidgets": {},
     "nuid": "c29403a6-17bb-4d85-81c2-dde97b429fa3",
     "showTitle": false,
     "tableResultSettingsMap": {},
     "title": ""
    }
   },
   "source": [
    "Sprawdz jaki jest paralelism w spark context"
   ]
  },
  {
   "cell_type": "code",
   "execution_count": 0,
   "metadata": {
    "application/vnd.databricks.v1+cell": {
     "cellMetadata": {
      "byteLimit": 2048000,
      "rowLimit": 10000
     },
     "inputWidgets": {},
     "nuid": "22eeb473-c7c2-417d-afb3-1ad723f67666",
     "showTitle": false,
     "tableResultSettingsMap": {},
     "title": ""
    }
   },
   "outputs": [
    {
     "output_type": "stream",
     "name": "stdout",
     "output_type": "stream",
     "text": [
      "Out[9]: 8"
     ]
    }
   ],
   "source": [
    "sc.defaultParallelism"
   ]
  },
  {
   "cell_type": "markdown",
   "metadata": {
    "application/vnd.databricks.v1+cell": {
     "cellMetadata": {},
     "inputWidgets": {},
     "nuid": "51593f6e-7f05-4ea4-854e-102f70c71d21",
     "showTitle": false,
     "tableResultSettingsMap": {},
     "title": ""
    }
   },
   "source": [
    "### Partitions\n",
    "\n",
    "* Ile jest partycji\n",
    "\n",
    "Jak sprawdzić ilość partycji \n",
    "* wykonaj konwersję do `RDD`\n",
    "* zapytaj o `RDD` ilość partycji \n"
   ]
  },
  {
   "cell_type": "code",
   "execution_count": 0,
   "metadata": {
    "application/vnd.databricks.v1+cell": {
     "cellMetadata": {
      "byteLimit": 2048000,
      "rowLimit": 10000
     },
     "inputWidgets": {},
     "nuid": "41868fb4-5c65-423e-b643-b6d643c0f709",
     "showTitle": false,
     "tableResultSettingsMap": {},
     "title": ""
    }
   },
   "outputs": [
    {
     "output_type": "stream",
     "name": "stdout",
     "output_type": "stream",
     "text": [
      "Out[10]: 8"
     ]
    }
   ],
   "source": [
    "initialDF.rdd.getNumPartitions()"
   ]
  },
  {
   "cell_type": "markdown",
   "metadata": {
    "application/vnd.databricks.v1+cell": {
     "cellMetadata": {},
     "inputWidgets": {},
     "nuid": "04627bec-90c3-4eff-93ba-542b504dedde",
     "showTitle": false,
     "tableResultSettingsMap": {},
     "title": ""
    }
   },
   "source": [
    "Dlaczego tylko jedna partycje, czy to może przez to że wczytuję nie podzielny plik ???<br>\n",
    "Załaduj rozpakowany plik i wczytaj jeszcze raz"
   ]
  },
  {
   "cell_type": "code",
   "execution_count": 0,
   "metadata": {
    "application/vnd.databricks.v1+cell": {
     "cellMetadata": {
      "byteLimit": 2048000,
      "rowLimit": 10000
     },
     "inputWidgets": {},
     "nuid": "3625f267-e9ce-41c4-a2f9-a85f56c48d7f",
     "showTitle": false,
     "tableResultSettingsMap": {},
     "title": ""
    }
   },
   "outputs": [
    {
     "output_type": "display_data",
     "data": {
      "text/html": [
       "<style scoped>\n",
       "  .ansiout {\n",
       "    display: block;\n",
       "    unicode-bidi: embed;\n",
       "    white-space: pre-wrap;\n",
       "    word-wrap: break-word;\n",
       "    word-break: break-all;\n",
       "    font-family: \"Menlo\", \"Monaco\", \"Consolas\", \"Ubuntu Mono\", \"Source Code Pro\", monospace;\n",
       "    font-size: 13px;\n",
       "    color: #555;\n",
       "    margin-left: 4px;\n",
       "    line-height: 19px;\n",
       "  }\n",
       "</style>\n",
       "<div class=\"ansiout\"></div>"
      ]
     },
     "metadata": {
      "application/vnd.databricks.v1+output": {
       "addedWidgets": {},
       "arguments": {},
       "data": "<div class=\"ansiout\"></div>",
       "datasetInfos": [],
       "metadata": {
        "isDbfsCommandResult": false
       },
       "removedWidgets": [],
       "type": "html"
      }
     },
     "output_type": "display_data"
    },
    {
     "output_type": "display_data",
     "data": {
      "text/html": [
       "<style scoped>\n",
       "  .ansiout {\n",
       "    display: block;\n",
       "    unicode-bidi: embed;\n",
       "    white-space: pre-wrap;\n",
       "    word-wrap: break-word;\n",
       "    word-break: break-all;\n",
       "    font-family: \"Menlo\", \"Monaco\", \"Consolas\", \"Ubuntu Mono\", \"Source Code Pro\", monospace;\n",
       "    font-size: 13px;\n",
       "    color: #555;\n",
       "    margin-left: 4px;\n",
       "    line-height: 19px;\n",
       "  }\n",
       "</style>\n",
       "<div class=\"ansiout\">\tat com.databricks.backend.daemon.data.client.DbfsClient.send0(DbfsClient.scala:121)\n",
       "\tat com.databricks.backend.daemon.data.client.DbfsClient.sendIdempotent(DbfsClient.scala:69)\n",
       "\tat com.databricks.backend.daemon.data.client.DatabricksFileSystemV1.listStatus(DatabricksFileSystemV1.scala:179)\n",
       "\tat com.databricks.backend.daemon.data.client.DatabricksFileSystem.listStatus(DatabricksFileSystem.scala:161)\n",
       "\tat com.databricks.backend.daemon.dbutils.FSUtils.lsWithLimit(DBUtilsCore.scala:274)\n",
       "\tat com.databricks.backend.daemon.dbutils.FSUtils.$anonfun$lsImpl$4(DBUtilsCore.scala:243)\n",
       "\tat com.databricks.backend.daemon.dbutils.FSUtils.withFsSafetyCheck(DBUtilsCore.scala:149)\n",
       "\tat com.databricks.backend.daemon.dbutils.FSUtils.$anonfun$lsImpl$3(DBUtilsCore.scala:243)\n",
       "\tat com.databricks.backend.daemon.dbutils.FSUtils.checkPermission(DBUtilsCore.scala:144)\n",
       "\tat com.databricks.backend.daemon.dbutils.FSUtils.lsImpl(DBUtilsCore.scala:242)\n",
       "\tat com.databricks.backend.daemon.dbutils.FSUtils.$anonfun$ls$1(DBUtilsCore.scala:215)\n",
       "\tat com.databricks.logging.UsageLogging.$anonfun$recordOperation$1(UsageLogging.scala:560)\n",
       "\tat com.databricks.logging.UsageLogging.executeThunkAndCaptureResultTags$1(UsageLogging.scala:657)\n",
       "\tat com.databricks.logging.UsageLogging.$anonfun$recordOperationWithResultTags$4(UsageLogging.scala:678)\n",
       "\tat com.databricks.logging.UsageLogging.$anonfun$withAttributionContext$1(UsageLogging.scala:414)\n",
       "\tat scala.util.DynamicVariable.withValue(DynamicVariable.scala:62)\n",
       "\tat com.databricks.logging.AttributionContext$.withValue(AttributionContext.scala:158)\n",
       "\tat com.databricks.logging.UsageLogging.withAttributionContext(UsageLogging.scala:412)\n",
       "\tat com.databricks.logging.UsageLogging.withAttributionContext$(UsageLogging.scala:409)\n",
       "\tat com.databricks.backend.daemon.dbutils.FSUtils.withAttributionContext(DBUtilsCore.scala:71)\n",
       "\tat com.databricks.logging.UsageLogging.withAttributionTags(UsageLogging.scala:457)\n",
       "\tat com.databricks.logging.UsageLogging.withAttributionTags$(UsageLogging.scala:442)\n",
       "\tat com.databricks.backend.daemon.dbutils.FSUtils.withAttributionTags(DBUtilsCore.scala:71)\n",
       "\tat com.databricks.logging.UsageLogging.recordOperationWithResultTags(UsageLogging.scala:652)\n",
       "\tat com.databricks.logging.UsageLogging.recordOperationWithResultTags$(UsageLogging.scala:569)\n",
       "\tat com.databricks.backend.daemon.dbutils.FSUtils.recordOperationWithResultTags(DBUtilsCore.scala:71)\n",
       "\tat com.databricks.logging.UsageLogging.recordOperation(UsageLogging.scala:560)\n",
       "\tat com.databricks.logging.UsageLogging.recordOperation$(UsageLogging.scala:528)\n",
       "\tat com.databricks.backend.daemon.dbutils.FSUtils.recordOperation(DBUtilsCore.scala:71)\n",
       "\tat com.databricks.backend.daemon.dbutils.FSUtils.recordDbutilsFsOp(DBUtilsCore.scala:135)\n",
       "\tat com.databricks.backend.daemon.dbutils.FSUtils.ls(DBUtilsCore.scala:215)\n",
       "\tat com.databricks.dbutils_v1.impl.DbfsUtilsImpl.ls(DbfsUtilsImpl.scala:67)\n",
       "\tat $line32a7655716374db5937d3d050a42a71e25.$read$$iw$$iw$$iw$$iw$$iw$$iw.&lt;init&gt;(command-626842756918406:1)\n",
       "\tat $line32a7655716374db5937d3d050a42a71e25.$read$$iw$$iw$$iw$$iw$$iw.&lt;init&gt;(command-626842756918406:43)\n",
       "\tat $line32a7655716374db5937d3d050a42a71e25.$read$$iw$$iw$$iw$$iw.&lt;init&gt;(command-626842756918406:45)\n",
       "\tat $line32a7655716374db5937d3d050a42a71e25.$read$$iw$$iw$$iw.&lt;init&gt;(command-626842756918406:47)\n",
       "\tat $line32a7655716374db5937d3d050a42a71e25.$read$$iw$$iw.&lt;init&gt;(command-626842756918406:49)\n",
       "\tat $line32a7655716374db5937d3d050a42a71e25.$read$$iw.&lt;init&gt;(command-626842756918406:51)\n",
       "\tat $line32a7655716374db5937d3d050a42a71e25.$read.&lt;init&gt;(command-626842756918406:53)\n",
       "\tat $line32a7655716374db5937d3d050a42a71e25.$read$.&lt;init&gt;(command-626842756918406:57)\n",
       "\tat $line32a7655716374db5937d3d050a42a71e25.$read$.&lt;clinit&gt;(command-626842756918406)\n",
       "\tat $line32a7655716374db5937d3d050a42a71e25.$eval$.$print$lzycompute(&lt;notebook&gt;:7)\n",
       "\tat $line32a7655716374db5937d3d050a42a71e25.$eval$.$print(&lt;notebook&gt;:6)\n",
       "\tat $line32a7655716374db5937d3d050a42a71e25.$eval.$print(&lt;notebook&gt;)\n",
       "\tat sun.reflect.NativeMethodAccessorImpl.invoke0(Native Method)\n",
       "\tat sun.reflect.NativeMethodAccessorImpl.invoke(NativeMethodAccessorImpl.java:62)\n",
       "\tat sun.reflect.DelegatingMethodAccessorImpl.invoke(DelegatingMethodAccessorImpl.java:43)\n",
       "\tat java.lang.reflect.Method.invoke(Method.java:498)\n",
       "\tat scala.tools.nsc.interpreter.IMain$ReadEvalPrint.call(IMain.scala:747)\n",
       "\tat scala.tools.nsc.interpreter.IMain$Request.loadAndRun(IMain.scala:1020)\n",
       "\tat scala.tools.nsc.interpreter.IMain.$anonfun$interpret$1(IMain.scala:568)\n",
       "\tat scala.reflect.internal.util.ScalaClassLoader.asContext(ScalaClassLoader.scala:36)\n",
       "\tat scala.reflect.internal.util.ScalaClassLoader.asContext$(ScalaClassLoader.scala:116)\n",
       "\tat scala.reflect.internal.util.AbstractFileClassLoader.asContext(AbstractFileClassLoader.scala:41)\n",
       "\tat scala.tools.nsc.interpreter.IMain.loadAndRunReq$1(IMain.scala:567)\n",
       "\tat scala.tools.nsc.interpreter.IMain.interpret(IMain.scala:594)\n",
       "\tat scala.tools.nsc.interpreter.IMain.interpret(IMain.scala:564)\n",
       "\tat com.databricks.backend.daemon.driver.DriverILoop.execute(DriverILoop.scala:223)\n",
       "\tat com.databricks.backend.daemon.driver.ScalaDriverLocal.$anonfun$repl$1(ScalaDriverLocal.scala:227)\n",
       "\tat scala.runtime.java8.JFunction0$mcV$sp.apply(JFunction0$mcV$sp.java:23)\n",
       "\tat com.databricks.backend.daemon.driver.DriverLocal$TrapExitInternal$.trapExit(DriverLocal.scala:1323)\n",
       "\tat com.databricks.backend.daemon.driver.DriverLocal$TrapExit$.apply(DriverLocal.scala:1276)\n",
       "\tat com.databricks.backend.daemon.driver.ScalaDriverLocal.repl(ScalaDriverLocal.scala:227)\n",
       "\tat com.databricks.backend.daemon.driver.DriverLocal.$anonfun$execute$27(DriverLocal.scala:929)\n",
       "\tat com.databricks.unity.EmptyHandle$.runWith(UCSHandle.scala:125)\n",
       "\tat com.databricks.backend.daemon.driver.DriverLocal.$anonfun$execute$24(DriverLocal.scala:920)\n",
       "\tat com.databricks.logging.UsageLogging.$anonfun$withAttributionContext$1(UsageLogging.scala:414)\n",
       "\tat scala.util.DynamicVariable.withValue(DynamicVariable.scala:62)\n",
       "\tat com.databricks.logging.AttributionContext$.withValue(AttributionContext.scala:158)\n",
       "\tat com.databricks.logging.UsageLogging.withAttributionContext(UsageLogging.scala:412)\n",
       "\tat com.databricks.logging.UsageLogging.withAttributionContext$(UsageLogging.scala:409)\n",
       "\tat com.databricks.backend.daemon.driver.DriverLocal.withAttributionContext(DriverLocal.scala:77)\n",
       "\tat com.databricks.logging.UsageLogging.withAttributionTags(UsageLogging.scala:457)\n",
       "\tat com.databricks.logging.UsageLogging.withAttributionTags$(UsageLogging.scala:442)\n",
       "\tat com.databricks.backend.daemon.driver.DriverLocal.withAttributionTags(DriverLocal.scala:77)\n",
       "\tat com.databricks.backend.daemon.driver.DriverLocal.execute(DriverLocal.scala:889)\n",
       "\tat com.databricks.backend.daemon.driver.DriverWrapper.$anonfun$tryExecutingCommand$2(DriverWrapper.scala:719)\n",
       "\tat scala.util.Try$.apply(Try.scala:213)\n",
       "\tat com.databricks.backend.daemon.driver.DriverWrapper.$anonfun$tryExecutingCommand$1(DriverWrapper.scala:711)\n",
       "\tat com.databricks.backend.daemon.driver.DriverWrapper.tryExecutingCommand(DriverWrapper.scala:739)\n",
       "\tat com.databricks.backend.daemon.driver.DriverWrapper.executeCommandAndGetError(DriverWrapper.scala:628)\n",
       "\tat com.databricks.backend.daemon.driver.DriverWrapper.executeCommand(DriverWrapper.scala:663)\n",
       "\tat com.databricks.backend.daemon.driver.DriverWrapper.runInnerLoop(DriverWrapper.scala:499)\n",
       "\tat com.databricks.backend.daemon.driver.DriverWrapper.runInner(DriverWrapper.scala:438)\n",
       "\tat com.databricks.backend.daemon.driver.DriverWrapper.run(DriverWrapper.scala:262)\n",
       "\tat java.lang.Thread.run(Thread.java:750)</div>"
      ]
     },
     "metadata": {
      "application/vnd.databricks.v1+output": {
       "arguments": {},
       "data": "<div class=\"ansiout\">\tat com.databricks.backend.daemon.data.client.DbfsClient.send0(DbfsClient.scala:121)\n\tat com.databricks.backend.daemon.data.client.DbfsClient.sendIdempotent(DbfsClient.scala:69)\n\tat com.databricks.backend.daemon.data.client.DatabricksFileSystemV1.listStatus(DatabricksFileSystemV1.scala:179)\n\tat com.databricks.backend.daemon.data.client.DatabricksFileSystem.listStatus(DatabricksFileSystem.scala:161)\n\tat com.databricks.backend.daemon.dbutils.FSUtils.lsWithLimit(DBUtilsCore.scala:274)\n\tat com.databricks.backend.daemon.dbutils.FSUtils.$anonfun$lsImpl$4(DBUtilsCore.scala:243)\n\tat com.databricks.backend.daemon.dbutils.FSUtils.withFsSafetyCheck(DBUtilsCore.scala:149)\n\tat com.databricks.backend.daemon.dbutils.FSUtils.$anonfun$lsImpl$3(DBUtilsCore.scala:243)\n\tat com.databricks.backend.daemon.dbutils.FSUtils.checkPermission(DBUtilsCore.scala:144)\n\tat com.databricks.backend.daemon.dbutils.FSUtils.lsImpl(DBUtilsCore.scala:242)\n\tat com.databricks.backend.daemon.dbutils.FSUtils.$anonfun$ls$1(DBUtilsCore.scala:215)\n\tat com.databricks.logging.UsageLogging.$anonfun$recordOperation$1(UsageLogging.scala:560)\n\tat com.databricks.logging.UsageLogging.executeThunkAndCaptureResultTags$1(UsageLogging.scala:657)\n\tat com.databricks.logging.UsageLogging.$anonfun$recordOperationWithResultTags$4(UsageLogging.scala:678)\n\tat com.databricks.logging.UsageLogging.$anonfun$withAttributionContext$1(UsageLogging.scala:414)\n\tat scala.util.DynamicVariable.withValue(DynamicVariable.scala:62)\n\tat com.databricks.logging.AttributionContext$.withValue(AttributionContext.scala:158)\n\tat com.databricks.logging.UsageLogging.withAttributionContext(UsageLogging.scala:412)\n\tat com.databricks.logging.UsageLogging.withAttributionContext$(UsageLogging.scala:409)\n\tat com.databricks.backend.daemon.dbutils.FSUtils.withAttributionContext(DBUtilsCore.scala:71)\n\tat com.databricks.logging.UsageLogging.withAttributionTags(UsageLogging.scala:457)\n\tat com.databricks.logging.UsageLogging.withAttributionTags$(UsageLogging.scala:442)\n\tat com.databricks.backend.daemon.dbutils.FSUtils.withAttributionTags(DBUtilsCore.scala:71)\n\tat com.databricks.logging.UsageLogging.recordOperationWithResultTags(UsageLogging.scala:652)\n\tat com.databricks.logging.UsageLogging.recordOperationWithResultTags$(UsageLogging.scala:569)\n\tat com.databricks.backend.daemon.dbutils.FSUtils.recordOperationWithResultTags(DBUtilsCore.scala:71)\n\tat com.databricks.logging.UsageLogging.recordOperation(UsageLogging.scala:560)\n\tat com.databricks.logging.UsageLogging.recordOperation$(UsageLogging.scala:528)\n\tat com.databricks.backend.daemon.dbutils.FSUtils.recordOperation(DBUtilsCore.scala:71)\n\tat com.databricks.backend.daemon.dbutils.FSUtils.recordDbutilsFsOp(DBUtilsCore.scala:135)\n\tat com.databricks.backend.daemon.dbutils.FSUtils.ls(DBUtilsCore.scala:215)\n\tat com.databricks.dbutils_v1.impl.DbfsUtilsImpl.ls(DbfsUtilsImpl.scala:67)\n\tat $line32a7655716374db5937d3d050a42a71e25.$read$$iw$$iw$$iw$$iw$$iw$$iw.&lt;init&gt;(command-626842756918406:1)\n\tat $line32a7655716374db5937d3d050a42a71e25.$read$$iw$$iw$$iw$$iw$$iw.&lt;init&gt;(command-626842756918406:43)\n\tat $line32a7655716374db5937d3d050a42a71e25.$read$$iw$$iw$$iw$$iw.&lt;init&gt;(command-626842756918406:45)\n\tat $line32a7655716374db5937d3d050a42a71e25.$read$$iw$$iw$$iw.&lt;init&gt;(command-626842756918406:47)\n\tat $line32a7655716374db5937d3d050a42a71e25.$read$$iw$$iw.&lt;init&gt;(command-626842756918406:49)\n\tat $line32a7655716374db5937d3d050a42a71e25.$read$$iw.&lt;init&gt;(command-626842756918406:51)\n\tat $line32a7655716374db5937d3d050a42a71e25.$read.&lt;init&gt;(command-626842756918406:53)\n\tat $line32a7655716374db5937d3d050a42a71e25.$read$.&lt;init&gt;(command-626842756918406:57)\n\tat $line32a7655716374db5937d3d050a42a71e25.$read$.&lt;clinit&gt;(command-626842756918406)\n\tat $line32a7655716374db5937d3d050a42a71e25.$eval$.$print$lzycompute(&lt;notebook&gt;:7)\n\tat $line32a7655716374db5937d3d050a42a71e25.$eval$.$print(&lt;notebook&gt;:6)\n\tat $line32a7655716374db5937d3d050a42a71e25.$eval.$print(&lt;notebook&gt;)\n\tat sun.reflect.NativeMethodAccessorImpl.invoke0(Native Method)\n\tat sun.reflect.NativeMethodAccessorImpl.invoke(NativeMethodAccessorImpl.java:62)\n\tat sun.reflect.DelegatingMethodAccessorImpl.invoke(DelegatingMethodAccessorImpl.java:43)\n\tat java.lang.reflect.Method.invoke(Method.java:498)\n\tat scala.tools.nsc.interpreter.IMain$ReadEvalPrint.call(IMain.scala:747)\n\tat scala.tools.nsc.interpreter.IMain$Request.loadAndRun(IMain.scala:1020)\n\tat scala.tools.nsc.interpreter.IMain.$anonfun$interpret$1(IMain.scala:568)\n\tat scala.reflect.internal.util.ScalaClassLoader.asContext(ScalaClassLoader.scala:36)\n\tat scala.reflect.internal.util.ScalaClassLoader.asContext$(ScalaClassLoader.scala:116)\n\tat scala.reflect.internal.util.AbstractFileClassLoader.asContext(AbstractFileClassLoader.scala:41)\n\tat scala.tools.nsc.interpreter.IMain.loadAndRunReq$1(IMain.scala:567)\n\tat scala.tools.nsc.interpreter.IMain.interpret(IMain.scala:594)\n\tat scala.tools.nsc.interpreter.IMain.interpret(IMain.scala:564)\n\tat com.databricks.backend.daemon.driver.DriverILoop.execute(DriverILoop.scala:223)\n\tat com.databricks.backend.daemon.driver.ScalaDriverLocal.$anonfun$repl$1(ScalaDriverLocal.scala:227)\n\tat scala.runtime.java8.JFunction0$mcV$sp.apply(JFunction0$mcV$sp.java:23)\n\tat com.databricks.backend.daemon.driver.DriverLocal$TrapExitInternal$.trapExit(DriverLocal.scala:1323)\n\tat com.databricks.backend.daemon.driver.DriverLocal$TrapExit$.apply(DriverLocal.scala:1276)\n\tat com.databricks.backend.daemon.driver.ScalaDriverLocal.repl(ScalaDriverLocal.scala:227)\n\tat com.databricks.backend.daemon.driver.DriverLocal.$anonfun$execute$27(DriverLocal.scala:929)\n\tat com.databricks.unity.EmptyHandle$.runWith(UCSHandle.scala:125)\n\tat com.databricks.backend.daemon.driver.DriverLocal.$anonfun$execute$24(DriverLocal.scala:920)\n\tat com.databricks.logging.UsageLogging.$anonfun$withAttributionContext$1(UsageLogging.scala:414)\n\tat scala.util.DynamicVariable.withValue(DynamicVariable.scala:62)\n\tat com.databricks.logging.AttributionContext$.withValue(AttributionContext.scala:158)\n\tat com.databricks.logging.UsageLogging.withAttributionContext(UsageLogging.scala:412)\n\tat com.databricks.logging.UsageLogging.withAttributionContext$(UsageLogging.scala:409)\n\tat com.databricks.backend.daemon.driver.DriverLocal.withAttributionContext(DriverLocal.scala:77)\n\tat com.databricks.logging.UsageLogging.withAttributionTags(UsageLogging.scala:457)\n\tat com.databricks.logging.UsageLogging.withAttributionTags$(UsageLogging.scala:442)\n\tat com.databricks.backend.daemon.driver.DriverLocal.withAttributionTags(DriverLocal.scala:77)\n\tat com.databricks.backend.daemon.driver.DriverLocal.execute(DriverLocal.scala:889)\n\tat com.databricks.backend.daemon.driver.DriverWrapper.$anonfun$tryExecutingCommand$2(DriverWrapper.scala:719)\n\tat scala.util.Try$.apply(Try.scala:213)\n\tat com.databricks.backend.daemon.driver.DriverWrapper.$anonfun$tryExecutingCommand$1(DriverWrapper.scala:711)\n\tat com.databricks.backend.daemon.driver.DriverWrapper.tryExecutingCommand(DriverWrapper.scala:739)\n\tat com.databricks.backend.daemon.driver.DriverWrapper.executeCommandAndGetError(DriverWrapper.scala:628)\n\tat com.databricks.backend.daemon.driver.DriverWrapper.executeCommand(DriverWrapper.scala:663)\n\tat com.databricks.backend.daemon.driver.DriverWrapper.runInnerLoop(DriverWrapper.scala:499)\n\tat com.databricks.backend.daemon.driver.DriverWrapper.runInner(DriverWrapper.scala:438)\n\tat com.databricks.backend.daemon.driver.DriverWrapper.run(DriverWrapper.scala:262)\n\tat java.lang.Thread.run(Thread.java:750)</div>",
       "errorSummary": "FileNotFoundException: /FileStore/pageviews-20250301-040000",
       "errorTraceType": "html",
       "metadata": {},
       "type": "ipynbError"
      }
     },
     "output_type": "display_data"
    }
   ],
   "source": [
    "%fs ls dbfs:/FileStore/pageviews-20250301-040000/"
   ]
  },
  {
   "cell_type": "code",
   "execution_count": 0,
   "metadata": {
    "application/vnd.databricks.v1+cell": {
     "cellMetadata": {
      "byteLimit": 2048000,
      "rowLimit": 10000
     },
     "inputWidgets": {},
     "nuid": "0d527cdc-b15e-4ed3-94ac-fb1b302b6fb4",
     "showTitle": false,
     "tableResultSettingsMap": {},
     "title": ""
    }
   },
   "outputs": [],
   "source": [
    "from pyspark.sql.functions import * \n",
    "from pyspark.sql.types import * \n",
    "\n",
    "\n",
    "schema = StructType([\n",
    "    StructField(\"domain_code\", StringType(), True),\n",
    "    StructField(\"page_title\", StringType(), False),\n",
    "    StructField(\"count_views\", IntegerType(), True),\n",
    "    StructField(\"total_response_size\",IntegerType(),True)\n",
    "  ])\n",
    "\n",
    "fileName = \"/FileStore/tables/pageviews_20250501_040000-2\"\n",
    "\n",
    "unzippedDF = (spark.read\n",
    "  .option(\"header\", \"true\")\n",
    "  .option(\"sep\", \" \")\n",
    "  .option(\"header\",\"True\")\n",
    "  .schema(schema)\n",
    "  .csv(fileName))\n"
   ]
  },
  {
   "cell_type": "markdown",
   "metadata": {
    "application/vnd.databricks.v1+cell": {
     "cellMetadata": {},
     "inputWidgets": {},
     "nuid": "be8c6657-c09f-4d71-856a-433fac848d9d",
     "showTitle": false,
     "tableResultSettingsMap": {},
     "title": ""
    }
   },
   "source": [
    "Teraz lepiej, inny rodzaj pliku i od razu inna ilość partycji."
   ]
  },
  {
   "cell_type": "code",
   "execution_count": 0,
   "metadata": {
    "application/vnd.databricks.v1+cell": {
     "cellMetadata": {
      "byteLimit": 2048000,
      "rowLimit": 10000
     },
     "inputWidgets": {},
     "nuid": "e9d7b4e6-0d76-4515-b7ad-3b46aaa64b0b",
     "showTitle": false,
     "tableResultSettingsMap": {},
     "title": ""
    }
   },
   "outputs": [
    {
     "output_type": "stream",
     "name": "stdout",
     "output_type": "stream",
     "text": [
      "Out[13]: 8"
     ]
    }
   ],
   "source": [
    "unzippedDF.rdd.getNumPartitions()"
   ]
  },
  {
   "cell_type": "markdown",
   "metadata": {
    "application/vnd.databricks.v1+cell": {
     "cellMetadata": {},
     "inputWidgets": {},
     "nuid": "c1832b0f-5869-4878-801a-9623aee43d5a",
     "showTitle": false,
     "tableResultSettingsMap": {},
     "title": ""
    }
   },
   "source": [
    "Zapisz do innej ścieżki i podejżyj ile jest plików ???"
   ]
  },
  {
   "cell_type": "code",
   "execution_count": 0,
   "metadata": {
    "application/vnd.databricks.v1+cell": {
     "cellMetadata": {
      "byteLimit": 2048000,
      "rowLimit": 10000
     },
     "inputWidgets": {},
     "nuid": "ee545936-a810-47ad-a960-e59b419b5c38",
     "showTitle": false,
     "tableResultSettingsMap": {},
     "title": ""
    }
   },
   "outputs": [],
   "source": [
    "unzippedDF.write.format(\"parquet\").mode(\"overwrite\").save(\"/FileStore/tables/training/wikipedia/pageviews/\")"
   ]
  },
  {
   "cell_type": "code",
   "execution_count": 0,
   "metadata": {
    "application/vnd.databricks.v1+cell": {
     "cellMetadata": {
      "byteLimit": 2048000,
      "rowLimit": 10000
     },
     "inputWidgets": {},
     "nuid": "7257d8fc-edf0-4862-ad11-56dcbef938fc",
     "showTitle": false,
     "tableResultSettingsMap": {},
     "title": ""
    }
   },
   "outputs": [
    {
     "output_type": "display_data",
     "data": {
      "text/html": [
       "<style scoped>\n",
       "  .table-result-container {\n",
       "    max-height: 300px;\n",
       "    overflow: auto;\n",
       "  }\n",
       "  table, th, td {\n",
       "    border: 1px solid black;\n",
       "    border-collapse: collapse;\n",
       "  }\n",
       "  th, td {\n",
       "    padding: 5px;\n",
       "  }\n",
       "  th {\n",
       "    text-align: left;\n",
       "  }\n",
       "</style><div class='table-result-container'><table class='table-result'><thead style='background-color: white'><tr><th>path</th><th>name</th><th>size</th><th>modificationTime</th></tr></thead><tbody><tr><td>dbfs:/FileStore/tables/training/wikipedia/pageviews/_SUCCESS</td><td>_SUCCESS</td><td>0</td><td>1747069215000</td></tr><tr><td>dbfs:/FileStore/tables/training/wikipedia/pageviews/_committed_3912151698545102560</td><td>_committed_3912151698545102560</td><td>816</td><td>1747069214000</td></tr><tr><td>dbfs:/FileStore/tables/training/wikipedia/pageviews/_started_3912151698545102560</td><td>_started_3912151698545102560</td><td>0</td><td>1747069163000</td></tr><tr><td>dbfs:/FileStore/tables/training/wikipedia/pageviews/part-00000-tid-3912151698545102560-017a7273-d8f7-4519-a89b-73bd29552953-12-1-c000.snappy.parquet</td><td>part-00000-tid-3912151698545102560-017a7273-d8f7-4519-a89b-73bd29552953-12-1-c000.snappy.parquet</td><td>12566032</td><td>1747069212000</td></tr><tr><td>dbfs:/FileStore/tables/training/wikipedia/pageviews/part-00001-tid-3912151698545102560-017a7273-d8f7-4519-a89b-73bd29552953-13-1-c000.snappy.parquet</td><td>part-00001-tid-3912151698545102560-017a7273-d8f7-4519-a89b-73bd29552953-13-1-c000.snappy.parquet</td><td>13995642</td><td>1747069212000</td></tr><tr><td>dbfs:/FileStore/tables/training/wikipedia/pageviews/part-00002-tid-3912151698545102560-017a7273-d8f7-4519-a89b-73bd29552953-14-1-c000.snappy.parquet</td><td>part-00002-tid-3912151698545102560-017a7273-d8f7-4519-a89b-73bd29552953-14-1-c000.snappy.parquet</td><td>13025274</td><td>1747069212000</td></tr><tr><td>dbfs:/FileStore/tables/training/wikipedia/pageviews/part-00003-tid-3912151698545102560-017a7273-d8f7-4519-a89b-73bd29552953-15-1-c000.snappy.parquet</td><td>part-00003-tid-3912151698545102560-017a7273-d8f7-4519-a89b-73bd29552953-15-1-c000.snappy.parquet</td><td>13122707</td><td>1747069212000</td></tr><tr><td>dbfs:/FileStore/tables/training/wikipedia/pageviews/part-00004-tid-3912151698545102560-017a7273-d8f7-4519-a89b-73bd29552953-16-1-c000.snappy.parquet</td><td>part-00004-tid-3912151698545102560-017a7273-d8f7-4519-a89b-73bd29552953-16-1-c000.snappy.parquet</td><td>13108009</td><td>1747069212000</td></tr><tr><td>dbfs:/FileStore/tables/training/wikipedia/pageviews/part-00005-tid-3912151698545102560-017a7273-d8f7-4519-a89b-73bd29552953-17-1-c000.snappy.parquet</td><td>part-00005-tid-3912151698545102560-017a7273-d8f7-4519-a89b-73bd29552953-17-1-c000.snappy.parquet</td><td>13248676</td><td>1747069212000</td></tr><tr><td>dbfs:/FileStore/tables/training/wikipedia/pageviews/part-00006-tid-3912151698545102560-017a7273-d8f7-4519-a89b-73bd29552953-18-1-c000.snappy.parquet</td><td>part-00006-tid-3912151698545102560-017a7273-d8f7-4519-a89b-73bd29552953-18-1-c000.snappy.parquet</td><td>12758301</td><td>1747069211000</td></tr><tr><td>dbfs:/FileStore/tables/training/wikipedia/pageviews/part-00007-tid-3912151698545102560-017a7273-d8f7-4519-a89b-73bd29552953-19-1-c000.snappy.parquet</td><td>part-00007-tid-3912151698545102560-017a7273-d8f7-4519-a89b-73bd29552953-19-1-c000.snappy.parquet</td><td>10913573</td><td>1747069211000</td></tr></tbody></table></div>"
      ]
     },
     "metadata": {
      "application/vnd.databricks.v1+output": {
       "addedWidgets": {},
       "aggData": [],
       "aggError": "",
       "aggOverflow": false,
       "aggSchema": [],
       "aggSeriesLimitReached": false,
       "aggType": "",
       "arguments": {},
       "columnCustomDisplayInfos": {},
       "data": [
        [
         "dbfs:/FileStore/tables/training/wikipedia/pageviews/_SUCCESS",
         "_SUCCESS",
         0,
         1747069215000
        ],
        [
         "dbfs:/FileStore/tables/training/wikipedia/pageviews/_committed_3912151698545102560",
         "_committed_3912151698545102560",
         816,
         1747069214000
        ],
        [
         "dbfs:/FileStore/tables/training/wikipedia/pageviews/_started_3912151698545102560",
         "_started_3912151698545102560",
         0,
         1747069163000
        ],
        [
         "dbfs:/FileStore/tables/training/wikipedia/pageviews/part-00000-tid-3912151698545102560-017a7273-d8f7-4519-a89b-73bd29552953-12-1-c000.snappy.parquet",
         "part-00000-tid-3912151698545102560-017a7273-d8f7-4519-a89b-73bd29552953-12-1-c000.snappy.parquet",
         12566032,
         1747069212000
        ],
        [
         "dbfs:/FileStore/tables/training/wikipedia/pageviews/part-00001-tid-3912151698545102560-017a7273-d8f7-4519-a89b-73bd29552953-13-1-c000.snappy.parquet",
         "part-00001-tid-3912151698545102560-017a7273-d8f7-4519-a89b-73bd29552953-13-1-c000.snappy.parquet",
         13995642,
         1747069212000
        ],
        [
         "dbfs:/FileStore/tables/training/wikipedia/pageviews/part-00002-tid-3912151698545102560-017a7273-d8f7-4519-a89b-73bd29552953-14-1-c000.snappy.parquet",
         "part-00002-tid-3912151698545102560-017a7273-d8f7-4519-a89b-73bd29552953-14-1-c000.snappy.parquet",
         13025274,
         1747069212000
        ],
        [
         "dbfs:/FileStore/tables/training/wikipedia/pageviews/part-00003-tid-3912151698545102560-017a7273-d8f7-4519-a89b-73bd29552953-15-1-c000.snappy.parquet",
         "part-00003-tid-3912151698545102560-017a7273-d8f7-4519-a89b-73bd29552953-15-1-c000.snappy.parquet",
         13122707,
         1747069212000
        ],
        [
         "dbfs:/FileStore/tables/training/wikipedia/pageviews/part-00004-tid-3912151698545102560-017a7273-d8f7-4519-a89b-73bd29552953-16-1-c000.snappy.parquet",
         "part-00004-tid-3912151698545102560-017a7273-d8f7-4519-a89b-73bd29552953-16-1-c000.snappy.parquet",
         13108009,
         1747069212000
        ],
        [
         "dbfs:/FileStore/tables/training/wikipedia/pageviews/part-00005-tid-3912151698545102560-017a7273-d8f7-4519-a89b-73bd29552953-17-1-c000.snappy.parquet",
         "part-00005-tid-3912151698545102560-017a7273-d8f7-4519-a89b-73bd29552953-17-1-c000.snappy.parquet",
         13248676,
         1747069212000
        ],
        [
         "dbfs:/FileStore/tables/training/wikipedia/pageviews/part-00006-tid-3912151698545102560-017a7273-d8f7-4519-a89b-73bd29552953-18-1-c000.snappy.parquet",
         "part-00006-tid-3912151698545102560-017a7273-d8f7-4519-a89b-73bd29552953-18-1-c000.snappy.parquet",
         12758301,
         1747069211000
        ],
        [
         "dbfs:/FileStore/tables/training/wikipedia/pageviews/part-00007-tid-3912151698545102560-017a7273-d8f7-4519-a89b-73bd29552953-19-1-c000.snappy.parquet",
         "part-00007-tid-3912151698545102560-017a7273-d8f7-4519-a89b-73bd29552953-19-1-c000.snappy.parquet",
         10913573,
         1747069211000
        ]
       ],
       "datasetInfos": [],
       "dbfsResultPath": null,
       "isJsonSchema": true,
       "metadata": {},
       "overflow": false,
       "plotOptions": {
        "customPlotOptions": {},
        "displayType": "table",
        "pivotAggregation": null,
        "pivotColumns": null,
        "xColumns": null,
        "yColumns": null
       },
       "removedWidgets": [],
       "schema": [
        {
         "metadata": "{}",
         "name": "path",
         "type": "\"string\""
        },
        {
         "metadata": "{}",
         "name": "name",
         "type": "\"string\""
        },
        {
         "metadata": "{}",
         "name": "size",
         "type": "\"long\""
        },
        {
         "metadata": "{}",
         "name": "modificationTime",
         "type": "\"long\""
        }
       ],
       "type": "table"
      }
     },
     "output_type": "display_data"
    }
   ],
   "source": [
    "display(dbutils.fs.ls(\"/FileStore/tables/training/wikipedia/pageviews/\"))"
   ]
  },
  {
   "cell_type": "code",
   "execution_count": 0,
   "metadata": {
    "application/vnd.databricks.v1+cell": {
     "cellMetadata": {
      "byteLimit": 2048000,
      "rowLimit": 10000
     },
     "inputWidgets": {},
     "nuid": "bf0002a4-80ff-46bb-ac3b-c9aa22790a63",
     "showTitle": false,
     "tableResultSettingsMap": {},
     "title": ""
    }
   },
   "outputs": [
    {
     "output_type": "stream",
     "name": "stdout",
     "output_type": "stream",
     "text": [
      "Out[16]: 6840127"
     ]
    }
   ],
   "source": [
    "initialDF.count() "
   ]
  },
  {
   "cell_type": "markdown",
   "metadata": {
    "application/vnd.databricks.v1+cell": {
     "cellMetadata": {},
     "inputWidgets": {},
     "nuid": "219ba91b-8cfb-44af-8cec-aff91b728b02",
     "showTitle": false,
     "tableResultSettingsMap": {},
     "title": ""
    }
   },
   "source": [
    "\n",
    "* To nie przypadek źe mam **8 slots** i **8 partitions**\n",
    "* Spark sprawdza ile jest **slots**, i na rozmiar danych i domyślnie ustawia ilość partycji.\n",
    "* Nawet jeśli zwiększe ilość danych Spark wczyta **8 partycji**.\n",
    "</br>\n",
    "\n"
   ]
  },
  {
   "cell_type": "markdown",
   "metadata": {
    "application/vnd.databricks.v1+cell": {
     "cellMetadata": {},
     "inputWidgets": {},
     "nuid": "88d7d891-3854-4ff6-9dbb-c9d0eb6a4012",
     "showTitle": false,
     "tableResultSettingsMap": {},
     "title": ""
    }
   },
   "source": [
    "Wczytuję kopię danych ale już podzielonych na partycję"
   ]
  },
  {
   "cell_type": "code",
   "execution_count": 0,
   "metadata": {
    "application/vnd.databricks.v1+cell": {
     "cellMetadata": {
      "byteLimit": 2048000,
      "rowLimit": 10000
     },
     "inputWidgets": {},
     "nuid": "9154d103-d5de-4ab9-b1fb-d127613c51be",
     "showTitle": false,
     "tableResultSettingsMap": {},
     "title": ""
    }
   },
   "outputs": [
    {
     "output_type": "stream",
     "name": "stdout",
     "output_type": "stream",
     "text": [
      "Partycje: 8\n"
     ]
    }
   ],
   "source": [
    "alternateDF = (spark.read\n",
    "  .format(\"parquet\").load(\"/FileStore/tables/training/wikipedia/pageviews/\"))\n",
    "\n",
    "print(\"Partycje: \" + str(alternateDF.rdd.getNumPartitions()))"
   ]
  },
  {
   "cell_type": "markdown",
   "metadata": {
    "application/vnd.databricks.v1+cell": {
     "cellMetadata": {},
     "inputWidgets": {},
     "nuid": "7155489e-c87f-4c61-8f00-f9126ca310f1",
     "showTitle": false,
     "tableResultSettingsMap": {},
     "title": ""
    }
   },
   "source": [
    "**1** Co się stanie jeśli będę miał duży plik z **200 partycjami** i **256 slotów**?\n",
    "\n",
    "**2** Co jeśli będę miał bardzo duży plik **200 partycji** i będę miał tylko **8 slotów**, jak długo potrwa ładowanie w porównianiu z datasetem który ma tylko 8 partycji?\n",
    "\n",
    "**2** Jakie mam opcję jeśli mam (**200 partycji** i **8 slotów**) jeśli nie jestem w stanie zwiększyć ilośći slotów?"
   ]
  },
  {
   "cell_type": "markdown",
   "metadata": {
    "application/vnd.databricks.v1+cell": {
     "cellMetadata": {},
     "inputWidgets": {},
     "nuid": "79a5242c-bfdf-4c64-b6cf-dbbc24400110",
     "showTitle": false,
     "tableResultSettingsMap": {},
     "title": ""
    }
   },
   "source": [
    "### Użyj każdego Slot/Core\n",
    "\n",
    "Poza kilkoma wyjątkami staraj się dopasować ilość **partycji do ilośći slotów **.\n",
    "\n",
    "Dzięki temu **wszystkie sloty zostaną użyte** i każdy będzie miał przypisany **task**.\n",
    "\n",
    "\n",
    "\n",
    "Mając 5 partycji i 8 slotów **3 sloty nie będą użyte**.\n",
    "\n",
    "Mając 9 partycji i 8 slotów **job zajmię 2x więcej czasu**.\n",
    "* Np może to zająć 10 sekund, żeby przetwożyć pierwszych 8  a potem kolejne 10 sekund na ostatnią partycję = 20s."
   ]
  },
  {
   "cell_type": "markdown",
   "metadata": {
    "application/vnd.databricks.v1+cell": {
     "cellMetadata": {},
     "inputWidgets": {},
     "nuid": "f3a235d3-1981-4990-aae5-29ab5ddb9c47",
     "showTitle": false,
     "tableResultSettingsMap": {},
     "title": ""
    }
   },
   "source": [
    "### Ile Partycji?\n",
    "\n",
    "Podstawowa wartość sugerowana to **200MB na partycję (cached)**.\n",
    "* Nie patrz na rozmiar na dysku: CSV zajmuje dużo miejsca na dysku ale mniej w RAM: String \"12345\" = 10B, Integer 12345=4B.\n",
    "* Parquet skompresowane na dysku ale nie w RAM.\n",
    "* Relacyjne bazy i inne źródła .....?\n",
    "\n",
    "Wartość **200** pochodzi z doświadczeń Databricks oparty na wydajnośći. \n",
    "\n",
    "Jeśli masz wykonawce o niższym RAM (np JVMs with 6GB) możesz  obniżyć tą wartość.\n",
    "\n",
    "Ile RAM Np 8 partycji * 200MB = 1.6GB\n",
    "\n",
    "\n",
    "**Pytanie:** Jeśli moje dane będą miały 10 partycji co powinien zrobić ?...\n",
    "* zredukować ilość partycji (1x ilość slotów)\n",
    "* czy zwiększyć (2x ilość slotów)\n",
    "\n",
    "**Odpowiedź** To zależy od ilośći danych w partycji\n",
    "* Wczytaj dane. \n",
    "* Cache.\n",
    "* Sprawdź wielkość partycji.\n",
    "* Jeśli jest powyżej > 200MB to rozważ zwiększenie ilośći partycji.\n",
    "* Jeśli jest poniżej < 200MB to możesz zmiejszyć ilość partycji.\n",
    "\n",
    "**Celem jest użycie jak najmniejszej liczby partycji i utrzymanie poziomu slotów (przynajmniej 1 x partycji)**."
   ]
  },
  {
   "cell_type": "markdown",
   "metadata": {
    "application/vnd.databricks.v1+cell": {
     "cellMetadata": {},
     "inputWidgets": {},
     "nuid": "fd0e96dc-25aa-4142-b407-5f0429918c72",
     "showTitle": false,
     "tableResultSettingsMap": {},
     "title": ""
    }
   },
   "source": [
    "## `coalesce()` i `repartition()`\n",
    "\n",
    "\n",
    "**`coalesce(n)`** :\n",
    "> Returns a new Dataset that has exactly numPartitions partitions, when fewer partitions are requested.<br/>\n",
    "> If a larger number of partitions is requested, it will stay at the current number of partitions.\n",
    "\n",
    "**`repartition(n)`** :\n",
    "> Returns a new Dataset that has exactly numPartitions partitions.\n",
    "\n",
    "Różnice\n",
    "* `coalesce(n)` transformacja **narrow** zmiejsza ilość partycji.\n",
    "* `repartition(n)` transformacja **wide** może być użyta do zmiejszenia lub zwiększenia ilośći partycji.\n",
    "\n",
    "\n",
    "Kiedy użyć jednej lub drugiej.\n",
    "* `coalesce(n)` nie wywoła shuffle.\n",
    "* `coalesce(n)` nie gwarantuje równej dystrybujci rekordów na wszystkich partycjach. Może się skończyć z partycjami zawierającymi 80% danych.\n",
    "* `repartition(n)` jako transformacja **wide** doda koszt shuffle\n",
    "* `repartition(n)` będzie miało relatywnie równą dystrybujcę danych w partycjach."
   ]
  },
  {
   "cell_type": "code",
   "execution_count": 0,
   "metadata": {
    "application/vnd.databricks.v1+cell": {
     "cellMetadata": {
      "byteLimit": 2048000,
      "rowLimit": 10000
     },
     "inputWidgets": {},
     "nuid": "964e7046-387b-4d71-b67d-a5d4cea4aaf5",
     "showTitle": false,
     "tableResultSettingsMap": {},
     "title": ""
    }
   },
   "outputs": [
    {
     "output_type": "stream",
     "name": "stdout",
     "output_type": "stream",
     "text": [
      "Partitions: 10\n"
     ]
    }
   ],
   "source": [
    "\n",
    "repartitionedDF = alternateDF.repartition(10)\n",
    "\n",
    "print(\"Partitions: \" + str(repartitionedDF.rdd.getNumPartitions()))"
   ]
  },
  {
   "cell_type": "markdown",
   "metadata": {
    "application/vnd.databricks.v1+cell": {
     "cellMetadata": {},
     "inputWidgets": {},
     "nuid": "931ef137-da17-4983-ab1b-0a9b9e474481",
     "showTitle": false,
     "tableResultSettingsMap": {},
     "title": ""
    }
   },
   "source": [
    "## Cache\n",
    "\n",
    "Back to list...\n",
    "0. Cache the data\n",
    "0. Adjust the `spark.sql.shuffle.partitions`\n",
    "0. Perform some basic ETL (i.e., convert strings to timestamp)\n",
    "0. Possibly re-cache the data if the ETL was costly\n",
    "\n",
    "We just balanced the number of partitions to the number of slots.\n",
    "\n",
    "Depending on the size of the data and the number of partitions, the shuffle operation can be fairly expensive (though necessary).\n",
    "\n",
    "Let's cache the result of the `repartition(n)` call..\n",
    "* Or more specifically, let's mark it for caching.\n",
    "* The actual cache will occur later once an action is performed\n",
    "* Or you could just execute a count to force materialization of the cache."
   ]
  },
  {
   "cell_type": "code",
   "execution_count": 0,
   "metadata": {
    "application/vnd.databricks.v1+cell": {
     "cellMetadata": {
      "byteLimit": 2048000,
      "rowLimit": 10000
     },
     "inputWidgets": {},
     "nuid": "ac416f2d-c368-475f-a415-e8041572b284",
     "showTitle": false,
     "tableResultSettingsMap": {},
     "title": ""
    }
   },
   "outputs": [],
   "source": [
    "df = repartitionedDF.cache()"
   ]
  },
  {
   "cell_type": "markdown",
   "metadata": {
    "application/vnd.databricks.v1+cell": {
     "cellMetadata": {},
     "inputWidgets": {},
     "nuid": "f49d9f39-09d2-4d0b-9457-47b9fd0a9b37",
     "showTitle": false,
     "tableResultSettingsMap": {},
     "title": ""
    }
   },
   "source": [
    "##spark.sql.shuffle.partitions\n",
    "\n",
    "\n",
    "0. Adjust the `spark.sql.shuffle.partitions`\n",
    "0. Perform some basic ETL (i.e., convert strings to timestamp)\n",
    "0. Possibly re-cache the data if the ETL was costly\n",
    "\n",
    "The next problem has to do with a side effect of certain **wide** transformations.\n",
    "\n",
    "So far, we haven't hit any **wide** transformations other than `repartition(n)`\n",
    "* But eventually we will... \n",
    "* Let's illustrate the problem that we will **eventually** hit\n",
    "* We can do this by simply sorting our data."
   ]
  },
  {
   "cell_type": "code",
   "execution_count": 0,
   "metadata": {
    "application/vnd.databricks.v1+cell": {
     "cellMetadata": {
      "byteLimit": 2048000,
      "rowLimit": 10000
     },
     "inputWidgets": {},
     "nuid": "493721cd-cf41-4090-9fba-a57c313ea152",
     "showTitle": false,
     "tableResultSettingsMap": {},
     "title": ""
    }
   },
   "outputs": [],
   "source": [
    "\n",
    "(repartitionedDF\n",
    "  .orderBy(\"page_title\")        # sortuje dane \n",
    "  .rdd.foreach(lambda x: ...))  # nie robi nic poza wywołaniem joba"
   ]
  },
  {
   "cell_type": "code",
   "execution_count": 0,
   "metadata": {
    "application/vnd.databricks.v1+cell": {
     "cellMetadata": {
      "byteLimit": 2048000,
      "rowLimit": 10000
     },
     "inputWidgets": {},
     "nuid": "71073e0a-d6cd-4a59-8f80-d432d465a33f",
     "showTitle": false,
     "tableResultSettingsMap": {},
     "title": ""
    }
   },
   "outputs": [
    {
     "output_type": "stream",
     "name": "stdout",
     "output_type": "stream",
     "text": [
      "Out[22]: '200'"
     ]
    }
   ],
   "source": [
    "spark.conf.get(\"spark.sql.shuffle.partitions\")"
   ]
  },
  {
   "cell_type": "code",
   "execution_count": 0,
   "metadata": {
    "application/vnd.databricks.v1+cell": {
     "cellMetadata": {
      "byteLimit": 2048000,
      "rowLimit": 10000
     },
     "inputWidgets": {},
     "nuid": "81aed172-46dd-4269-9ca9-c5026efd6279",
     "showTitle": false,
     "tableResultSettingsMap": {},
     "title": ""
    }
   },
   "outputs": [],
   "source": [
    "spark.conf.set(\"spark.sql.shuffle.partitions\",100)"
   ]
  },
  {
   "cell_type": "markdown",
   "metadata": {
    "application/vnd.databricks.v1+cell": {
     "cellMetadata": {},
     "inputWidgets": {},
     "nuid": "228407ef-de5e-43d0-b86a-b62612cc90e6",
     "showTitle": false,
     "tableResultSettingsMap": {},
     "title": ""
    }
   },
   "source": [
    "\n",
    "* Jedna akcja.\n",
    "* Spark wykonał 3 zadania(jobs).\n",
    "* Sprawdź plan wykonania.\n",
    "* **Exchange rangepartitioning**\n",
    "  "
   ]
  },
  {
   "cell_type": "code",
   "execution_count": 0,
   "metadata": {
    "application/vnd.databricks.v1+cell": {
     "cellMetadata": {
      "byteLimit": 2048000,
      "rowLimit": 10000
     },
     "inputWidgets": {},
     "nuid": "9659296b-77d8-4ab8-94f9-56e6e58813a6",
     "showTitle": false,
     "tableResultSettingsMap": {},
     "title": ""
    }
   },
   "outputs": [
    {
     "output_type": "stream",
     "name": "stdout",
     "output_type": "stream",
     "text": [
      "== Physical Plan ==\nAdaptiveSparkPlan isFinalPlan=false\n+- Sort [count_views#225 ASC NULLS FIRST], true, 0\n   +- Exchange rangepartitioning(count_views#225 ASC NULLS FIRST, 100), ENSURE_REQUIREMENTS, [plan_id=348]\n      +- InMemoryTableScan [domain_code#223, page_title#224, count_views#225, total_response_size#226], false\n            +- InMemoryRelation [domain_code#223, page_title#224, count_views#225, total_response_size#226], StorageLevel(disk, memory, deserialized, 1 replicas)\n                  +- Exchange RoundRobinPartitioning(10), REPARTITION_BY_NUM, [plan_id=296]\n                     +- *(1) ColumnarToRow\n                        +- FileScan parquet [domain_code#223,page_title#224,count_views#225,total_response_size#226] Batched: true, DataFilters: [], Format: Parquet, Location: InMemoryFileIndex(1 paths)[dbfs:/FileStore/tables/training/wikipedia/pageviews], PartitionFilters: [], PushedFilters: [], ReadSchema: struct<domain_code:string,page_title:string,count_views:int,total_response_size:int>\n\n\n== Physical Plan ==\nTakeOrderedAndProject(limit=3000000, orderBy=[count_views#225 ASC NULLS FIRST], output=[domain_code#223,page_title#224,count_views#225,total_response_size#226])\n+- InMemoryTableScan [domain_code#223, page_title#224, count_views#225, total_response_size#226], false\n      +- InMemoryRelation [domain_code#223, page_title#224, count_views#225, total_response_size#226], StorageLevel(disk, memory, deserialized, 1 replicas)\n            +- Exchange RoundRobinPartitioning(10), REPARTITION_BY_NUM, [plan_id=296]\n               +- *(1) ColumnarToRow\n                  +- FileScan parquet [domain_code#223,page_title#224,count_views#225,total_response_size#226] Batched: true, DataFilters: [], Format: Parquet, Location: InMemoryFileIndex(1 paths)[dbfs:/FileStore/tables/training/wikipedia/pageviews], PartitionFilters: [], PushedFilters: [], ReadSchema: struct<domain_code:string,page_title:string,count_views:int,total_response_size:int>\n\n\n"
     ]
    }
   ],
   "source": [
    "\n",
    "# Sprawdz exmplain ze wszystkimi rekordami\n",
    "(repartitionedDF\n",
    "  .orderBy(\"count_views\")\n",
    "  .explain())\n",
    "\n",
    "\n",
    "# Sprawdz exmplain z 3M rekordami\n",
    "(repartitionedDF\n",
    "  .orderBy(\"count_views\")\n",
    "  .limit(3000000)\n",
    "  .explain())\n"
   ]
  },
  {
   "cell_type": "markdown",
   "metadata": {
    "application/vnd.databricks.v1+cell": {
     "cellMetadata": {},
     "inputWidgets": {},
     "nuid": "b4e72e07-1eed-4d51-8b1a-ca647143157e",
     "showTitle": false,
     "tableResultSettingsMap": {},
     "title": ""
    }
   },
   "source": [
    "Dodatkowe zadania (job) zostały wywołane ilością danych w DataFrame"
   ]
  },
  {
   "cell_type": "code",
   "execution_count": 0,
   "metadata": {
    "application/vnd.databricks.v1+cell": {
     "cellMetadata": {
      "byteLimit": 2048000,
      "rowLimit": 10000
     },
     "inputWidgets": {},
     "nuid": "c54fc6bf-58d5-4d16-bc63-89e9845098ab",
     "showTitle": false,
     "tableResultSettingsMap": {},
     "title": ""
    }
   },
   "outputs": [
    {
     "output_type": "display_data",
     "data": {
      "text/html": [
       "<style scoped>\n",
       "  .ansiout {\n",
       "    display: block;\n",
       "    unicode-bidi: embed;\n",
       "    white-space: pre-wrap;\n",
       "    word-wrap: break-word;\n",
       "    word-break: break-all;\n",
       "    font-family: \"Menlo\", \"Monaco\", \"Consolas\", \"Ubuntu Mono\", \"Source Code Pro\", monospace;\n",
       "    font-size: 13px;\n",
       "    color: #555;\n",
       "    margin-left: 4px;\n",
       "    line-height: 19px;\n",
       "  }\n",
       "</style>"
      ]
     },
     "metadata": {
      "application/vnd.databricks.v1+output": {
       "arguments": {},
       "data": "",
       "errorSummary": "Cancelled",
       "errorTraceType": "html",
       "metadata": {},
       "type": "ipynbError"
      }
     },
     "output_type": "display_data"
    }
   ],
   "source": [
    "\n",
    "(repartitionedDF\n",
    "  .orderBy(\"count_views\") \n",
    "  .limit(3000000)                 \n",
    "  .count())        "
   ]
  },
  {
   "cell_type": "markdown",
   "metadata": {
    "application/vnd.databricks.v1+cell": {
     "cellMetadata": {},
     "inputWidgets": {},
     "nuid": "f6ea72b4-942c-413b-a155-3eb7634c8b3f",
     "showTitle": false,
     "tableResultSettingsMap": {},
     "title": ""
    }
   },
   "source": [
    "Only 1 job.\n",
    "\n",
    "Spark's Catalyst Optimizer is optimizing our jobs for us!"
   ]
  },
  {
   "cell_type": "markdown",
   "metadata": {
    "application/vnd.databricks.v1+cell": {
     "cellMetadata": {},
     "inputWidgets": {},
     "nuid": "ad699fe9-c945-42a0-98c3-06df873bc059",
     "showTitle": false,
     "tableResultSettingsMap": {},
     "title": ""
    }
   },
   "source": [
    "### Kolejny Problem\n",
    "\n",
    "* Uruchom orginalny dataframe.\n",
    "* Przejrzyj wszystkie zadania.\n",
    "* Sprawdź ile jest partycji w ostatnim jobies!"
   ]
  },
  {
   "cell_type": "code",
   "execution_count": 0,
   "metadata": {
    "application/vnd.databricks.v1+cell": {
     "cellMetadata": {
      "byteLimit": 2048000,
      "rowLimit": 10000
     },
     "inputWidgets": {},
     "nuid": "ef2767b9-7b00-4ebc-8c36-65ca354af139",
     "showTitle": false,
     "tableResultSettingsMap": {},
     "title": ""
    }
   },
   "outputs": [],
   "source": [
    "\n",
    "funkyDF = (repartitionedDF\n",
    "  .orderBy(\"count_views\"))\n",
    "\n",
    "funkyDF.rdd.foreach(lambda x: ...)"
   ]
  },
  {
   "cell_type": "markdown",
   "metadata": {
    "application/vnd.databricks.v1+cell": {
     "cellMetadata": {},
     "inputWidgets": {},
     "nuid": "136a796b-0928-4ca0-95ca-e583f0d1f302",
     "showTitle": false,
     "tableResultSettingsMap": {},
     "title": ""
    }
   },
   "source": [
    "Czy w różnych jobach jest różna ilość partycji ?"
   ]
  },
  {
   "cell_type": "code",
   "execution_count": 0,
   "metadata": {
    "application/vnd.databricks.v1+cell": {
     "cellMetadata": {
      "byteLimit": 2048000,
      "rowLimit": 10000
     },
     "inputWidgets": {},
     "nuid": "433b57dd-9fa0-4c21-84e3-b4f5b928c403",
     "showTitle": false,
     "tableResultSettingsMap": {},
     "title": ""
    }
   },
   "outputs": [
    {
     "output_type": "stream",
     "name": "stdout",
     "output_type": "stream",
     "text": [
      "Out[27]: 4"
     ]
    }
   ],
   "source": [
    "funkyDF.rdd.getNumPartitions()"
   ]
  },
  {
   "cell_type": "markdown",
   "metadata": {
    "application/vnd.databricks.v1+cell": {
     "cellMetadata": {},
     "inputWidgets": {},
     "nuid": "075fab0a-8617-41b6-b932-719bbfc76769",
     "showTitle": false,
     "tableResultSettingsMap": {},
     "title": ""
    }
   },
   "source": [
    "\n",
    "Wartość 200 jest domyślną i opartą na doświadczeniu, pasuje do większości scenariuszy.\n",
    "\n",
    "Moźesz to zmienić w konfiguracji `spark.sql.shuffle.partitions`\n"
   ]
  },
  {
   "cell_type": "code",
   "execution_count": 0,
   "metadata": {
    "application/vnd.databricks.v1+cell": {
     "cellMetadata": {
      "byteLimit": 2048000,
      "rowLimit": 10000
     },
     "inputWidgets": {},
     "nuid": "c7a16be7-890a-4c32-a3e1-23ea25b2082a",
     "showTitle": false,
     "tableResultSettingsMap": {},
     "title": ""
    }
   },
   "outputs": [
    {
     "output_type": "stream",
     "name": "stdout",
     "output_type": "stream",
     "text": [
      "Out[28]: '100'"
     ]
    }
   ],
   "source": [
    "spark.conf.get(\"spark.sql.shuffle.partitions\")"
   ]
  },
  {
   "cell_type": "markdown",
   "metadata": {
    "application/vnd.databricks.v1+cell": {
     "cellMetadata": {},
     "inputWidgets": {},
     "nuid": "2c9c009c-9439-4af4-9f4d-235097fa8ddd",
     "showTitle": false,
     "tableResultSettingsMap": {},
     "title": ""
    }
   },
   "source": [
    "Zmień na 8"
   ]
  },
  {
   "cell_type": "code",
   "execution_count": 0,
   "metadata": {
    "application/vnd.databricks.v1+cell": {
     "cellMetadata": {
      "byteLimit": 2048000,
      "rowLimit": 10000
     },
     "inputWidgets": {},
     "nuid": "973f765c-c159-45e5-9123-8676e2c24cd2",
     "showTitle": false,
     "tableResultSettingsMap": {},
     "title": ""
    }
   },
   "outputs": [],
   "source": [
    "spark.conf.set(\"spark.sql.shuffle.partitions\", \"8\")"
   ]
  },
  {
   "cell_type": "markdown",
   "metadata": {
    "application/vnd.databricks.v1+cell": {
     "cellMetadata": {},
     "inputWidgets": {},
     "nuid": "0b7b758b-8dc9-4089-8279-549fdfe3857c",
     "showTitle": false,
     "tableResultSettingsMap": {},
     "title": ""
    }
   },
   "source": [
    "Czy jeśli zmienię różne typy operacji na datasecie to będę miał różną liczbę partycji ?\n",
    "Ponowne wykonanie dla porównania."
   ]
  },
  {
   "cell_type": "code",
   "execution_count": 0,
   "metadata": {
    "application/vnd.databricks.v1+cell": {
     "cellMetadata": {
      "byteLimit": 2048000,
      "rowLimit": 10000
     },
     "inputWidgets": {},
     "nuid": "d4521de2-c718-4ca1-9c7e-72ad08deb6a7",
     "showTitle": false,
     "tableResultSettingsMap": {},
     "title": ""
    }
   },
   "outputs": [
    {
     "output_type": "stream",
     "name": "stdout",
     "output_type": "stream",
     "text": [
      "Out[30]: 1"
     ]
    }
   ],
   "source": [
    "betterDF = (repartitionedDF.orderBy(\"count_views\",\"page_title\")\n",
    "            .groupBy(\"domain_code\").agg(count(\"page_title\"))\n",
    "  )\n",
    "                    \n",
    "betterDF.rdd.foreach(lambda x: ...)\n",
    "\n",
    "betterDF.rdd.getNumPartitions()"
   ]
  },
  {
   "cell_type": "code",
   "execution_count": 0,
   "metadata": {
    "application/vnd.databricks.v1+cell": {
     "cellMetadata": {},
     "inputWidgets": {},
     "nuid": "d3b64943-62fd-4751-a439-5fd2d39b274a",
     "showTitle": false,
     "tableResultSettingsMap": {},
     "title": ""
    }
   },
   "outputs": [],
   "source": []
  }
 ],
 "metadata": {
  "application/vnd.databricks.v1+notebook": {
   "computePreferences": null,
   "dashboards": [],
   "environmentMetadata": null,
   "inputWidgetPreferences": null,
   "language": "python",
   "notebookMetadata": {
    "mostRecentlyExecutedCommandWithImplicitDF": {
     "commandId": 626842756918406,
     "dataframes": [
      "_sqldf"
     ]
    },
    "pythonIndentUnit": 2
   },
   "notebookName": "Partycjonowanie",
   "widgets": {}
  }
 },
 "nbformat": 4,
 "nbformat_minor": 0
}