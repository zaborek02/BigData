{
 "cells": [
  {
   "cell_type": "markdown",
   "metadata": {
    "application/vnd.databricks.v1+cell": {
     "cellMetadata": {
      "byteLimit": 2048000,
      "rowLimit": 10000
     },
     "inputWidgets": {},
     "nuid": "629083bf-49df-41eb-a156-9f22261d8f18",
     "showTitle": false,
     "tableResultSettingsMap": {},
     "title": ""
    }
   },
   "source": [
    "# Higher-Order and Lambda Functions: Explore Complex and Structured Data in SQL "
   ]
  },
  {
   "cell_type": "markdown",
   "metadata": {
    "application/vnd.databricks.v1+cell": {
     "cellMetadata": {
      "byteLimit": 2048000,
      "rowLimit": 10000
     },
     "inputWidgets": {},
     "nuid": "759b1f7c-c896-421f-bc9d-caf98c2ad1ce",
     "showTitle": false,
     "tableResultSettingsMap": {},
     "title": ""
    }
   },
   "source": [
    "This tutorial walks you through four higher-order functions. While this in-depth [blog](https://databricks.com/blog/2017/05/24/working-with-nested-data-using-higher-order-functions-in-sql-on-databricks.html) explains the concepts, justifications, and motivations of _why_ handling complex data types such as arrays are important in SQL, and equally explains why their existing implementation are inefficient and cumbersome, this tutorial shows _how_ to use higher-order functions in SQL in processing structured data and arrays in IoT device events. In particular, they come handy and you can put them to good use if you enjoy functional programming and can quickly and can efficiently write a lambda expression as part of these higher-order SQL functions. \n",
    "\n",
    "This tutorial explores four functions and how you can put them to a wide range of uses in your processing and transforming array types:\n",
    "\n",
    "* `transform()`\n",
    "* `filter()`\n",
    "* `exists()`\n",
    "* `aggregate()`\n",
    "\n",
    "The takeaway from this short tutorial is that there exists myriad ways to slice and dice nested JSON structures with Spark SQL utility functions. These dedicated higher-order functions are primarily suited to manipulating arrays in Spark SQL, making it easier and the code more concise when processing table values with arrays or nested arrays. "
   ]
  },
  {
   "cell_type": "markdown",
   "metadata": {
    "application/vnd.databricks.v1+cell": {
     "cellMetadata": {
      "byteLimit": 2048000,
      "rowLimit": 10000
     },
     "inputWidgets": {},
     "nuid": "942da6f7-304e-4c62-badc-39313352292d",
     "showTitle": false,
     "tableResultSettingsMap": {},
     "title": ""
    }
   },
   "source": [
    "Let's create a simple JSON schema with attributes and values, with at least two attributes that are arrays, namely _temp_ and _c02_level_"
   ]
  },
  {
   "cell_type": "code",
   "execution_count": 0,
   "metadata": {
    "application/vnd.databricks.v1+cell": {
     "cellMetadata": {
      "byteLimit": 2048000,
      "rowLimit": 10000
     },
     "inputWidgets": {},
     "nuid": "6f329edd-3469-4cc3-aa4c-69b50d4a82e0",
     "showTitle": false,
     "tableResultSettingsMap": {},
     "title": ""
    }
   },
   "outputs": [],
   "source": [
    "from pyspark.sql.functions import *\n",
    "from pyspark.sql.types import *\n",
    "\n",
    "schema = StructType() \\\n",
    "          .add(\"dc_id\", StringType()) \\\n",
    "          .add(\"source\", MapType(StringType(), StructType() \\\n",
    "                        .add(\"description\", StringType()) \\\n",
    "                        .add(\"ip\", StringType()) \\\n",
    "                        .add(\"id\", IntegerType()) \\\n",
    "                        .add(\"temp\", ArrayType(IntegerType())) \\\n",
    "                        .add(\"c02_level\", ArrayType(IntegerType())) \\\n",
    "                        .add(\"geo\", StructType() \\\n",
    "                              .add(\"lat\", DoubleType()) \\\n",
    "                              .add(\"long\", DoubleType()))))\n"
   ]
  },
  {
   "cell_type": "markdown",
   "metadata": {
    "application/vnd.databricks.v1+cell": {
     "cellMetadata": {
      "byteLimit": 2048000,
      "rowLimit": 10000
     },
     "inputWidgets": {},
     "nuid": "f618f68d-c421-407c-8d28-075c728dcf1e",
     "showTitle": false,
     "tableResultSettingsMap": {},
     "title": ""
    }
   },
   "source": [
    "This helper Python function converts a JSON string into a [Python DataFrame](https://spark.apache.org/docs/latest/api/python/reference/api/pyspark.sql.DataFrame.html#pyspark-sql-dataframe)."
   ]
  },
  {
   "cell_type": "code",
   "execution_count": 0,
   "metadata": {
    "application/vnd.databricks.v1+cell": {
     "cellMetadata": {
      "byteLimit": 2048000,
      "rowLimit": 10000
     },
     "inputWidgets": {},
     "nuid": "b778c7ad-a6bd-420e-a241-87b2ce96776e",
     "showTitle": false,
     "tableResultSettingsMap": {},
     "title": ""
    }
   },
   "outputs": [],
   "source": [
    "# Convenience function for turning JSON strings into DataFrames.\n",
    "def jsonToDataFrame(json, schema=None):\n",
    "  # SparkSessions are available with Spark 2.0+\n",
    "  reader = spark.read\n",
    "  if schema:\n",
    "    reader.schema(schema)\n",
    "  return reader.json(sc.parallelize([json]))"
   ]
  },
  {
   "cell_type": "markdown",
   "metadata": {
    "application/vnd.databricks.v1+cell": {
     "cellMetadata": {
      "byteLimit": 2048000,
      "rowLimit": 10000
     },
     "inputWidgets": {},
     "nuid": "ff16e243-48c7-4d43-bfe0-f7e0fefd0350",
     "showTitle": false,
     "tableResultSettingsMap": {},
     "title": ""
    }
   },
   "source": [
    "Using the schema above, create a complex JSON stucture and create into a Python DataFrame. Display the DataFrame gives us two columns: a key (dc_id) and value (source), which is JSON string with embedded nested structure."
   ]
  },
  {
   "cell_type": "code",
   "execution_count": 0,
   "metadata": {
    "application/vnd.databricks.v1+cell": {
     "cellMetadata": {
      "byteLimit": 2048000,
      "rowLimit": 10000
     },
     "inputWidgets": {},
     "nuid": "ee85869b-a907-43cd-a817-e213d8dd6958",
     "showTitle": false,
     "tableResultSettingsMap": {},
     "title": ""
    }
   },
   "outputs": [
    {
     "output_type": "display_data",
     "data": {
      "text/html": [
       "<style scoped>\n",
       "  .table-result-container {\n",
       "    max-height: 300px;\n",
       "    overflow: auto;\n",
       "  }\n",
       "  table, th, td {\n",
       "    border: 1px solid black;\n",
       "    border-collapse: collapse;\n",
       "  }\n",
       "  th, td {\n",
       "    padding: 5px;\n",
       "  }\n",
       "  th {\n",
       "    text-align: left;\n",
       "  }\n",
       "</style><div class='table-result-container'><table class='table-result'><thead style='background-color: white'><tr><th>dc_id</th><th>source</th></tr></thead><tbody><tr><td>dc-101</td><td>Map(sensor-igauge -> List(Sensor attached to the container ceilings, 68.28.91.22, 10, List(35, 35, 35, 36, 35, 35, 32, 35, 30, 35, 32, 35), List(1475, 1476, 1473), List(38.0, 97.0)), sensor-ipad -> List(Sensor ipad attached to carbon cylinders, 67.185.72.1, 13, List(45, 45, 45, 46, 45, 45, 42, 35, 40, 45, 42, 45), List(1370, 1371, 1372), List(47.41, -122.0)), sensor-inest -> List(Sensor attached to the factory ceilings, 208.109.163.218, 8, List(40, 40, 40, 40, 40, 43, 42, 40, 40, 45, 42, 45), List(1346, 1345, 1343), List(33.61, -111.89)), sensor-istick -> List(Sensor embedded in exhaust pipes in the ceilings, 204.116.105.67, 5, List(30, 30, 30, 30, 40, 43, 42, 40, 40, 35, 42, 35), List(1574, 1570, 1576), List(35.93, -85.46)))</td></tr></tbody></table></div>"
      ]
     },
     "metadata": {
      "application/vnd.databricks.v1+output": {
       "addedWidgets": {},
       "aggData": [],
       "aggError": "",
       "aggOverflow": false,
       "aggSchema": [],
       "aggSeriesLimitReached": false,
       "aggType": "",
       "arguments": {},
       "columnCustomDisplayInfos": {},
       "data": [
        [
         "dc-101",
         {
          "sensor-igauge": [
           "Sensor attached to the container ceilings",
           "68.28.91.22",
           10,
           [
            35,
            35,
            35,
            36,
            35,
            35,
            32,
            35,
            30,
            35,
            32,
            35
           ],
           [
            1475,
            1476,
            1473
           ],
           [
            38.0,
            97.0
           ]
          ],
          "sensor-inest": [
           "Sensor attached to the factory ceilings",
           "208.109.163.218",
           8,
           [
            40,
            40,
            40,
            40,
            40,
            43,
            42,
            40,
            40,
            45,
            42,
            45
           ],
           [
            1346,
            1345,
            1343
           ],
           [
            33.61,
            -111.89
           ]
          ],
          "sensor-ipad": [
           "Sensor ipad attached to carbon cylinders",
           "67.185.72.1",
           13,
           [
            45,
            45,
            45,
            46,
            45,
            45,
            42,
            35,
            40,
            45,
            42,
            45
           ],
           [
            1370,
            1371,
            1372
           ],
           [
            47.41,
            -122.0
           ]
          ],
          "sensor-istick": [
           "Sensor embedded in exhaust pipes in the ceilings",
           "204.116.105.67",
           5,
           [
            30,
            30,
            30,
            30,
            40,
            43,
            42,
            40,
            40,
            35,
            42,
            35
           ],
           [
            1574,
            1570,
            1576
           ],
           [
            35.93,
            -85.46
           ]
          ]
         }
        ]
       ],
       "datasetInfos": [],
       "dbfsResultPath": null,
       "isJsonSchema": true,
       "metadata": {},
       "overflow": false,
       "plotOptions": {
        "customPlotOptions": {},
        "displayType": "table",
        "pivotAggregation": null,
        "pivotColumns": null,
        "xColumns": null,
        "yColumns": null
       },
       "removedWidgets": [],
       "schema": [
        {
         "metadata": "{}",
         "name": "dc_id",
         "type": "\"string\""
        },
        {
         "metadata": "{}",
         "name": "source",
         "type": "{\"type\":\"map\",\"keyType\":\"string\",\"valueType\":{\"type\":\"struct\",\"fields\":[{\"name\":\"description\",\"type\":\"string\",\"nullable\":true,\"metadata\":{}},{\"name\":\"ip\",\"type\":\"string\",\"nullable\":true,\"metadata\":{}},{\"name\":\"id\",\"type\":\"integer\",\"nullable\":true,\"metadata\":{}},{\"name\":\"temp\",\"type\":{\"type\":\"array\",\"elementType\":\"integer\",\"containsNull\":true},\"nullable\":true,\"metadata\":{}},{\"name\":\"c02_level\",\"type\":{\"type\":\"array\",\"elementType\":\"integer\",\"containsNull\":true},\"nullable\":true,\"metadata\":{}},{\"name\":\"geo\",\"type\":{\"type\":\"struct\",\"fields\":[{\"name\":\"lat\",\"type\":\"double\",\"nullable\":true,\"metadata\":{}},{\"name\":\"long\",\"type\":\"double\",\"nullable\":true,\"metadata\":{}}]},\"nullable\":true,\"metadata\":{}}]},\"valueContainsNull\":true}"
        }
       ],
       "type": "table"
      }
     },
     "output_type": "display_data"
    }
   ],
   "source": [
    "dataDF = jsonToDataFrame( \"\"\"{\n",
    "\n",
    "    \"dc_id\": \"dc-101\",\n",
    "    \"source\": {\n",
    "        \"sensor-igauge\": {\n",
    "        \"id\": 10,\n",
    "        \"ip\": \"68.28.91.22\",\n",
    "        \"description\": \"Sensor attached to the container ceilings\",\n",
    "        \"temp\":[35,35,35,36,35,35,32,35,30,35,32,35],\n",
    "        \"c02_level\": [1475,1476,1473],\n",
    "        \"geo\": {\"lat\":38.00, \"long\":97.00}                        \n",
    "      },\n",
    "      \"sensor-ipad\": {\n",
    "        \"id\": 13,\n",
    "        \"ip\": \"67.185.72.1\",\n",
    "        \"description\": \"Sensor ipad attached to carbon cylinders\",\n",
    "        \"temp\": [45,45,45,46,45,45,42,35,40,45,42,45],\n",
    "        \"c02_level\": [1370,1371,1372],\n",
    "        \"geo\": {\"lat\":47.41, \"long\":-122.00}\n",
    "      },\n",
    "      \"sensor-inest\": {\n",
    "        \"id\": 8,\n",
    "        \"ip\": \"208.109.163.218\",\n",
    "        \"description\": \"Sensor attached to the factory ceilings\",\n",
    "        \"temp\": [40,40,40,40,40,43,42,40,40,45,42,45],\n",
    "        \"c02_level\": [1346,1345, 1343],\n",
    "        \"geo\": {\"lat\":33.61, \"long\":-111.89}\n",
    "      },\n",
    "      \"sensor-istick\": {\n",
    "        \"id\": 5,\n",
    "        \"ip\": \"204.116.105.67\",\n",
    "        \"description\": \"Sensor embedded in exhaust pipes in the ceilings\",\n",
    "        \"temp\":[30,30,30,30,40,43,42,40,40,35,42,35],\n",
    "        \"c02_level\": [1574,1570, 1576],\n",
    "        \"geo\": {\"lat\":35.93, \"long\":-85.46}\n",
    "      }\n",
    "    }\n",
    "  }\"\"\", schema)\n",
    "\n",
    "display(dataDF)\n",
    "  "
   ]
  },
  {
   "cell_type": "markdown",
   "metadata": {
    "application/vnd.databricks.v1+cell": {
     "cellMetadata": {
      "byteLimit": 2048000,
      "rowLimit": 10000
     },
     "inputWidgets": {},
     "nuid": "a2696203-2b1d-4027-a60f-709736f7e98a",
     "showTitle": false,
     "tableResultSettingsMap": {},
     "title": ""
    }
   },
   "source": [
    "By examining its schema, you can notice that the DataFrame schema reflects the above defined schema, where two of its elments are are arrays of integers. "
   ]
  },
  {
   "cell_type": "code",
   "execution_count": 0,
   "metadata": {
    "application/vnd.databricks.v1+cell": {
     "cellMetadata": {
      "byteLimit": 2048000,
      "rowLimit": 10000
     },
     "inputWidgets": {},
     "nuid": "22f2266d-d0d5-4342-98fb-fe1f29ddb291",
     "showTitle": false,
     "tableResultSettingsMap": {},
     "title": ""
    }
   },
   "outputs": [
    {
     "output_type": "stream",
     "name": "stdout",
     "output_type": "stream",
     "text": [
      "root\n |-- dc_id: string (nullable = true)\n |-- source: map (nullable = true)\n |    |-- key: string\n |    |-- value: struct (valueContainsNull = true)\n |    |    |-- description: string (nullable = true)\n |    |    |-- ip: string (nullable = true)\n |    |    |-- id: integer (nullable = true)\n |    |    |-- temp: array (nullable = true)\n |    |    |    |-- element: integer (containsNull = true)\n |    |    |-- c02_level: array (nullable = true)\n |    |    |    |-- element: integer (containsNull = true)\n |    |    |-- geo: struct (nullable = true)\n |    |    |    |-- lat: double (nullable = true)\n |    |    |    |-- long: double (nullable = true)\n\n"
     ]
    }
   ],
   "source": [
    "dataDF.printSchema()"
   ]
  },
  {
   "cell_type": "markdown",
   "metadata": {
    "application/vnd.databricks.v1+cell": {
     "cellMetadata": {
      "byteLimit": 2048000,
      "rowLimit": 10000
     },
     "inputWidgets": {},
     "nuid": "38028827-71cb-43b4-aa31-d9e47c41ec28",
     "showTitle": false,
     "tableResultSettingsMap": {},
     "title": ""
    }
   },
   "source": [
    "Employ `explode()` to explode the column `source` into its individual columns."
   ]
  },
  {
   "cell_type": "code",
   "execution_count": 0,
   "metadata": {
    "application/vnd.databricks.v1+cell": {
     "cellMetadata": {
      "byteLimit": 2048000,
      "rowLimit": 10000
     },
     "inputWidgets": {},
     "nuid": "d279e53b-f407-4654-8f15-37d5e9d27a55",
     "showTitle": false,
     "tableResultSettingsMap": {},
     "title": ""
    }
   },
   "outputs": [
    {
     "output_type": "display_data",
     "data": {
      "text/html": [
       "<style scoped>\n",
       "  .table-result-container {\n",
       "    max-height: 300px;\n",
       "    overflow: auto;\n",
       "  }\n",
       "  table, th, td {\n",
       "    border: 1px solid black;\n",
       "    border-collapse: collapse;\n",
       "  }\n",
       "  th, td {\n",
       "    padding: 5px;\n",
       "  }\n",
       "  th {\n",
       "    text-align: left;\n",
       "  }\n",
       "</style><div class='table-result-container'><table class='table-result'><thead style='background-color: white'><tr><th>dc_id</th><th>key</th><th>value</th></tr></thead><tbody><tr><td>dc-101</td><td>sensor-igauge</td><td>List(Sensor attached to the container ceilings, 68.28.91.22, 10, List(35, 35, 35, 36, 35, 35, 32, 35, 30, 35, 32, 35), List(1475, 1476, 1473), List(38.0, 97.0))</td></tr><tr><td>dc-101</td><td>sensor-ipad</td><td>List(Sensor ipad attached to carbon cylinders, 67.185.72.1, 13, List(45, 45, 45, 46, 45, 45, 42, 35, 40, 45, 42, 45), List(1370, 1371, 1372), List(47.41, -122.0))</td></tr><tr><td>dc-101</td><td>sensor-inest</td><td>List(Sensor attached to the factory ceilings, 208.109.163.218, 8, List(40, 40, 40, 40, 40, 43, 42, 40, 40, 45, 42, 45), List(1346, 1345, 1343), List(33.61, -111.89))</td></tr><tr><td>dc-101</td><td>sensor-istick</td><td>List(Sensor embedded in exhaust pipes in the ceilings, 204.116.105.67, 5, List(30, 30, 30, 30, 40, 43, 42, 40, 40, 35, 42, 35), List(1574, 1570, 1576), List(35.93, -85.46))</td></tr></tbody></table></div>"
      ]
     },
     "metadata": {
      "application/vnd.databricks.v1+output": {
       "addedWidgets": {},
       "aggData": [],
       "aggError": "",
       "aggOverflow": false,
       "aggSchema": [],
       "aggSeriesLimitReached": false,
       "aggType": "",
       "arguments": {},
       "columnCustomDisplayInfos": {},
       "data": [
        [
         "dc-101",
         "sensor-igauge",
         [
          "Sensor attached to the container ceilings",
          "68.28.91.22",
          10,
          [
           35,
           35,
           35,
           36,
           35,
           35,
           32,
           35,
           30,
           35,
           32,
           35
          ],
          [
           1475,
           1476,
           1473
          ],
          [
           38.0,
           97.0
          ]
         ]
        ],
        [
         "dc-101",
         "sensor-ipad",
         [
          "Sensor ipad attached to carbon cylinders",
          "67.185.72.1",
          13,
          [
           45,
           45,
           45,
           46,
           45,
           45,
           42,
           35,
           40,
           45,
           42,
           45
          ],
          [
           1370,
           1371,
           1372
          ],
          [
           47.41,
           -122.0
          ]
         ]
        ],
        [
         "dc-101",
         "sensor-inest",
         [
          "Sensor attached to the factory ceilings",
          "208.109.163.218",
          8,
          [
           40,
           40,
           40,
           40,
           40,
           43,
           42,
           40,
           40,
           45,
           42,
           45
          ],
          [
           1346,
           1345,
           1343
          ],
          [
           33.61,
           -111.89
          ]
         ]
        ],
        [
         "dc-101",
         "sensor-istick",
         [
          "Sensor embedded in exhaust pipes in the ceilings",
          "204.116.105.67",
          5,
          [
           30,
           30,
           30,
           30,
           40,
           43,
           42,
           40,
           40,
           35,
           42,
           35
          ],
          [
           1574,
           1570,
           1576
          ],
          [
           35.93,
           -85.46
          ]
         ]
        ]
       ],
       "datasetInfos": [],
       "dbfsResultPath": null,
       "isJsonSchema": true,
       "metadata": {},
       "overflow": false,
       "plotOptions": {
        "customPlotOptions": {},
        "displayType": "table",
        "pivotAggregation": null,
        "pivotColumns": null,
        "xColumns": null,
        "yColumns": null
       },
       "removedWidgets": [],
       "schema": [
        {
         "metadata": "{}",
         "name": "dc_id",
         "type": "\"string\""
        },
        {
         "metadata": "{}",
         "name": "key",
         "type": "\"string\""
        },
        {
         "metadata": "{}",
         "name": "value",
         "type": "{\"type\":\"struct\",\"fields\":[{\"name\":\"description\",\"type\":\"string\",\"nullable\":true,\"metadata\":{}},{\"name\":\"ip\",\"type\":\"string\",\"nullable\":true,\"metadata\":{}},{\"name\":\"id\",\"type\":\"integer\",\"nullable\":true,\"metadata\":{}},{\"name\":\"temp\",\"type\":{\"type\":\"array\",\"elementType\":\"integer\",\"containsNull\":true},\"nullable\":true,\"metadata\":{}},{\"name\":\"c02_level\",\"type\":{\"type\":\"array\",\"elementType\":\"integer\",\"containsNull\":true},\"nullable\":true,\"metadata\":{}},{\"name\":\"geo\",\"type\":{\"type\":\"struct\",\"fields\":[{\"name\":\"lat\",\"type\":\"double\",\"nullable\":true,\"metadata\":{}},{\"name\":\"long\",\"type\":\"double\",\"nullable\":true,\"metadata\":{}}]},\"nullable\":true,\"metadata\":{}}]}"
        }
       ],
       "type": "table"
      }
     },
     "output_type": "display_data"
    }
   ],
   "source": [
    "explodedDF = dataDF.select(\"dc_id\", explode(\"source\"))\n",
    "display(explodedDF)"
   ]
  },
  {
   "cell_type": "markdown",
   "metadata": {
    "application/vnd.databricks.v1+cell": {
     "cellMetadata": {
      "byteLimit": 2048000,
      "rowLimit": 10000
     },
     "inputWidgets": {},
     "nuid": "f2eae62a-99b0-4eb6-b878-bc48ec272fe2",
     "showTitle": false,
     "tableResultSettingsMap": {},
     "title": ""
    }
   },
   "source": [
    "Now you can work with the `value` column, which a is `struct`, to extract individual fields by using their names."
   ]
  },
  {
   "cell_type": "code",
   "execution_count": 0,
   "metadata": {
    "application/vnd.databricks.v1+cell": {
     "cellMetadata": {
      "byteLimit": 2048000,
      "rowLimit": 10000
     },
     "inputWidgets": {},
     "nuid": "3c65830a-c8e1-43b4-a0f1-4207229b2334",
     "showTitle": false,
     "tableResultSettingsMap": {},
     "title": ""
    }
   },
   "outputs": [
    {
     "output_type": "display_data",
     "data": {
      "text/html": [
       "<style scoped>\n",
       "  .table-result-container {\n",
       "    max-height: 300px;\n",
       "    overflow: auto;\n",
       "  }\n",
       "  table, th, td {\n",
       "    border: 1px solid black;\n",
       "    border-collapse: collapse;\n",
       "  }\n",
       "  th, td {\n",
       "    padding: 5px;\n",
       "  }\n",
       "  th {\n",
       "    text-align: left;\n",
       "  }\n",
       "</style><div class='table-result-container'><table class='table-result'><thead style='background-color: white'><tr><th>dc_id</th><th>key</th><th>ip</th><th>device_id</th><th>c02_levels</th><th>temp</th></tr></thead><tbody><tr><td>dc-101</td><td>sensor-igauge</td><td>68.28.91.22</td><td>10</td><td>List(1475, 1476, 1473)</td><td>List(35, 35, 35, 36, 35, 35, 32, 35, 30, 35, 32, 35)</td></tr><tr><td>dc-101</td><td>sensor-ipad</td><td>67.185.72.1</td><td>13</td><td>List(1370, 1371, 1372)</td><td>List(45, 45, 45, 46, 45, 45, 42, 35, 40, 45, 42, 45)</td></tr><tr><td>dc-101</td><td>sensor-inest</td><td>208.109.163.218</td><td>8</td><td>List(1346, 1345, 1343)</td><td>List(40, 40, 40, 40, 40, 43, 42, 40, 40, 45, 42, 45)</td></tr><tr><td>dc-101</td><td>sensor-istick</td><td>204.116.105.67</td><td>5</td><td>List(1574, 1570, 1576)</td><td>List(30, 30, 30, 30, 40, 43, 42, 40, 40, 35, 42, 35)</td></tr></tbody></table></div>"
      ]
     },
     "metadata": {
      "application/vnd.databricks.v1+output": {
       "addedWidgets": {},
       "aggData": [],
       "aggError": "",
       "aggOverflow": false,
       "aggSchema": [],
       "aggSeriesLimitReached": false,
       "aggType": "",
       "arguments": {},
       "columnCustomDisplayInfos": {},
       "data": [
        [
         "dc-101",
         "sensor-igauge",
         "68.28.91.22",
         10,
         [
          1475,
          1476,
          1473
         ],
         [
          35,
          35,
          35,
          36,
          35,
          35,
          32,
          35,
          30,
          35,
          32,
          35
         ]
        ],
        [
         "dc-101",
         "sensor-ipad",
         "67.185.72.1",
         13,
         [
          1370,
          1371,
          1372
         ],
         [
          45,
          45,
          45,
          46,
          45,
          45,
          42,
          35,
          40,
          45,
          42,
          45
         ]
        ],
        [
         "dc-101",
         "sensor-inest",
         "208.109.163.218",
         8,
         [
          1346,
          1345,
          1343
         ],
         [
          40,
          40,
          40,
          40,
          40,
          43,
          42,
          40,
          40,
          45,
          42,
          45
         ]
        ],
        [
         "dc-101",
         "sensor-istick",
         "204.116.105.67",
         5,
         [
          1574,
          1570,
          1576
         ],
         [
          30,
          30,
          30,
          30,
          40,
          43,
          42,
          40,
          40,
          35,
          42,
          35
         ]
        ]
       ],
       "datasetInfos": [],
       "dbfsResultPath": null,
       "isJsonSchema": true,
       "metadata": {},
       "overflow": false,
       "plotOptions": {
        "customPlotOptions": {},
        "displayType": "table",
        "pivotAggregation": null,
        "pivotColumns": null,
        "xColumns": null,
        "yColumns": null
       },
       "removedWidgets": [],
       "schema": [
        {
         "metadata": "{}",
         "name": "dc_id",
         "type": "\"string\""
        },
        {
         "metadata": "{}",
         "name": "key",
         "type": "\"string\""
        },
        {
         "metadata": "{}",
         "name": "ip",
         "type": "\"string\""
        },
        {
         "metadata": "{}",
         "name": "device_id",
         "type": "\"integer\""
        },
        {
         "metadata": "{}",
         "name": "c02_levels",
         "type": "{\"type\":\"array\",\"elementType\":\"integer\",\"containsNull\":true}"
        },
        {
         "metadata": "{}",
         "name": "temp",
         "type": "{\"type\":\"array\",\"elementType\":\"integer\",\"containsNull\":true}"
        }
       ],
       "type": "table"
      }
     },
     "output_type": "display_data"
    }
   ],
   "source": [
    "#\n",
    "# use col.getItem(key) to get individual values within our Map\n",
    "#\n",
    "devicesDataDF = explodedDF.select(\"dc_id\", \"key\", \\\n",
    "                        \"value.ip\", \\\n",
    "                        col(\"value.id\").alias(\"device_id\"), \\\n",
    "                        col(\"value.c02_level\").alias(\"c02_levels\"), \\\n",
    "                        \"value.temp\")\n",
    "display(devicesDataDF)"
   ]
  },
  {
   "cell_type": "markdown",
   "metadata": {
    "application/vnd.databricks.v1+cell": {
     "cellMetadata": {
      "byteLimit": 2048000,
      "rowLimit": 10000
     },
     "inputWidgets": {},
     "nuid": "a99ae27f-2103-455a-b04e-dffbbde4c95e",
     "showTitle": false,
     "tableResultSettingsMap": {},
     "title": ""
    }
   },
   "source": [
    "For sanity let's ensure what was created as DataFrame was preserved and adherent to the schema declared above while exploding and extracting individual data items."
   ]
  },
  {
   "cell_type": "code",
   "execution_count": 0,
   "metadata": {
    "application/vnd.databricks.v1+cell": {
     "cellMetadata": {
      "byteLimit": 2048000,
      "rowLimit": 10000
     },
     "inputWidgets": {},
     "nuid": "318624f5-eb47-45ac-aef9-be1aa08c9d18",
     "showTitle": false,
     "tableResultSettingsMap": {},
     "title": ""
    }
   },
   "outputs": [
    {
     "output_type": "stream",
     "name": "stdout",
     "output_type": "stream",
     "text": [
      "root\n |-- dc_id: string (nullable = true)\n |-- key: string (nullable = false)\n |-- ip: string (nullable = true)\n |-- device_id: integer (nullable = true)\n |-- c02_levels: array (nullable = true)\n |    |-- element: integer (containsNull = true)\n |-- temp: array (nullable = true)\n |    |-- element: integer (containsNull = true)\n\n"
     ]
    }
   ],
   "source": [
    "devicesDataDF.printSchema()"
   ]
  },
  {
   "cell_type": "markdown",
   "metadata": {
    "application/vnd.databricks.v1+cell": {
     "cellMetadata": {
      "byteLimit": 2048000,
      "rowLimit": 10000
     },
     "inputWidgets": {},
     "nuid": "3ea7e104-f2ff-41f8-bdff-3099b4f9cbd2",
     "showTitle": false,
     "tableResultSettingsMap": {},
     "title": ""
    }
   },
   "source": [
    "Now, since this tutorial is less about DataFrames API and more about higher-order functions and lambdas in SQL, create a temporary table or view and start using the higher-order SQL functions mentioned above."
   ]
  },
  {
   "cell_type": "code",
   "execution_count": 0,
   "metadata": {
    "application/vnd.databricks.v1+cell": {
     "cellMetadata": {
      "byteLimit": 2048000,
      "rowLimit": 10000
     },
     "inputWidgets": {},
     "nuid": "e0305059-f509-496b-8091-f5e79b27b22f",
     "showTitle": false,
     "tableResultSettingsMap": {},
     "title": ""
    }
   },
   "outputs": [],
   "source": [
    "devicesDataDF.createOrReplaceTempView(\"data_center_iot_devices\")"
   ]
  },
  {
   "cell_type": "markdown",
   "metadata": {
    "application/vnd.databricks.v1+cell": {
     "cellMetadata": {
      "byteLimit": 2048000,
      "rowLimit": 10000
     },
     "inputWidgets": {},
     "nuid": "865bbbac-4ae0-49f8-a2d7-2d2ea6167f2e",
     "showTitle": false,
     "tableResultSettingsMap": {},
     "title": ""
    }
   },
   "source": [
    "The table was created as columns in your DataFrames and it reflects its schema."
   ]
  },
  {
   "cell_type": "code",
   "execution_count": 0,
   "metadata": {
    "application/vnd.databricks.v1+cell": {
     "cellMetadata": {
      "byteLimit": 2048000,
      "implicitDf": true,
      "rowLimit": 10000
     },
     "inputWidgets": {},
     "nuid": "49c3502b-5311-42b1-af4f-fe10c36853f4",
     "showTitle": false,
     "tableResultSettingsMap": {},
     "title": ""
    }
   },
   "outputs": [
    {
     "output_type": "display_data",
     "data": {
      "text/html": [
       "<style scoped>\n",
       "  .table-result-container {\n",
       "    max-height: 300px;\n",
       "    overflow: auto;\n",
       "  }\n",
       "  table, th, td {\n",
       "    border: 1px solid black;\n",
       "    border-collapse: collapse;\n",
       "  }\n",
       "  th, td {\n",
       "    padding: 5px;\n",
       "  }\n",
       "  th {\n",
       "    text-align: left;\n",
       "  }\n",
       "</style><div class='table-result-container'><table class='table-result'><thead style='background-color: white'><tr><th>dc_id</th><th>key</th><th>ip</th><th>device_id</th><th>c02_levels</th><th>temp</th></tr></thead><tbody><tr><td>dc-101</td><td>sensor-igauge</td><td>68.28.91.22</td><td>10</td><td>List(1475, 1476, 1473)</td><td>List(35, 35, 35, 36, 35, 35, 32, 35, 30, 35, 32, 35)</td></tr><tr><td>dc-101</td><td>sensor-ipad</td><td>67.185.72.1</td><td>13</td><td>List(1370, 1371, 1372)</td><td>List(45, 45, 45, 46, 45, 45, 42, 35, 40, 45, 42, 45)</td></tr><tr><td>dc-101</td><td>sensor-inest</td><td>208.109.163.218</td><td>8</td><td>List(1346, 1345, 1343)</td><td>List(40, 40, 40, 40, 40, 43, 42, 40, 40, 45, 42, 45)</td></tr><tr><td>dc-101</td><td>sensor-istick</td><td>204.116.105.67</td><td>5</td><td>List(1574, 1570, 1576)</td><td>List(30, 30, 30, 30, 40, 43, 42, 40, 40, 35, 42, 35)</td></tr></tbody></table></div>"
      ]
     },
     "metadata": {
      "application/vnd.databricks.v1+output": {
       "addedWidgets": {},
       "aggData": [],
       "aggError": "",
       "aggOverflow": false,
       "aggSchema": [],
       "aggSeriesLimitReached": false,
       "aggType": "",
       "arguments": {},
       "columnCustomDisplayInfos": {},
       "data": [
        [
         "dc-101",
         "sensor-igauge",
         "68.28.91.22",
         10,
         [
          1475,
          1476,
          1473
         ],
         [
          35,
          35,
          35,
          36,
          35,
          35,
          32,
          35,
          30,
          35,
          32,
          35
         ]
        ],
        [
         "dc-101",
         "sensor-ipad",
         "67.185.72.1",
         13,
         [
          1370,
          1371,
          1372
         ],
         [
          45,
          45,
          45,
          46,
          45,
          45,
          42,
          35,
          40,
          45,
          42,
          45
         ]
        ],
        [
         "dc-101",
         "sensor-inest",
         "208.109.163.218",
         8,
         [
          1346,
          1345,
          1343
         ],
         [
          40,
          40,
          40,
          40,
          40,
          43,
          42,
          40,
          40,
          45,
          42,
          45
         ]
        ],
        [
         "dc-101",
         "sensor-istick",
         "204.116.105.67",
         5,
         [
          1574,
          1570,
          1576
         ],
         [
          30,
          30,
          30,
          30,
          40,
          43,
          42,
          40,
          40,
          35,
          42,
          35
         ]
        ]
       ],
       "datasetInfos": [],
       "dbfsResultPath": null,
       "isJsonSchema": true,
       "metadata": {},
       "overflow": false,
       "plotOptions": {
        "customPlotOptions": {},
        "displayType": "table",
        "pivotAggregation": null,
        "pivotColumns": null,
        "xColumns": null,
        "yColumns": null
       },
       "removedWidgets": [],
       "schema": [
        {
         "metadata": "{}",
         "name": "dc_id",
         "type": "\"string\""
        },
        {
         "metadata": "{}",
         "name": "key",
         "type": "\"string\""
        },
        {
         "metadata": "{}",
         "name": "ip",
         "type": "\"string\""
        },
        {
         "metadata": "{}",
         "name": "device_id",
         "type": "\"integer\""
        },
        {
         "metadata": "{}",
         "name": "c02_levels",
         "type": "{\"type\":\"array\",\"elementType\":\"integer\",\"containsNull\":true}"
        },
        {
         "metadata": "{}",
         "name": "temp",
         "type": "{\"type\":\"array\",\"elementType\":\"integer\",\"containsNull\":true}"
        }
       ],
       "type": "table"
      }
     },
     "output_type": "display_data"
    }
   ],
   "source": [
    "%sql select * from data_center_iot_devices"
   ]
  },
  {
   "cell_type": "code",
   "execution_count": 0,
   "metadata": {
    "application/vnd.databricks.v1+cell": {
     "cellMetadata": {
      "byteLimit": 2048000,
      "implicitDf": true,
      "rowLimit": 10000
     },
     "inputWidgets": {},
     "nuid": "53de829a-59d7-4696-a4c6-b350b34c6692",
     "showTitle": false,
     "tableResultSettingsMap": {},
     "title": ""
    }
   },
   "outputs": [
    {
     "output_type": "display_data",
     "data": {
      "text/html": [
       "<style scoped>\n",
       "  .table-result-container {\n",
       "    max-height: 300px;\n",
       "    overflow: auto;\n",
       "  }\n",
       "  table, th, td {\n",
       "    border: 1px solid black;\n",
       "    border-collapse: collapse;\n",
       "  }\n",
       "  th, td {\n",
       "    padding: 5px;\n",
       "  }\n",
       "  th {\n",
       "    text-align: left;\n",
       "  }\n",
       "</style><div class='table-result-container'><table class='table-result'><thead style='background-color: white'><tr><th>col_name</th><th>data_type</th><th>comment</th></tr></thead><tbody><tr><td>dc_id</td><td>string</td><td>null</td></tr><tr><td>key</td><td>string</td><td>null</td></tr><tr><td>ip</td><td>string</td><td>null</td></tr><tr><td>device_id</td><td>int</td><td>null</td></tr><tr><td>c02_levels</td><td>array<int></td><td>null</td></tr><tr><td>temp</td><td>array<int></td><td>null</td></tr></tbody></table></div>"
      ]
     },
     "metadata": {
      "application/vnd.databricks.v1+output": {
       "addedWidgets": {},
       "aggData": [],
       "aggError": "",
       "aggOverflow": false,
       "aggSchema": [],
       "aggSeriesLimitReached": false,
       "aggType": "",
       "arguments": {},
       "columnCustomDisplayInfos": {},
       "data": [
        [
         "dc_id",
         "string",
         null
        ],
        [
         "key",
         "string",
         null
        ],
        [
         "ip",
         "string",
         null
        ],
        [
         "device_id",
         "int",
         null
        ],
        [
         "c02_levels",
         "array<int>",
         null
        ],
        [
         "temp",
         "array<int>",
         null
        ]
       ],
       "datasetInfos": [],
       "dbfsResultPath": null,
       "isJsonSchema": true,
       "metadata": {},
       "overflow": false,
       "plotOptions": {
        "customPlotOptions": {},
        "displayType": "table",
        "pivotAggregation": null,
        "pivotColumns": null,
        "xColumns": null,
        "yColumns": null
       },
       "removedWidgets": [],
       "schema": [
        {
         "metadata": "{\"comment\":\"name of the column\"}",
         "name": "col_name",
         "type": "\"string\""
        },
        {
         "metadata": "{\"comment\":\"data type of the column\"}",
         "name": "data_type",
         "type": "\"string\""
        },
        {
         "metadata": "{\"comment\":\"comment of the column\"}",
         "name": "comment",
         "type": "\"string\""
        }
       ],
       "type": "table"
      }
     },
     "output_type": "display_data"
    }
   ],
   "source": [
    "%sql describe data_center_iot_devices"
   ]
  },
  {
   "cell_type": "markdown",
   "metadata": {
    "application/vnd.databricks.v1+cell": {
     "cellMetadata": {
      "byteLimit": 2048000,
      "rowLimit": 10000
     },
     "inputWidgets": {},
     "nuid": "b9b06c42-0e6f-48ca-abbf-32cab891fc2a",
     "showTitle": false,
     "tableResultSettingsMap": {},
     "title": ""
    }
   },
   "source": [
    "## SQL Higher-Order Functions and Lambda Expressions"
   ]
  },
  {
   "cell_type": "markdown",
   "metadata": {
    "application/vnd.databricks.v1+cell": {
     "cellMetadata": {
      "byteLimit": 2048000,
      "rowLimit": 10000
     },
     "inputWidgets": {},
     "nuid": "2b73f870-07eb-4fba-9d33-1dbef104bc71",
     "showTitle": false,
     "tableResultSettingsMap": {},
     "title": ""
    }
   },
   "source": [
    "### How to use `transform()`"
   ]
  },
  {
   "cell_type": "markdown",
   "metadata": {
    "application/vnd.databricks.v1+cell": {
     "cellMetadata": {
      "byteLimit": 2048000,
      "rowLimit": 10000
     },
     "inputWidgets": {},
     "nuid": "b9995078-9403-428e-ae94-bb4739568afb",
     "showTitle": false,
     "tableResultSettingsMap": {},
     "title": ""
    }
   },
   "source": [
    "Its functional signature, `transform(values, value -> lambda expression)`, has two components:\n",
    "\n",
    "1. `transform(values..)` is the higher-order function. This takes an array and an anonymous function as its input. Internally, `transform` takes care of setting up a new array, applying the anonymous function to each element, and then assigning the result to the output array.\n",
    "2.  The `value -> expression`  is an anonymous function. The function is further divided into two components separated by a `->` symbol:\n",
    "  * **The argument list**: This case has only one argument: value. You can specify multiple arguments by creating a comma-separated list of arguments enclosed by parenthesis, for example: `(x, y) -> x + y.`\n",
    "  * **The body**: This is a SQL expression that can use the arguments and outer variables to calculate the new value. \n",
    "  \n",
    "In short, the programmatic signature for `transform()` is as follows:\n",
    "\n",
    "`transform(array<T>, function<T, U>): array<U>`\n",
    "This produces an array by applying a function<T, U> to each element of an input array<T>.\n",
    "Note that the functional programming equivalent operation is `map`. This has been named transform in order to prevent confusion with the map expression (that creates a map from a key value expression).\n",
    "\n",
    "This basic scheme for `transform(...)` works the same way as with other higher-order functions, as you will see shortly."
   ]
  },
  {
   "cell_type": "markdown",
   "metadata": {
    "application/vnd.databricks.v1+cell": {
     "cellMetadata": {
      "byteLimit": 2048000,
      "rowLimit": 10000
     },
     "inputWidgets": {},
     "nuid": "c9ee924b-f4e1-4af1-9a2a-27c7a2fd30a2",
     "showTitle": false,
     "tableResultSettingsMap": {},
     "title": ""
    }
   },
   "source": [
    "The following query transforms the values in an array by converting each elmement's temperature reading from Celsius to Fahrenheit.\n",
    "\n",
    "Let's transform (and hence convert) all our Celsius reading into Fahrenheit. (Use conversion formula: `((C * 9) / 5) + 32`) The lambda expression here is the formula to convert **C->F**.\n",
    "Now, `temp` and `((t * 9) div 5) + 32` are the arguments to the higher-order function `transform()`. The anonymous function will iterate through each element in the array, `temp`, apply the function to it, and transforming its value and placing into an output array. The result is a new column with tranformed values: `fahrenheit_temp`."
   ]
  },
  {
   "cell_type": "code",
   "execution_count": 0,
   "metadata": {
    "application/vnd.databricks.v1+cell": {
     "cellMetadata": {
      "byteLimit": 2048000,
      "implicitDf": true,
      "rowLimit": 10000
     },
     "inputWidgets": {},
     "nuid": "ce7e8312-3baa-47fc-9e4a-aceaa524010c",
     "showTitle": false,
     "tableResultSettingsMap": {},
     "title": ""
    }
   },
   "outputs": [
    {
     "output_type": "display_data",
     "data": {
      "text/html": [
       "<style scoped>\n",
       "  .table-result-container {\n",
       "    max-height: 300px;\n",
       "    overflow: auto;\n",
       "  }\n",
       "  table, th, td {\n",
       "    border: 1px solid black;\n",
       "    border-collapse: collapse;\n",
       "  }\n",
       "  th, td {\n",
       "    padding: 5px;\n",
       "  }\n",
       "  th {\n",
       "    text-align: left;\n",
       "  }\n",
       "</style><div class='table-result-container'><table class='table-result'><thead style='background-color: white'><tr><th>key</th><th>ip</th><th>device_id</th><th>temp</th><th>fahrenheit_temp</th></tr></thead><tbody><tr><td>sensor-igauge</td><td>68.28.91.22</td><td>10</td><td>List(35, 35, 35, 36, 35, 35, 32, 35, 30, 35, 32, 35)</td><td>List(95, 95, 95, 96, 95, 95, 89, 95, 86, 95, 89, 95)</td></tr><tr><td>sensor-ipad</td><td>67.185.72.1</td><td>13</td><td>List(45, 45, 45, 46, 45, 45, 42, 35, 40, 45, 42, 45)</td><td>List(113, 113, 113, 114, 113, 113, 107, 95, 104, 113, 107, 113)</td></tr><tr><td>sensor-inest</td><td>208.109.163.218</td><td>8</td><td>List(40, 40, 40, 40, 40, 43, 42, 40, 40, 45, 42, 45)</td><td>List(104, 104, 104, 104, 104, 109, 107, 104, 104, 113, 107, 113)</td></tr><tr><td>sensor-istick</td><td>204.116.105.67</td><td>5</td><td>List(30, 30, 30, 30, 40, 43, 42, 40, 40, 35, 42, 35)</td><td>List(86, 86, 86, 86, 104, 109, 107, 104, 104, 95, 107, 95)</td></tr></tbody></table></div>"
      ]
     },
     "metadata": {
      "application/vnd.databricks.v1+output": {
       "addedWidgets": {},
       "aggData": [],
       "aggError": "",
       "aggOverflow": false,
       "aggSchema": [],
       "aggSeriesLimitReached": false,
       "aggType": "",
       "arguments": {},
       "columnCustomDisplayInfos": {},
       "data": [
        [
         "sensor-igauge",
         "68.28.91.22",
         10,
         [
          35,
          35,
          35,
          36,
          35,
          35,
          32,
          35,
          30,
          35,
          32,
          35
         ],
         [
          95,
          95,
          95,
          96,
          95,
          95,
          89,
          95,
          86,
          95,
          89,
          95
         ]
        ],
        [
         "sensor-ipad",
         "67.185.72.1",
         13,
         [
          45,
          45,
          45,
          46,
          45,
          45,
          42,
          35,
          40,
          45,
          42,
          45
         ],
         [
          113,
          113,
          113,
          114,
          113,
          113,
          107,
          95,
          104,
          113,
          107,
          113
         ]
        ],
        [
         "sensor-inest",
         "208.109.163.218",
         8,
         [
          40,
          40,
          40,
          40,
          40,
          43,
          42,
          40,
          40,
          45,
          42,
          45
         ],
         [
          104,
          104,
          104,
          104,
          104,
          109,
          107,
          104,
          104,
          113,
          107,
          113
         ]
        ],
        [
         "sensor-istick",
         "204.116.105.67",
         5,
         [
          30,
          30,
          30,
          30,
          40,
          43,
          42,
          40,
          40,
          35,
          42,
          35
         ],
         [
          86,
          86,
          86,
          86,
          104,
          109,
          107,
          104,
          104,
          95,
          107,
          95
         ]
        ]
       ],
       "datasetInfos": [],
       "dbfsResultPath": null,
       "isJsonSchema": true,
       "metadata": {},
       "overflow": false,
       "plotOptions": {
        "customPlotOptions": {},
        "displayType": "table",
        "pivotAggregation": null,
        "pivotColumns": null,
        "xColumns": null,
        "yColumns": null
       },
       "removedWidgets": [],
       "schema": [
        {
         "metadata": "{}",
         "name": "key",
         "type": "\"string\""
        },
        {
         "metadata": "{}",
         "name": "ip",
         "type": "\"string\""
        },
        {
         "metadata": "{}",
         "name": "device_id",
         "type": "\"integer\""
        },
        {
         "metadata": "{}",
         "name": "temp",
         "type": "{\"type\":\"array\",\"elementType\":\"integer\",\"containsNull\":true}"
        },
        {
         "metadata": "{}",
         "name": "fahrenheit_temp",
         "type": "{\"type\":\"array\",\"elementType\":\"long\",\"containsNull\":true}"
        }
       ],
       "type": "table"
      }
     },
     "output_type": "display_data"
    }
   ],
   "source": [
    "%sql select key, ip, device_id, temp,\n",
    "     transform (temp, t -> ((t * 9) div 5) + 32 ) as fahrenheit_temp\n",
    "     from data_center_iot_devices"
   ]
  },
  {
   "cell_type": "markdown",
   "metadata": {
    "application/vnd.databricks.v1+cell": {
     "cellMetadata": {
      "byteLimit": 2048000,
      "rowLimit": 10000
     },
     "inputWidgets": {},
     "nuid": "b5d16387-9d74-4b83-8af4-9c81936d7af7",
     "showTitle": false,
     "tableResultSettingsMap": {},
     "title": ""
    }
   },
   "source": [
    "While the above example generates transformed values, this example uses a Boolean expression as a lambda function and generates a boolean array of results instead of values, since the expression \n",
    "`t->t > 1300` is a predicate, resulting into a true or false."
   ]
  },
  {
   "cell_type": "code",
   "execution_count": 0,
   "metadata": {
    "application/vnd.databricks.v1+cell": {
     "cellMetadata": {
      "byteLimit": 2048000,
      "implicitDf": true,
      "rowLimit": 10000
     },
     "inputWidgets": {},
     "nuid": "6763781e-49d2-43e3-a923-20414027aaa2",
     "showTitle": false,
     "tableResultSettingsMap": {},
     "title": ""
    }
   },
   "outputs": [
    {
     "output_type": "display_data",
     "data": {
      "text/html": [
       "<style scoped>\n",
       "  .table-result-container {\n",
       "    max-height: 300px;\n",
       "    overflow: auto;\n",
       "  }\n",
       "  table, th, td {\n",
       "    border: 1px solid black;\n",
       "    border-collapse: collapse;\n",
       "  }\n",
       "  th, td {\n",
       "    padding: 5px;\n",
       "  }\n",
       "  th {\n",
       "    text-align: left;\n",
       "  }\n",
       "</style><div class='table-result-container'><table class='table-result'><thead style='background-color: white'><tr><th>dc_id</th><th>key</th><th>ip</th><th>device_id</th><th>c02_levels</th><th>temp</th><th>high_c02_levels</th></tr></thead><tbody><tr><td>dc-101</td><td>sensor-igauge</td><td>68.28.91.22</td><td>10</td><td>List(1475, 1476, 1473)</td><td>List(35, 35, 35, 36, 35, 35, 32, 35, 30, 35, 32, 35)</td><td>List(true, true, true)</td></tr><tr><td>dc-101</td><td>sensor-ipad</td><td>67.185.72.1</td><td>13</td><td>List(1370, 1371, 1372)</td><td>List(45, 45, 45, 46, 45, 45, 42, 35, 40, 45, 42, 45)</td><td>List(true, true, true)</td></tr><tr><td>dc-101</td><td>sensor-inest</td><td>208.109.163.218</td><td>8</td><td>List(1346, 1345, 1343)</td><td>List(40, 40, 40, 40, 40, 43, 42, 40, 40, 45, 42, 45)</td><td>List(true, true, true)</td></tr><tr><td>dc-101</td><td>sensor-istick</td><td>204.116.105.67</td><td>5</td><td>List(1574, 1570, 1576)</td><td>List(30, 30, 30, 30, 40, 43, 42, 40, 40, 35, 42, 35)</td><td>List(true, true, true)</td></tr></tbody></table></div>"
      ]
     },
     "metadata": {
      "application/vnd.databricks.v1+output": {
       "addedWidgets": {},
       "aggData": [],
       "aggError": "",
       "aggOverflow": false,
       "aggSchema": [],
       "aggSeriesLimitReached": false,
       "aggType": "",
       "arguments": {},
       "columnCustomDisplayInfos": {},
       "data": [
        [
         "dc-101",
         "sensor-igauge",
         "68.28.91.22",
         10,
         [
          1475,
          1476,
          1473
         ],
         [
          35,
          35,
          35,
          36,
          35,
          35,
          32,
          35,
          30,
          35,
          32,
          35
         ],
         [
          true,
          true,
          true
         ]
        ],
        [
         "dc-101",
         "sensor-ipad",
         "67.185.72.1",
         13,
         [
          1370,
          1371,
          1372
         ],
         [
          45,
          45,
          45,
          46,
          45,
          45,
          42,
          35,
          40,
          45,
          42,
          45
         ],
         [
          true,
          true,
          true
         ]
        ],
        [
         "dc-101",
         "sensor-inest",
         "208.109.163.218",
         8,
         [
          1346,
          1345,
          1343
         ],
         [
          40,
          40,
          40,
          40,
          40,
          43,
          42,
          40,
          40,
          45,
          42,
          45
         ],
         [
          true,
          true,
          true
         ]
        ],
        [
         "dc-101",
         "sensor-istick",
         "204.116.105.67",
         5,
         [
          1574,
          1570,
          1576
         ],
         [
          30,
          30,
          30,
          30,
          40,
          43,
          42,
          40,
          40,
          35,
          42,
          35
         ],
         [
          true,
          true,
          true
         ]
        ]
       ],
       "datasetInfos": [],
       "dbfsResultPath": null,
       "isJsonSchema": true,
       "metadata": {},
       "overflow": false,
       "plotOptions": {
        "customPlotOptions": {},
        "displayType": "table",
        "pivotAggregation": null,
        "pivotColumns": null,
        "xColumns": null,
        "yColumns": null
       },
       "removedWidgets": [],
       "schema": [
        {
         "metadata": "{}",
         "name": "dc_id",
         "type": "\"string\""
        },
        {
         "metadata": "{}",
         "name": "key",
         "type": "\"string\""
        },
        {
         "metadata": "{}",
         "name": "ip",
         "type": "\"string\""
        },
        {
         "metadata": "{}",
         "name": "device_id",
         "type": "\"integer\""
        },
        {
         "metadata": "{}",
         "name": "c02_levels",
         "type": "{\"type\":\"array\",\"elementType\":\"integer\",\"containsNull\":true}"
        },
        {
         "metadata": "{}",
         "name": "temp",
         "type": "{\"type\":\"array\",\"elementType\":\"integer\",\"containsNull\":true}"
        },
        {
         "metadata": "{}",
         "name": "high_c02_levels",
         "type": "{\"type\":\"array\",\"elementType\":\"boolean\",\"containsNull\":true}"
        }
       ],
       "type": "table"
      }
     },
     "output_type": "display_data"
    }
   ],
   "source": [
    "%sql select dc_id, key, ip, device_id, c02_levels, temp, \n",
    "     transform (c02_levels, t -> t > 1300) as high_c02_levels\n",
    "     from data_center_iot_devices\n",
    "    "
   ]
  },
  {
   "cell_type": "markdown",
   "metadata": {
    "application/vnd.databricks.v1+cell": {
     "cellMetadata": {
      "byteLimit": 2048000,
      "rowLimit": 10000
     },
     "inputWidgets": {},
     "nuid": "6a84f7ed-1dbd-4fd3-9c37-10d6a5f19d3a",
     "showTitle": false,
     "tableResultSettingsMap": {},
     "title": ""
    }
   },
   "source": [
    "### How to use `filter()`"
   ]
  },
  {
   "cell_type": "markdown",
   "metadata": {
    "application/vnd.databricks.v1+cell": {
     "cellMetadata": {
      "byteLimit": 2048000,
      "rowLimit": 10000
     },
     "inputWidgets": {},
     "nuid": "ddd0e8e8-37fd-4ad3-87b2-34fccc930acc",
     "showTitle": false,
     "tableResultSettingsMap": {},
     "title": ""
    }
   },
   "source": [
    "As with `transform`, `filter` has a similar signature, `filter(array<T>, function<T, Boolean>): array<T>`\n",
    "Unlike `transform()` with a boolean expression, it produces an output array from an input array by *only* adding elements for which predicate `function<T, Boolean>` holds.\n",
    "\n",
    "For instance, let's include only readings in our `c02_levels` that exceed dangerous levels (`cO2_level > 1300`). Again the functional signature is not dissimilar to `transform()`. However, note the difference in how `filter()` generated the resulting array compared to _transform()_ with similar lambda expression."
   ]
  },
  {
   "cell_type": "code",
   "execution_count": 0,
   "metadata": {
    "application/vnd.databricks.v1+cell": {
     "cellMetadata": {
      "byteLimit": 2048000,
      "implicitDf": true,
      "rowLimit": 10000
     },
     "inputWidgets": {},
     "nuid": "6dc97f0e-c186-4c4d-b646-0a681fbf4161",
     "showTitle": false,
     "tableResultSettingsMap": {},
     "title": ""
    }
   },
   "outputs": [
    {
     "output_type": "display_data",
     "data": {
      "text/html": [
       "<style scoped>\n",
       "  .table-result-container {\n",
       "    max-height: 300px;\n",
       "    overflow: auto;\n",
       "  }\n",
       "  table, th, td {\n",
       "    border: 1px solid black;\n",
       "    border-collapse: collapse;\n",
       "  }\n",
       "  th, td {\n",
       "    padding: 5px;\n",
       "  }\n",
       "  th {\n",
       "    text-align: left;\n",
       "  }\n",
       "</style><div class='table-result-container'><table class='table-result'><thead style='background-color: white'><tr><th>dc_id</th><th>key</th><th>ip</th><th>device_id</th><th>c02_levels</th><th>temp</th><th>high_c02_levels</th></tr></thead><tbody><tr><td>dc-101</td><td>sensor-igauge</td><td>68.28.91.22</td><td>10</td><td>List(1475, 1476, 1473)</td><td>List(35, 35, 35, 36, 35, 35, 32, 35, 30, 35, 32, 35)</td><td>List(1475, 1476, 1473)</td></tr><tr><td>dc-101</td><td>sensor-ipad</td><td>67.185.72.1</td><td>13</td><td>List(1370, 1371, 1372)</td><td>List(45, 45, 45, 46, 45, 45, 42, 35, 40, 45, 42, 45)</td><td>List(1370, 1371, 1372)</td></tr><tr><td>dc-101</td><td>sensor-inest</td><td>208.109.163.218</td><td>8</td><td>List(1346, 1345, 1343)</td><td>List(40, 40, 40, 40, 40, 43, 42, 40, 40, 45, 42, 45)</td><td>List(1346, 1345, 1343)</td></tr><tr><td>dc-101</td><td>sensor-istick</td><td>204.116.105.67</td><td>5</td><td>List(1574, 1570, 1576)</td><td>List(30, 30, 30, 30, 40, 43, 42, 40, 40, 35, 42, 35)</td><td>List(1574, 1570, 1576)</td></tr></tbody></table></div>"
      ]
     },
     "metadata": {
      "application/vnd.databricks.v1+output": {
       "addedWidgets": {},
       "aggData": [],
       "aggError": "",
       "aggOverflow": false,
       "aggSchema": [],
       "aggSeriesLimitReached": false,
       "aggType": "",
       "arguments": {},
       "columnCustomDisplayInfos": {},
       "data": [
        [
         "dc-101",
         "sensor-igauge",
         "68.28.91.22",
         10,
         [
          1475,
          1476,
          1473
         ],
         [
          35,
          35,
          35,
          36,
          35,
          35,
          32,
          35,
          30,
          35,
          32,
          35
         ],
         [
          1475,
          1476,
          1473
         ]
        ],
        [
         "dc-101",
         "sensor-ipad",
         "67.185.72.1",
         13,
         [
          1370,
          1371,
          1372
         ],
         [
          45,
          45,
          45,
          46,
          45,
          45,
          42,
          35,
          40,
          45,
          42,
          45
         ],
         [
          1370,
          1371,
          1372
         ]
        ],
        [
         "dc-101",
         "sensor-inest",
         "208.109.163.218",
         8,
         [
          1346,
          1345,
          1343
         ],
         [
          40,
          40,
          40,
          40,
          40,
          43,
          42,
          40,
          40,
          45,
          42,
          45
         ],
         [
          1346,
          1345,
          1343
         ]
        ],
        [
         "dc-101",
         "sensor-istick",
         "204.116.105.67",
         5,
         [
          1574,
          1570,
          1576
         ],
         [
          30,
          30,
          30,
          30,
          40,
          43,
          42,
          40,
          40,
          35,
          42,
          35
         ],
         [
          1574,
          1570,
          1576
         ]
        ]
       ],
       "datasetInfos": [],
       "dbfsResultPath": null,
       "isJsonSchema": true,
       "metadata": {},
       "overflow": false,
       "plotOptions": {
        "customPlotOptions": {},
        "displayType": "table",
        "pivotAggregation": null,
        "pivotColumns": null,
        "xColumns": null,
        "yColumns": null
       },
       "removedWidgets": [],
       "schema": [
        {
         "metadata": "{}",
         "name": "dc_id",
         "type": "\"string\""
        },
        {
         "metadata": "{}",
         "name": "key",
         "type": "\"string\""
        },
        {
         "metadata": "{}",
         "name": "ip",
         "type": "\"string\""
        },
        {
         "metadata": "{}",
         "name": "device_id",
         "type": "\"integer\""
        },
        {
         "metadata": "{}",
         "name": "c02_levels",
         "type": "{\"type\":\"array\",\"elementType\":\"integer\",\"containsNull\":true}"
        },
        {
         "metadata": "{}",
         "name": "temp",
         "type": "{\"type\":\"array\",\"elementType\":\"integer\",\"containsNull\":true}"
        },
        {
         "metadata": "{}",
         "name": "high_c02_levels",
         "type": "{\"type\":\"array\",\"elementType\":\"integer\",\"containsNull\":true}"
        }
       ],
       "type": "table"
      }
     },
     "output_type": "display_data"
    }
   ],
   "source": [
    "%sql select dc_id, key, ip, device_id, c02_levels, temp, \n",
    "     filter (c02_levels, t -> t > 1300) as high_c02_levels\n",
    "     from data_center_iot_devices"
   ]
  },
  {
   "cell_type": "markdown",
   "metadata": {
    "application/vnd.databricks.v1+cell": {
     "cellMetadata": {
      "byteLimit": 2048000,
      "rowLimit": 10000
     },
     "inputWidgets": {},
     "nuid": "9a86ea1e-ed0a-4bbe-973e-eebf2b89f94f",
     "showTitle": false,
     "tableResultSettingsMap": {},
     "title": ""
    }
   },
   "source": [
    "Notice when the lambda's predicate expression is reversed, the resulting array is empty. That is, it does not evaluate to values true or false as it did in `tranform()`."
   ]
  },
  {
   "cell_type": "code",
   "execution_count": 0,
   "metadata": {
    "application/vnd.databricks.v1+cell": {
     "cellMetadata": {
      "byteLimit": 2048000,
      "implicitDf": true,
      "rowLimit": 10000
     },
     "inputWidgets": {},
     "nuid": "ea08a160-4024-4131-9986-ea257b19bab5",
     "showTitle": false,
     "tableResultSettingsMap": {},
     "title": ""
    }
   },
   "outputs": [
    {
     "output_type": "display_data",
     "data": {
      "text/html": [
       "<style scoped>\n",
       "  .table-result-container {\n",
       "    max-height: 300px;\n",
       "    overflow: auto;\n",
       "  }\n",
       "  table, th, td {\n",
       "    border: 1px solid black;\n",
       "    border-collapse: collapse;\n",
       "  }\n",
       "  th, td {\n",
       "    padding: 5px;\n",
       "  }\n",
       "  th {\n",
       "    text-align: left;\n",
       "  }\n",
       "</style><div class='table-result-container'><table class='table-result'><thead style='background-color: white'><tr><th>dc_id</th><th>key</th><th>ip</th><th>device_id</th><th>c02_levels</th><th>temp</th><th>high_c02_levels</th></tr></thead><tbody><tr><td>dc-101</td><td>sensor-igauge</td><td>68.28.91.22</td><td>10</td><td>List(1475, 1476, 1473)</td><td>List(35, 35, 35, 36, 35, 35, 32, 35, 30, 35, 32, 35)</td><td>List()</td></tr><tr><td>dc-101</td><td>sensor-ipad</td><td>67.185.72.1</td><td>13</td><td>List(1370, 1371, 1372)</td><td>List(45, 45, 45, 46, 45, 45, 42, 35, 40, 45, 42, 45)</td><td>List()</td></tr><tr><td>dc-101</td><td>sensor-inest</td><td>208.109.163.218</td><td>8</td><td>List(1346, 1345, 1343)</td><td>List(40, 40, 40, 40, 40, 43, 42, 40, 40, 45, 42, 45)</td><td>List()</td></tr><tr><td>dc-101</td><td>sensor-istick</td><td>204.116.105.67</td><td>5</td><td>List(1574, 1570, 1576)</td><td>List(30, 30, 30, 30, 40, 43, 42, 40, 40, 35, 42, 35)</td><td>List()</td></tr></tbody></table></div>"
      ]
     },
     "metadata": {
      "application/vnd.databricks.v1+output": {
       "addedWidgets": {},
       "aggData": [],
       "aggError": "",
       "aggOverflow": false,
       "aggSchema": [],
       "aggSeriesLimitReached": false,
       "aggType": "",
       "arguments": {},
       "columnCustomDisplayInfos": {},
       "data": [
        [
         "dc-101",
         "sensor-igauge",
         "68.28.91.22",
         10,
         [
          1475,
          1476,
          1473
         ],
         [
          35,
          35,
          35,
          36,
          35,
          35,
          32,
          35,
          30,
          35,
          32,
          35
         ],
         []
        ],
        [
         "dc-101",
         "sensor-ipad",
         "67.185.72.1",
         13,
         [
          1370,
          1371,
          1372
         ],
         [
          45,
          45,
          45,
          46,
          45,
          45,
          42,
          35,
          40,
          45,
          42,
          45
         ],
         []
        ],
        [
         "dc-101",
         "sensor-inest",
         "208.109.163.218",
         8,
         [
          1346,
          1345,
          1343
         ],
         [
          40,
          40,
          40,
          40,
          40,
          43,
          42,
          40,
          40,
          45,
          42,
          45
         ],
         []
        ],
        [
         "dc-101",
         "sensor-istick",
         "204.116.105.67",
         5,
         [
          1574,
          1570,
          1576
         ],
         [
          30,
          30,
          30,
          30,
          40,
          43,
          42,
          40,
          40,
          35,
          42,
          35
         ],
         []
        ]
       ],
       "datasetInfos": [],
       "dbfsResultPath": null,
       "isJsonSchema": true,
       "metadata": {},
       "overflow": false,
       "plotOptions": {
        "customPlotOptions": {},
        "displayType": "table",
        "pivotAggregation": null,
        "pivotColumns": null,
        "xColumns": null,
        "yColumns": null
       },
       "removedWidgets": [],
       "schema": [
        {
         "metadata": "{}",
         "name": "dc_id",
         "type": "\"string\""
        },
        {
         "metadata": "{}",
         "name": "key",
         "type": "\"string\""
        },
        {
         "metadata": "{}",
         "name": "ip",
         "type": "\"string\""
        },
        {
         "metadata": "{}",
         "name": "device_id",
         "type": "\"integer\""
        },
        {
         "metadata": "{}",
         "name": "c02_levels",
         "type": "{\"type\":\"array\",\"elementType\":\"integer\",\"containsNull\":true}"
        },
        {
         "metadata": "{}",
         "name": "temp",
         "type": "{\"type\":\"array\",\"elementType\":\"integer\",\"containsNull\":true}"
        },
        {
         "metadata": "{}",
         "name": "high_c02_levels",
         "type": "{\"type\":\"array\",\"elementType\":\"integer\",\"containsNull\":true}"
        }
       ],
       "type": "table"
      }
     },
     "output_type": "display_data"
    }
   ],
   "source": [
    "%sql select dc_id, key, ip, device_id, c02_levels, temp, \n",
    "     filter (c02_levels, t -> t < 1300 ) as high_c02_levels\n",
    "     from data_center_iot_devices"
   ]
  },
  {
   "cell_type": "markdown",
   "metadata": {
    "application/vnd.databricks.v1+cell": {
     "cellMetadata": {
      "byteLimit": 2048000,
      "rowLimit": 10000
     },
     "inputWidgets": {},
     "nuid": "33c0443f-4a2f-4c7d-abf8-4487a55fdad3",
     "showTitle": false,
     "tableResultSettingsMap": {},
     "title": ""
    }
   },
   "source": [
    "### How to use `exists()`"
   ]
  },
  {
   "cell_type": "markdown",
   "metadata": {
    "application/vnd.databricks.v1+cell": {
     "cellMetadata": {
      "byteLimit": 2048000,
      "rowLimit": 10000
     },
     "inputWidgets": {},
     "nuid": "c73fcc63-07c8-46af-b7a0-0e9c0cb44dfe",
     "showTitle": false,
     "tableResultSettingsMap": {},
     "title": ""
    }
   },
   "source": [
    "A mildly different functional signature than the above two functions, the idea is simple and same: \n",
    "\n",
    "`exists(array<T>, function<T, V, Boolean>): Boolean`\n",
    "Return true if predicate `function<T, Boolean>` holds for any element in input array.\n",
    "\n",
    "In this case you can iterate through the `temp` array and see if a particular value exists in the array. Let's acertain if any of your values contains 45 degrees Celsius or determine of a c02 level in any of the readings equals to 1570.\n"
   ]
  },
  {
   "cell_type": "code",
   "execution_count": 0,
   "metadata": {
    "application/vnd.databricks.v1+cell": {
     "cellMetadata": {
      "byteLimit": 2048000,
      "implicitDf": true,
      "rowLimit": 10000
     },
     "inputWidgets": {},
     "nuid": "a2e9d305-db3d-4898-9b0d-81f6f380f3f1",
     "showTitle": false,
     "tableResultSettingsMap": {},
     "title": ""
    }
   },
   "outputs": [
    {
     "output_type": "display_data",
     "data": {
      "text/html": [
       "<style scoped>\n",
       "  .table-result-container {\n",
       "    max-height: 300px;\n",
       "    overflow: auto;\n",
       "  }\n",
       "  table, th, td {\n",
       "    border: 1px solid black;\n",
       "    border-collapse: collapse;\n",
       "  }\n",
       "  th, td {\n",
       "    padding: 5px;\n",
       "  }\n",
       "  th {\n",
       "    text-align: left;\n",
       "  }\n",
       "</style><div class='table-result-container'><table class='table-result'><thead style='background-color: white'><tr><th>dc_id</th><th>key</th><th>ip</th><th>device_id</th><th>c02_levels</th><th>temp</th><th>value_exists</th></tr></thead><tbody><tr><td>dc-101</td><td>sensor-igauge</td><td>68.28.91.22</td><td>10</td><td>List(1475, 1476, 1473)</td><td>List(35, 35, 35, 36, 35, 35, 32, 35, 30, 35, 32, 35)</td><td>false</td></tr><tr><td>dc-101</td><td>sensor-ipad</td><td>67.185.72.1</td><td>13</td><td>List(1370, 1371, 1372)</td><td>List(45, 45, 45, 46, 45, 45, 42, 35, 40, 45, 42, 45)</td><td>true</td></tr><tr><td>dc-101</td><td>sensor-inest</td><td>208.109.163.218</td><td>8</td><td>List(1346, 1345, 1343)</td><td>List(40, 40, 40, 40, 40, 43, 42, 40, 40, 45, 42, 45)</td><td>true</td></tr><tr><td>dc-101</td><td>sensor-istick</td><td>204.116.105.67</td><td>5</td><td>List(1574, 1570, 1576)</td><td>List(30, 30, 30, 30, 40, 43, 42, 40, 40, 35, 42, 35)</td><td>false</td></tr></tbody></table></div>"
      ]
     },
     "metadata": {
      "application/vnd.databricks.v1+output": {
       "addedWidgets": {},
       "aggData": [],
       "aggError": "",
       "aggOverflow": false,
       "aggSchema": [],
       "aggSeriesLimitReached": false,
       "aggType": "",
       "arguments": {},
       "columnCustomDisplayInfos": {},
       "data": [
        [
         "dc-101",
         "sensor-igauge",
         "68.28.91.22",
         10,
         [
          1475,
          1476,
          1473
         ],
         [
          35,
          35,
          35,
          36,
          35,
          35,
          32,
          35,
          30,
          35,
          32,
          35
         ],
         false
        ],
        [
         "dc-101",
         "sensor-ipad",
         "67.185.72.1",
         13,
         [
          1370,
          1371,
          1372
         ],
         [
          45,
          45,
          45,
          46,
          45,
          45,
          42,
          35,
          40,
          45,
          42,
          45
         ],
         true
        ],
        [
         "dc-101",
         "sensor-inest",
         "208.109.163.218",
         8,
         [
          1346,
          1345,
          1343
         ],
         [
          40,
          40,
          40,
          40,
          40,
          43,
          42,
          40,
          40,
          45,
          42,
          45
         ],
         true
        ],
        [
         "dc-101",
         "sensor-istick",
         "204.116.105.67",
         5,
         [
          1574,
          1570,
          1576
         ],
         [
          30,
          30,
          30,
          30,
          40,
          43,
          42,
          40,
          40,
          35,
          42,
          35
         ],
         false
        ]
       ],
       "datasetInfos": [],
       "dbfsResultPath": null,
       "isJsonSchema": true,
       "metadata": {},
       "overflow": false,
       "plotOptions": {
        "customPlotOptions": {},
        "displayType": "table",
        "pivotAggregation": null,
        "pivotColumns": null,
        "xColumns": null,
        "yColumns": null
       },
       "removedWidgets": [],
       "schema": [
        {
         "metadata": "{}",
         "name": "dc_id",
         "type": "\"string\""
        },
        {
         "metadata": "{}",
         "name": "key",
         "type": "\"string\""
        },
        {
         "metadata": "{}",
         "name": "ip",
         "type": "\"string\""
        },
        {
         "metadata": "{}",
         "name": "device_id",
         "type": "\"integer\""
        },
        {
         "metadata": "{}",
         "name": "c02_levels",
         "type": "{\"type\":\"array\",\"elementType\":\"integer\",\"containsNull\":true}"
        },
        {
         "metadata": "{}",
         "name": "temp",
         "type": "{\"type\":\"array\",\"elementType\":\"integer\",\"containsNull\":true}"
        },
        {
         "metadata": "{}",
         "name": "value_exists",
         "type": "\"boolean\""
        }
       ],
       "type": "table"
      }
     },
     "output_type": "display_data"
    }
   ],
   "source": [
    "%sql select dc_id, key, ip, device_id, c02_levels, temp, \n",
    "     exists (temp, t -> t = 45 ) as value_exists\n",
    "     from data_center_iot_devices"
   ]
  },
  {
   "cell_type": "code",
   "execution_count": 0,
   "metadata": {
    "application/vnd.databricks.v1+cell": {
     "cellMetadata": {
      "byteLimit": 2048000,
      "implicitDf": true,
      "rowLimit": 10000
     },
     "inputWidgets": {},
     "nuid": "184dd791-e308-47bb-9ad7-534dde0d74d2",
     "showTitle": false,
     "tableResultSettingsMap": {},
     "title": ""
    }
   },
   "outputs": [
    {
     "output_type": "display_data",
     "data": {
      "text/html": [
       "<style scoped>\n",
       "  .table-result-container {\n",
       "    max-height: 300px;\n",
       "    overflow: auto;\n",
       "  }\n",
       "  table, th, td {\n",
       "    border: 1px solid black;\n",
       "    border-collapse: collapse;\n",
       "  }\n",
       "  th, td {\n",
       "    padding: 5px;\n",
       "  }\n",
       "  th {\n",
       "    text-align: left;\n",
       "  }\n",
       "</style><div class='table-result-container'><table class='table-result'><thead style='background-color: white'><tr><th>dc_id</th><th>key</th><th>ip</th><th>device_id</th><th>c02_levels</th><th>temp</th><th>high_c02_levels</th></tr></thead><tbody><tr><td>dc-101</td><td>sensor-igauge</td><td>68.28.91.22</td><td>10</td><td>List(1475, 1476, 1473)</td><td>List(35, 35, 35, 36, 35, 35, 32, 35, 30, 35, 32, 35)</td><td>false</td></tr><tr><td>dc-101</td><td>sensor-ipad</td><td>67.185.72.1</td><td>13</td><td>List(1370, 1371, 1372)</td><td>List(45, 45, 45, 46, 45, 45, 42, 35, 40, 45, 42, 45)</td><td>false</td></tr><tr><td>dc-101</td><td>sensor-inest</td><td>208.109.163.218</td><td>8</td><td>List(1346, 1345, 1343)</td><td>List(40, 40, 40, 40, 40, 43, 42, 40, 40, 45, 42, 45)</td><td>false</td></tr><tr><td>dc-101</td><td>sensor-istick</td><td>204.116.105.67</td><td>5</td><td>List(1574, 1570, 1576)</td><td>List(30, 30, 30, 30, 40, 43, 42, 40, 40, 35, 42, 35)</td><td>true</td></tr></tbody></table></div>"
      ]
     },
     "metadata": {
      "application/vnd.databricks.v1+output": {
       "addedWidgets": {},
       "aggData": [],
       "aggError": "",
       "aggOverflow": false,
       "aggSchema": [],
       "aggSeriesLimitReached": false,
       "aggType": "",
       "arguments": {},
       "columnCustomDisplayInfos": {},
       "data": [
        [
         "dc-101",
         "sensor-igauge",
         "68.28.91.22",
         10,
         [
          1475,
          1476,
          1473
         ],
         [
          35,
          35,
          35,
          36,
          35,
          35,
          32,
          35,
          30,
          35,
          32,
          35
         ],
         false
        ],
        [
         "dc-101",
         "sensor-ipad",
         "67.185.72.1",
         13,
         [
          1370,
          1371,
          1372
         ],
         [
          45,
          45,
          45,
          46,
          45,
          45,
          42,
          35,
          40,
          45,
          42,
          45
         ],
         false
        ],
        [
         "dc-101",
         "sensor-inest",
         "208.109.163.218",
         8,
         [
          1346,
          1345,
          1343
         ],
         [
          40,
          40,
          40,
          40,
          40,
          43,
          42,
          40,
          40,
          45,
          42,
          45
         ],
         false
        ],
        [
         "dc-101",
         "sensor-istick",
         "204.116.105.67",
         5,
         [
          1574,
          1570,
          1576
         ],
         [
          30,
          30,
          30,
          30,
          40,
          43,
          42,
          40,
          40,
          35,
          42,
          35
         ],
         true
        ]
       ],
       "datasetInfos": [],
       "dbfsResultPath": null,
       "isJsonSchema": true,
       "metadata": {},
       "overflow": false,
       "plotOptions": {
        "customPlotOptions": {},
        "displayType": "table",
        "pivotAggregation": null,
        "pivotColumns": null,
        "xColumns": null,
        "yColumns": null
       },
       "removedWidgets": [],
       "schema": [
        {
         "metadata": "{}",
         "name": "dc_id",
         "type": "\"string\""
        },
        {
         "metadata": "{}",
         "name": "key",
         "type": "\"string\""
        },
        {
         "metadata": "{}",
         "name": "ip",
         "type": "\"string\""
        },
        {
         "metadata": "{}",
         "name": "device_id",
         "type": "\"integer\""
        },
        {
         "metadata": "{}",
         "name": "c02_levels",
         "type": "{\"type\":\"array\",\"elementType\":\"integer\",\"containsNull\":true}"
        },
        {
         "metadata": "{}",
         "name": "temp",
         "type": "{\"type\":\"array\",\"elementType\":\"integer\",\"containsNull\":true}"
        },
        {
         "metadata": "{}",
         "name": "high_c02_levels",
         "type": "\"boolean\""
        }
       ],
       "type": "table"
      }
     },
     "output_type": "display_data"
    }
   ],
   "source": [
    "%sql select dc_id, key, ip, device_id, c02_levels, temp, \n",
    "     exists (c02_levels, t -> t = 1570 ) as high_c02_levels\n",
    "     from data_center_iot_devices"
   ]
  },
  {
   "cell_type": "markdown",
   "metadata": {
    "application/vnd.databricks.v1+cell": {
     "cellMetadata": {
      "byteLimit": 2048000,
      "rowLimit": 10000
     },
     "inputWidgets": {},
     "nuid": "be09a2d7-c849-4862-85a2-1821cfedb976",
     "showTitle": false,
     "tableResultSettingsMap": {},
     "title": ""
    }
   },
   "source": [
    "### How to use `reduce()`\n"
   ]
  },
  {
   "cell_type": "markdown",
   "metadata": {
    "application/vnd.databricks.v1+cell": {
     "cellMetadata": {
      "byteLimit": 2048000,
      "rowLimit": 10000
     },
     "inputWidgets": {},
     "nuid": "4658b306-2bec-4ba0-9b34-7348e4f1ceb6",
     "showTitle": false,
     "tableResultSettingsMap": {},
     "title": ""
    }
   },
   "source": [
    "By far this function and its method is more advanced than others. It also allows you to do aggregation, as seen in the next section.\n",
    "Its signature allows us to some extra bit with the last lambda expression as its functional argument.\n",
    "\n",
    "`reduce(array<T>, B, function<B, T, B>, function<B, R>): R`\n",
    "Reduce the elements of `array<T>` into a single value `R` by merging the elements into a buffer B using `function<B, T, B>` and by applying a finish `function<B, R>` on the final buffer. The initial value `B` is determined by a `zero` expression. \n",
    "\n",
    "The finalize function is optional, if you do not specify the function the finalize function the identity function (`id -> id`) is used.\n",
    "This is the only higher-order function that takes two lambda functions.\n",
    "\n",
    "For instance, if you want to compute an average of the temperature readings, use lambda expressions: The first one accumulates all the results into an internal temporary buffer, and the second function applies to the final accumulated buffer. With respect to our signature above, `B` is `0`; `function<B,T,B>` is `t + acc`, and `function<B,R>` is `acc div size(temp)`. Furthermore, in the finalize lambda expression, convert the average temperature to Fahrenheit."
   ]
  },
  {
   "cell_type": "code",
   "execution_count": 0,
   "metadata": {
    "application/vnd.databricks.v1+cell": {
     "cellMetadata": {
      "byteLimit": 2048000,
      "implicitDf": true,
      "rowLimit": 10000
     },
     "inputWidgets": {},
     "nuid": "543603a9-9369-4806-a160-6f56b6298f32",
     "showTitle": false,
     "tableResultSettingsMap": {},
     "title": ""
    }
   },
   "outputs": [
    {
     "output_type": "display_data",
     "data": {
      "text/html": [
       "<style scoped>\n",
       "  .table-result-container {\n",
       "    max-height: 300px;\n",
       "    overflow: auto;\n",
       "  }\n",
       "  table, th, td {\n",
       "    border: 1px solid black;\n",
       "    border-collapse: collapse;\n",
       "  }\n",
       "  th, td {\n",
       "    padding: 5px;\n",
       "  }\n",
       "  th {\n",
       "    text-align: left;\n",
       "  }\n",
       "</style><div class='table-result-container'><table class='table-result'><thead style='background-color: white'><tr><th>key</th><th>ip</th><th>device_id</th><th>temp</th><th>average_f_temp</th></tr></thead><tbody><tr><td>sensor-ipad</td><td>67.185.72.1</td><td>13</td><td>List(45, 45, 45, 46, 45, 45, 42, 35, 40, 45, 42, 45)</td><td>109</td></tr><tr><td>sensor-inest</td><td>208.109.163.218</td><td>8</td><td>List(40, 40, 40, 40, 40, 43, 42, 40, 40, 45, 42, 45)</td><td>105</td></tr><tr><td>sensor-istick</td><td>204.116.105.67</td><td>5</td><td>List(30, 30, 30, 30, 40, 43, 42, 40, 40, 35, 42, 35)</td><td>96</td></tr><tr><td>sensor-igauge</td><td>68.28.91.22</td><td>10</td><td>List(35, 35, 35, 36, 35, 35, 32, 35, 30, 35, 32, 35)</td><td>93</td></tr></tbody></table></div>"
      ]
     },
     "metadata": {
      "application/vnd.databricks.v1+output": {
       "addedWidgets": {},
       "aggData": [],
       "aggError": "",
       "aggOverflow": false,
       "aggSchema": [],
       "aggSeriesLimitReached": false,
       "aggType": "",
       "arguments": {},
       "columnCustomDisplayInfos": {},
       "data": [
        [
         "sensor-ipad",
         "67.185.72.1",
         13,
         [
          45,
          45,
          45,
          46,
          45,
          45,
          42,
          35,
          40,
          45,
          42,
          45
         ],
         109
        ],
        [
         "sensor-inest",
         "208.109.163.218",
         8,
         [
          40,
          40,
          40,
          40,
          40,
          43,
          42,
          40,
          40,
          45,
          42,
          45
         ],
         105
        ],
        [
         "sensor-istick",
         "204.116.105.67",
         5,
         [
          30,
          30,
          30,
          30,
          40,
          43,
          42,
          40,
          40,
          35,
          42,
          35
         ],
         96
        ],
        [
         "sensor-igauge",
         "68.28.91.22",
         10,
         [
          35,
          35,
          35,
          36,
          35,
          35,
          32,
          35,
          30,
          35,
          32,
          35
         ],
         93
        ]
       ],
       "datasetInfos": [],
       "dbfsResultPath": null,
       "isJsonSchema": true,
       "metadata": {},
       "overflow": false,
       "plotOptions": {
        "customPlotOptions": {
         "barChart": [
          {
           "key": "grouped",
           "value": false
          },
          {
           "key": "stacked",
           "value": true
          },
          {
           "key": "100_stacked",
           "value": false
          }
         ]
        },
        "displayType": "barChart",
        "pivotAggregation": "sum",
        "pivotColumns": [
         "key"
        ],
        "xColumns": [
         "device_id"
        ],
        "yColumns": [
         "average_f_temp"
        ]
       },
       "removedWidgets": [],
       "schema": [
        {
         "metadata": "{}",
         "name": "key",
         "type": "\"string\""
        },
        {
         "metadata": "{}",
         "name": "ip",
         "type": "\"string\""
        },
        {
         "metadata": "{}",
         "name": "device_id",
         "type": "\"integer\""
        },
        {
         "metadata": "{}",
         "name": "temp",
         "type": "{\"type\":\"array\",\"elementType\":\"integer\",\"containsNull\":true}"
        },
        {
         "metadata": "{}",
         "name": "average_f_temp",
         "type": "\"long\""
        }
       ],
       "type": "table"
      }
     },
     "output_type": "display_data"
    }
   ],
   "source": [
    "%sql select key, ip, device_id, temp,\n",
    "    reduce(temp, 0, (t, acc) -> t + acc, acc-> (acc div size(temp) * 9 div 5) + 32 ) as average_f_temp\n",
    "    from data_center_iot_devices\n",
    "    sort by average_f_temp desc"
   ]
  },
  {
   "cell_type": "markdown",
   "metadata": {
    "application/vnd.databricks.v1+cell": {
     "cellMetadata": {
      "byteLimit": 2048000,
      "rowLimit": 10000
     },
     "inputWidgets": {},
     "nuid": "cf7fc887-25f2-4c77-a8c0-1eaba398ed45",
     "showTitle": false,
     "tableResultSettingsMap": {},
     "title": ""
    }
   },
   "source": [
    "Simillarly, `reduce()` is employed here to get an average of c02_levels."
   ]
  },
  {
   "cell_type": "code",
   "execution_count": 0,
   "metadata": {
    "application/vnd.databricks.v1+cell": {
     "cellMetadata": {
      "byteLimit": 2048000,
      "implicitDf": true,
      "rowLimit": 10000
     },
     "inputWidgets": {},
     "nuid": "80cb8ff5-e9e5-4221-a8d4-442027e5881e",
     "showTitle": false,
     "tableResultSettingsMap": {},
     "title": ""
    }
   },
   "outputs": [
    {
     "output_type": "display_data",
     "data": {
      "text/html": [
       "<style scoped>\n",
       "  .table-result-container {\n",
       "    max-height: 300px;\n",
       "    overflow: auto;\n",
       "  }\n",
       "  table, th, td {\n",
       "    border: 1px solid black;\n",
       "    border-collapse: collapse;\n",
       "  }\n",
       "  th, td {\n",
       "    padding: 5px;\n",
       "  }\n",
       "  th {\n",
       "    text-align: left;\n",
       "  }\n",
       "</style><div class='table-result-container'><table class='table-result'><thead style='background-color: white'><tr><th>key</th><th>ip</th><th>device_id</th><th>c02_levels</th><th>average_c02_levels</th></tr></thead><tbody><tr><td>sensor-istick</td><td>204.116.105.67</td><td>5</td><td>List(1574, 1570, 1576)</td><td>1573</td></tr><tr><td>sensor-igauge</td><td>68.28.91.22</td><td>10</td><td>List(1475, 1476, 1473)</td><td>1474</td></tr><tr><td>sensor-ipad</td><td>67.185.72.1</td><td>13</td><td>List(1370, 1371, 1372)</td><td>1371</td></tr><tr><td>sensor-inest</td><td>208.109.163.218</td><td>8</td><td>List(1346, 1345, 1343)</td><td>1344</td></tr></tbody></table></div>"
      ]
     },
     "metadata": {
      "application/vnd.databricks.v1+output": {
       "addedWidgets": {},
       "aggData": [],
       "aggError": "",
       "aggOverflow": false,
       "aggSchema": [],
       "aggSeriesLimitReached": false,
       "aggType": "",
       "arguments": {},
       "columnCustomDisplayInfos": {},
       "data": [
        [
         "sensor-istick",
         "204.116.105.67",
         5,
         [
          1574,
          1570,
          1576
         ],
         1573
        ],
        [
         "sensor-igauge",
         "68.28.91.22",
         10,
         [
          1475,
          1476,
          1473
         ],
         1474
        ],
        [
         "sensor-ipad",
         "67.185.72.1",
         13,
         [
          1370,
          1371,
          1372
         ],
         1371
        ],
        [
         "sensor-inest",
         "208.109.163.218",
         8,
         [
          1346,
          1345,
          1343
         ],
         1344
        ]
       ],
       "datasetInfos": [],
       "dbfsResultPath": null,
       "isJsonSchema": true,
       "metadata": {},
       "overflow": false,
       "plotOptions": {
        "customPlotOptions": {
         "barChart": [
          {
           "key": "grouped",
           "value": false
          },
          {
           "key": "stacked",
           "value": true
          },
          {
           "key": "100_stacked",
           "value": false
          }
         ],
         "pieChart": [
          {
           "key": "donut",
           "value": true
          }
         ]
        },
        "displayType": "barChart",
        "pivotAggregation": "avg",
        "pivotColumns": [
         "key"
        ],
        "xColumns": [
         "device_id"
        ],
        "yColumns": [
         "average_c02_levels"
        ]
       },
       "removedWidgets": [],
       "schema": [
        {
         "metadata": "{}",
         "name": "key",
         "type": "\"string\""
        },
        {
         "metadata": "{}",
         "name": "ip",
         "type": "\"string\""
        },
        {
         "metadata": "{}",
         "name": "device_id",
         "type": "\"integer\""
        },
        {
         "metadata": "{}",
         "name": "c02_levels",
         "type": "{\"type\":\"array\",\"elementType\":\"integer\",\"containsNull\":true}"
        },
        {
         "metadata": "{}",
         "name": "average_c02_levels",
         "type": "\"long\""
        }
       ],
       "type": "table"
      }
     },
     "output_type": "display_data"
    }
   ],
   "source": [
    "%sql select key, ip, device_id, c02_levels,\n",
    "    reduce(c02_levels, 0, (t, acc) -> t + acc, acc-> acc div size(c02_levels)) as average_c02_levels\n",
    "    from data_center_iot_devices\n",
    "    sort by  average_c02_levels desc\n"
   ]
  },
  {
   "cell_type": "markdown",
   "metadata": {
    "application/vnd.databricks.v1+cell": {
     "cellMetadata": {
      "byteLimit": 2048000,
      "rowLimit": 10000
     },
     "inputWidgets": {},
     "nuid": "f6abad55-8688-4368-971b-7ad76b612c86",
     "showTitle": false,
     "tableResultSettingsMap": {},
     "title": ""
    }
   },
   "source": [
    "### How to use `aggregate()`\n"
   ]
  },
  {
   "cell_type": "markdown",
   "metadata": {
    "application/vnd.databricks.v1+cell": {
     "cellMetadata": {
      "byteLimit": 2048000,
      "rowLimit": 10000
     },
     "inputWidgets": {},
     "nuid": "ae2e5150-6bc8-4c75-b57f-8a82adb7c5a1",
     "showTitle": false,
     "tableResultSettingsMap": {},
     "title": ""
    }
   },
   "source": [
    "Aggregate is an alias of `reduce`. It has the same inputs, and it will produce the same results.\n",
    "  \n",
    "Let's compute a geomean of the c02 levels and sort them by descending order. Note the complex lambda expression with the above functional signature."
   ]
  },
  {
   "cell_type": "code",
   "execution_count": 0,
   "metadata": {
    "application/vnd.databricks.v1+cell": {
     "cellMetadata": {
      "byteLimit": 2048000,
      "implicitDf": true,
      "rowLimit": 10000
     },
     "inputWidgets": {},
     "nuid": "a984c41b-70b8-4185-b617-b4b989fe8a08",
     "showTitle": false,
     "tableResultSettingsMap": {},
     "title": ""
    }
   },
   "outputs": [
    {
     "output_type": "display_data",
     "data": {
      "text/plain": [
       "\u001B[0;31m---------------------------------------------------------------------------\u001B[0m\n",
       "\u001B[0;31mAnalysisException\u001B[0m                         Traceback (most recent call last)\n",
       "File \u001B[0;32m<command-626842756918589>:7\u001B[0m\n",
       "\u001B[1;32m      5\u001B[0m     display(df)\n",
       "\u001B[1;32m      6\u001B[0m     \u001B[38;5;28;01mreturn\u001B[39;00m df\n",
       "\u001B[0;32m----> 7\u001B[0m   _sqldf \u001B[38;5;241m=\u001B[39m \u001B[43m____databricks_percent_sql\u001B[49m\u001B[43m(\u001B[49m\u001B[43m)\u001B[49m\n",
       "\u001B[1;32m      8\u001B[0m \u001B[38;5;28;01mfinally\u001B[39;00m:\n",
       "\u001B[1;32m      9\u001B[0m   \u001B[38;5;28;01mdel\u001B[39;00m ____databricks_percent_sql\n",
       "\n",
       "File \u001B[0;32m<command-626842756918589>:4\u001B[0m, in \u001B[0;36m____databricks_percent_sql\u001B[0;34m()\u001B[0m\n",
       "\u001B[1;32m      2\u001B[0m \u001B[38;5;28;01mdef\u001B[39;00m \u001B[38;5;21m____databricks_percent_sql\u001B[39m():\n",
       "\u001B[1;32m      3\u001B[0m   \u001B[38;5;28;01mimport\u001B[39;00m \u001B[38;5;21;01mbase64\u001B[39;00m\n",
       "\u001B[0;32m----> 4\u001B[0m   df \u001B[38;5;241m=\u001B[39m \u001B[43mspark\u001B[49m\u001B[38;5;241;43m.\u001B[39;49m\u001B[43msql\u001B[49m\u001B[43m(\u001B[49m\u001B[43mbase64\u001B[49m\u001B[38;5;241;43m.\u001B[39;49m\u001B[43mstandard_b64decode\u001B[49m\u001B[43m(\u001B[49m\u001B[38;5;124;43m\"\u001B[39;49m\u001B[38;5;124;43mc2VsZWN0IGtleSwgaXAsIGRldmljZV9pZCwgYzAyX2xldmVscywKICAgICBhZ2dyZWdhdGUoYzAyX2xldmVscywKICAgICAgICAgICAgICAgKDEuMCBhcyBwcm9kdWN0LCAwIGFzIE4pLAogICAgICAgICAgICAgICAoYnVmZmVyLCBjMDIpIC0+IChjMDIgKiBidWZmZXIucHJvZHVjdCwgYnVmZmVyLk4rMSksCiAgICAgICAgICAgICAgIGJ1ZmZlciAtPiByb3VuZChQb3dlcihidWZmZXIucHJvZHVjdCwgMS4wIC8gYnVmZmVyLk4pKSkgYXMgYzAyX2dlb21lYW4KICAgICBmcm9tIGRhdGFfY2VudGVyX2lvdF9kZXZpY2VzCiAgICAgc29ydCBieSBjMDJfZ2VvbWVhbiBkZXNj\u001B[39;49m\u001B[38;5;124;43m\"\u001B[39;49m\u001B[43m)\u001B[49m\u001B[38;5;241;43m.\u001B[39;49m\u001B[43mdecode\u001B[49m\u001B[43m(\u001B[49m\u001B[43m)\u001B[49m\u001B[43m)\u001B[49m\n",
       "\u001B[1;32m      5\u001B[0m   display(df)\n",
       "\u001B[1;32m      6\u001B[0m   \u001B[38;5;28;01mreturn\u001B[39;00m df\n",
       "\n",
       "File \u001B[0;32m/databricks/spark/python/pyspark/instrumentation_utils.py:48\u001B[0m, in \u001B[0;36m_wrap_function.<locals>.wrapper\u001B[0;34m(*args, **kwargs)\u001B[0m\n",
       "\u001B[1;32m     46\u001B[0m start \u001B[38;5;241m=\u001B[39m time\u001B[38;5;241m.\u001B[39mperf_counter()\n",
       "\u001B[1;32m     47\u001B[0m \u001B[38;5;28;01mtry\u001B[39;00m:\n",
       "\u001B[0;32m---> 48\u001B[0m     res \u001B[38;5;241m=\u001B[39m \u001B[43mfunc\u001B[49m\u001B[43m(\u001B[49m\u001B[38;5;241;43m*\u001B[39;49m\u001B[43margs\u001B[49m\u001B[43m,\u001B[49m\u001B[43m \u001B[49m\u001B[38;5;241;43m*\u001B[39;49m\u001B[38;5;241;43m*\u001B[39;49m\u001B[43mkwargs\u001B[49m\u001B[43m)\u001B[49m\n",
       "\u001B[1;32m     49\u001B[0m     logger\u001B[38;5;241m.\u001B[39mlog_success(\n",
       "\u001B[1;32m     50\u001B[0m         module_name, class_name, function_name, time\u001B[38;5;241m.\u001B[39mperf_counter() \u001B[38;5;241m-\u001B[39m start, signature\n",
       "\u001B[1;32m     51\u001B[0m     )\n",
       "\u001B[1;32m     52\u001B[0m     \u001B[38;5;28;01mreturn\u001B[39;00m res\n",
       "\n",
       "File \u001B[0;32m/databricks/spark/python/pyspark/sql/session.py:1387\u001B[0m, in \u001B[0;36mSparkSession.sql\u001B[0;34m(self, sqlQuery, args, **kwargs)\u001B[0m\n",
       "\u001B[1;32m   1385\u001B[0m \u001B[38;5;28;01mtry\u001B[39;00m:\n",
       "\u001B[1;32m   1386\u001B[0m     litArgs \u001B[38;5;241m=\u001B[39m {k: _to_java_column(lit(v)) \u001B[38;5;28;01mfor\u001B[39;00m k, v \u001B[38;5;129;01min\u001B[39;00m (args \u001B[38;5;129;01mor\u001B[39;00m {})\u001B[38;5;241m.\u001B[39mitems()}\n",
       "\u001B[0;32m-> 1387\u001B[0m     \u001B[38;5;28;01mreturn\u001B[39;00m DataFrame(\u001B[38;5;28;43mself\u001B[39;49m\u001B[38;5;241;43m.\u001B[39;49m\u001B[43m_jsparkSession\u001B[49m\u001B[38;5;241;43m.\u001B[39;49m\u001B[43msql\u001B[49m\u001B[43m(\u001B[49m\u001B[43msqlQuery\u001B[49m\u001B[43m,\u001B[49m\u001B[43m \u001B[49m\u001B[43mlitArgs\u001B[49m\u001B[43m)\u001B[49m, \u001B[38;5;28mself\u001B[39m)\n",
       "\u001B[1;32m   1388\u001B[0m \u001B[38;5;28;01mfinally\u001B[39;00m:\n",
       "\u001B[1;32m   1389\u001B[0m     \u001B[38;5;28;01mif\u001B[39;00m \u001B[38;5;28mlen\u001B[39m(kwargs) \u001B[38;5;241m>\u001B[39m \u001B[38;5;241m0\u001B[39m:\n",
       "\n",
       "File \u001B[0;32m/databricks/spark/python/lib/py4j-0.10.9.5-src.zip/py4j/java_gateway.py:1321\u001B[0m, in \u001B[0;36mJavaMember.__call__\u001B[0;34m(self, *args)\u001B[0m\n",
       "\u001B[1;32m   1315\u001B[0m command \u001B[38;5;241m=\u001B[39m proto\u001B[38;5;241m.\u001B[39mCALL_COMMAND_NAME \u001B[38;5;241m+\u001B[39m\\\n",
       "\u001B[1;32m   1316\u001B[0m     \u001B[38;5;28mself\u001B[39m\u001B[38;5;241m.\u001B[39mcommand_header \u001B[38;5;241m+\u001B[39m\\\n",
       "\u001B[1;32m   1317\u001B[0m     args_command \u001B[38;5;241m+\u001B[39m\\\n",
       "\u001B[1;32m   1318\u001B[0m     proto\u001B[38;5;241m.\u001B[39mEND_COMMAND_PART\n",
       "\u001B[1;32m   1320\u001B[0m answer \u001B[38;5;241m=\u001B[39m \u001B[38;5;28mself\u001B[39m\u001B[38;5;241m.\u001B[39mgateway_client\u001B[38;5;241m.\u001B[39msend_command(command)\n",
       "\u001B[0;32m-> 1321\u001B[0m return_value \u001B[38;5;241m=\u001B[39m \u001B[43mget_return_value\u001B[49m\u001B[43m(\u001B[49m\n",
       "\u001B[1;32m   1322\u001B[0m \u001B[43m    \u001B[49m\u001B[43manswer\u001B[49m\u001B[43m,\u001B[49m\u001B[43m \u001B[49m\u001B[38;5;28;43mself\u001B[39;49m\u001B[38;5;241;43m.\u001B[39;49m\u001B[43mgateway_client\u001B[49m\u001B[43m,\u001B[49m\u001B[43m \u001B[49m\u001B[38;5;28;43mself\u001B[39;49m\u001B[38;5;241;43m.\u001B[39;49m\u001B[43mtarget_id\u001B[49m\u001B[43m,\u001B[49m\u001B[43m \u001B[49m\u001B[38;5;28;43mself\u001B[39;49m\u001B[38;5;241;43m.\u001B[39;49m\u001B[43mname\u001B[49m\u001B[43m)\u001B[49m\n",
       "\u001B[1;32m   1324\u001B[0m \u001B[38;5;28;01mfor\u001B[39;00m temp_arg \u001B[38;5;129;01min\u001B[39;00m temp_args:\n",
       "\u001B[1;32m   1325\u001B[0m     temp_arg\u001B[38;5;241m.\u001B[39m_detach()\n",
       "\n",
       "File \u001B[0;32m/databricks/spark/python/pyspark/errors/exceptions.py:234\u001B[0m, in \u001B[0;36mcapture_sql_exception.<locals>.deco\u001B[0;34m(*a, **kw)\u001B[0m\n",
       "\u001B[1;32m    230\u001B[0m converted \u001B[38;5;241m=\u001B[39m convert_exception(e\u001B[38;5;241m.\u001B[39mjava_exception)\n",
       "\u001B[1;32m    231\u001B[0m \u001B[38;5;28;01mif\u001B[39;00m \u001B[38;5;129;01mnot\u001B[39;00m \u001B[38;5;28misinstance\u001B[39m(converted, UnknownException):\n",
       "\u001B[1;32m    232\u001B[0m     \u001B[38;5;66;03m# Hide where the exception came from that shows a non-Pythonic\u001B[39;00m\n",
       "\u001B[1;32m    233\u001B[0m     \u001B[38;5;66;03m# JVM exception message.\u001B[39;00m\n",
       "\u001B[0;32m--> 234\u001B[0m     \u001B[38;5;28;01mraise\u001B[39;00m converted \u001B[38;5;28;01mfrom\u001B[39;00m \u001B[38;5;28mNone\u001B[39m\n",
       "\u001B[1;32m    235\u001B[0m \u001B[38;5;28;01melse\u001B[39;00m:\n",
       "\u001B[1;32m    236\u001B[0m     \u001B[38;5;28;01mraise\u001B[39;00m\n",
       "\n",
       "\u001B[0;31mAnalysisException\u001B[0m: [DATATYPE_MISMATCH.UNEXPECTED_INPUT_TYPE] Cannot resolve \"aggregate(c02_levels, named_struct(product, 1.0, N, 0), lambdafunction(named_struct(col1, (namedlambdavariable() * namedlambdavariable().product), col2, (namedlambdavariable().N + 1)), namedlambdavariable(), namedlambdavariable()), lambdafunction(round(POWER(namedlambdavariable().product, (1.0 / namedlambdavariable().N)), 0), namedlambdavariable()))\" due to data type mismatch: parameter 3 requires \"STRUCT<product: DECIMAL(2,1), N: INT>\" type, however, \"lambdafunction(named_struct(col1, (namedlambdavariable() * namedlambdavariable().product), col2, (namedlambdavariable().N + 1)), namedlambdavariable(), namedlambdavariable())\" is of \"STRUCT<col1: DECIMAL(13,1), col2: INT>\" type.; line 2 pos 5;\n",
       "Sort [c02_geomean#1451 DESC NULLS LAST], false\n",
       "+- Project [key#1194, ip#1208, device_id#1206, c02_levels#1207, aggregate(c02_levels#1207, named_struct(product, 1.0, N, 0), lambdafunction(named_struct(col1, (cast(lambda c02#1453 as decimal(10,0)) * lambda buffer#1452.product), col2, (lambda buffer#1452.N + 1)), lambda buffer#1452, lambda c02#1453, false), lambdafunction(round(POWER(cast(lambda buffer#1454.product as double), cast((1.0 / cast(lambda buffer#1454.N as decimal(10,0))) as double)), 0), lambda buffer#1454, false)) AS c02_geomean#1451]\n",
       "   +- SubqueryAlias data_center_iot_devices\n",
       "      +- View (`data_center_iot_devices`, [dc_id#1185,key#1194,ip#1208,device_id#1206,c02_levels#1207,temp#1211])\n",
       "         +- Project [dc_id#1185, key#1194, value#1195.ip AS ip#1208, value#1195.id AS device_id#1206, value#1195.c02_level AS c02_levels#1207, value#1195.temp AS temp#1211]\n",
       "            +- Project [dc_id#1185, key#1194, value#1195]\n",
       "               +- Generate explode(source#1186), false, [key#1194, value#1195]\n",
       "                  +- LogicalRDD [dc_id#1185, source#1186], false\n"
      ]
     },
     "metadata": {
      "application/vnd.databricks.v1+output": {
       "arguments": {},
       "data": "\u001B[0;31m---------------------------------------------------------------------------\u001B[0m\n\u001B[0;31mAnalysisException\u001B[0m                         Traceback (most recent call last)\nFile \u001B[0;32m<command-626842756918589>:7\u001B[0m\n\u001B[1;32m      5\u001B[0m     display(df)\n\u001B[1;32m      6\u001B[0m     \u001B[38;5;28;01mreturn\u001B[39;00m df\n\u001B[0;32m----> 7\u001B[0m   _sqldf \u001B[38;5;241m=\u001B[39m \u001B[43m____databricks_percent_sql\u001B[49m\u001B[43m(\u001B[49m\u001B[43m)\u001B[49m\n\u001B[1;32m      8\u001B[0m \u001B[38;5;28;01mfinally\u001B[39;00m:\n\u001B[1;32m      9\u001B[0m   \u001B[38;5;28;01mdel\u001B[39;00m ____databricks_percent_sql\n\nFile \u001B[0;32m<command-626842756918589>:4\u001B[0m, in \u001B[0;36m____databricks_percent_sql\u001B[0;34m()\u001B[0m\n\u001B[1;32m      2\u001B[0m \u001B[38;5;28;01mdef\u001B[39;00m \u001B[38;5;21m____databricks_percent_sql\u001B[39m():\n\u001B[1;32m      3\u001B[0m   \u001B[38;5;28;01mimport\u001B[39;00m \u001B[38;5;21;01mbase64\u001B[39;00m\n\u001B[0;32m----> 4\u001B[0m   df \u001B[38;5;241m=\u001B[39m \u001B[43mspark\u001B[49m\u001B[38;5;241;43m.\u001B[39;49m\u001B[43msql\u001B[49m\u001B[43m(\u001B[49m\u001B[43mbase64\u001B[49m\u001B[38;5;241;43m.\u001B[39;49m\u001B[43mstandard_b64decode\u001B[49m\u001B[43m(\u001B[49m\u001B[38;5;124;43m\"\u001B[39;49m\u001B[38;5;124;43mc2VsZWN0IGtleSwgaXAsIGRldmljZV9pZCwgYzAyX2xldmVscywKICAgICBhZ2dyZWdhdGUoYzAyX2xldmVscywKICAgICAgICAgICAgICAgKDEuMCBhcyBwcm9kdWN0LCAwIGFzIE4pLAogICAgICAgICAgICAgICAoYnVmZmVyLCBjMDIpIC0+IChjMDIgKiBidWZmZXIucHJvZHVjdCwgYnVmZmVyLk4rMSksCiAgICAgICAgICAgICAgIGJ1ZmZlciAtPiByb3VuZChQb3dlcihidWZmZXIucHJvZHVjdCwgMS4wIC8gYnVmZmVyLk4pKSkgYXMgYzAyX2dlb21lYW4KICAgICBmcm9tIGRhdGFfY2VudGVyX2lvdF9kZXZpY2VzCiAgICAgc29ydCBieSBjMDJfZ2VvbWVhbiBkZXNj\u001B[39;49m\u001B[38;5;124;43m\"\u001B[39;49m\u001B[43m)\u001B[49m\u001B[38;5;241;43m.\u001B[39;49m\u001B[43mdecode\u001B[49m\u001B[43m(\u001B[49m\u001B[43m)\u001B[49m\u001B[43m)\u001B[49m\n\u001B[1;32m      5\u001B[0m   display(df)\n\u001B[1;32m      6\u001B[0m   \u001B[38;5;28;01mreturn\u001B[39;00m df\n\nFile \u001B[0;32m/databricks/spark/python/pyspark/instrumentation_utils.py:48\u001B[0m, in \u001B[0;36m_wrap_function.<locals>.wrapper\u001B[0;34m(*args, **kwargs)\u001B[0m\n\u001B[1;32m     46\u001B[0m start \u001B[38;5;241m=\u001B[39m time\u001B[38;5;241m.\u001B[39mperf_counter()\n\u001B[1;32m     47\u001B[0m \u001B[38;5;28;01mtry\u001B[39;00m:\n\u001B[0;32m---> 48\u001B[0m     res \u001B[38;5;241m=\u001B[39m \u001B[43mfunc\u001B[49m\u001B[43m(\u001B[49m\u001B[38;5;241;43m*\u001B[39;49m\u001B[43margs\u001B[49m\u001B[43m,\u001B[49m\u001B[43m \u001B[49m\u001B[38;5;241;43m*\u001B[39;49m\u001B[38;5;241;43m*\u001B[39;49m\u001B[43mkwargs\u001B[49m\u001B[43m)\u001B[49m\n\u001B[1;32m     49\u001B[0m     logger\u001B[38;5;241m.\u001B[39mlog_success(\n\u001B[1;32m     50\u001B[0m         module_name, class_name, function_name, time\u001B[38;5;241m.\u001B[39mperf_counter() \u001B[38;5;241m-\u001B[39m start, signature\n\u001B[1;32m     51\u001B[0m     )\n\u001B[1;32m     52\u001B[0m     \u001B[38;5;28;01mreturn\u001B[39;00m res\n\nFile \u001B[0;32m/databricks/spark/python/pyspark/sql/session.py:1387\u001B[0m, in \u001B[0;36mSparkSession.sql\u001B[0;34m(self, sqlQuery, args, **kwargs)\u001B[0m\n\u001B[1;32m   1385\u001B[0m \u001B[38;5;28;01mtry\u001B[39;00m:\n\u001B[1;32m   1386\u001B[0m     litArgs \u001B[38;5;241m=\u001B[39m {k: _to_java_column(lit(v)) \u001B[38;5;28;01mfor\u001B[39;00m k, v \u001B[38;5;129;01min\u001B[39;00m (args \u001B[38;5;129;01mor\u001B[39;00m {})\u001B[38;5;241m.\u001B[39mitems()}\n\u001B[0;32m-> 1387\u001B[0m     \u001B[38;5;28;01mreturn\u001B[39;00m DataFrame(\u001B[38;5;28;43mself\u001B[39;49m\u001B[38;5;241;43m.\u001B[39;49m\u001B[43m_jsparkSession\u001B[49m\u001B[38;5;241;43m.\u001B[39;49m\u001B[43msql\u001B[49m\u001B[43m(\u001B[49m\u001B[43msqlQuery\u001B[49m\u001B[43m,\u001B[49m\u001B[43m \u001B[49m\u001B[43mlitArgs\u001B[49m\u001B[43m)\u001B[49m, \u001B[38;5;28mself\u001B[39m)\n\u001B[1;32m   1388\u001B[0m \u001B[38;5;28;01mfinally\u001B[39;00m:\n\u001B[1;32m   1389\u001B[0m     \u001B[38;5;28;01mif\u001B[39;00m \u001B[38;5;28mlen\u001B[39m(kwargs) \u001B[38;5;241m>\u001B[39m \u001B[38;5;241m0\u001B[39m:\n\nFile \u001B[0;32m/databricks/spark/python/lib/py4j-0.10.9.5-src.zip/py4j/java_gateway.py:1321\u001B[0m, in \u001B[0;36mJavaMember.__call__\u001B[0;34m(self, *args)\u001B[0m\n\u001B[1;32m   1315\u001B[0m command \u001B[38;5;241m=\u001B[39m proto\u001B[38;5;241m.\u001B[39mCALL_COMMAND_NAME \u001B[38;5;241m+\u001B[39m\\\n\u001B[1;32m   1316\u001B[0m     \u001B[38;5;28mself\u001B[39m\u001B[38;5;241m.\u001B[39mcommand_header \u001B[38;5;241m+\u001B[39m\\\n\u001B[1;32m   1317\u001B[0m     args_command \u001B[38;5;241m+\u001B[39m\\\n\u001B[1;32m   1318\u001B[0m     proto\u001B[38;5;241m.\u001B[39mEND_COMMAND_PART\n\u001B[1;32m   1320\u001B[0m answer \u001B[38;5;241m=\u001B[39m \u001B[38;5;28mself\u001B[39m\u001B[38;5;241m.\u001B[39mgateway_client\u001B[38;5;241m.\u001B[39msend_command(command)\n\u001B[0;32m-> 1321\u001B[0m return_value \u001B[38;5;241m=\u001B[39m \u001B[43mget_return_value\u001B[49m\u001B[43m(\u001B[49m\n\u001B[1;32m   1322\u001B[0m \u001B[43m    \u001B[49m\u001B[43manswer\u001B[49m\u001B[43m,\u001B[49m\u001B[43m \u001B[49m\u001B[38;5;28;43mself\u001B[39;49m\u001B[38;5;241;43m.\u001B[39;49m\u001B[43mgateway_client\u001B[49m\u001B[43m,\u001B[49m\u001B[43m \u001B[49m\u001B[38;5;28;43mself\u001B[39;49m\u001B[38;5;241;43m.\u001B[39;49m\u001B[43mtarget_id\u001B[49m\u001B[43m,\u001B[49m\u001B[43m \u001B[49m\u001B[38;5;28;43mself\u001B[39;49m\u001B[38;5;241;43m.\u001B[39;49m\u001B[43mname\u001B[49m\u001B[43m)\u001B[49m\n\u001B[1;32m   1324\u001B[0m \u001B[38;5;28;01mfor\u001B[39;00m temp_arg \u001B[38;5;129;01min\u001B[39;00m temp_args:\n\u001B[1;32m   1325\u001B[0m     temp_arg\u001B[38;5;241m.\u001B[39m_detach()\n\nFile \u001B[0;32m/databricks/spark/python/pyspark/errors/exceptions.py:234\u001B[0m, in \u001B[0;36mcapture_sql_exception.<locals>.deco\u001B[0;34m(*a, **kw)\u001B[0m\n\u001B[1;32m    230\u001B[0m converted \u001B[38;5;241m=\u001B[39m convert_exception(e\u001B[38;5;241m.\u001B[39mjava_exception)\n\u001B[1;32m    231\u001B[0m \u001B[38;5;28;01mif\u001B[39;00m \u001B[38;5;129;01mnot\u001B[39;00m \u001B[38;5;28misinstance\u001B[39m(converted, UnknownException):\n\u001B[1;32m    232\u001B[0m     \u001B[38;5;66;03m# Hide where the exception came from that shows a non-Pythonic\u001B[39;00m\n\u001B[1;32m    233\u001B[0m     \u001B[38;5;66;03m# JVM exception message.\u001B[39;00m\n\u001B[0;32m--> 234\u001B[0m     \u001B[38;5;28;01mraise\u001B[39;00m converted \u001B[38;5;28;01mfrom\u001B[39;00m \u001B[38;5;28mNone\u001B[39m\n\u001B[1;32m    235\u001B[0m \u001B[38;5;28;01melse\u001B[39;00m:\n\u001B[1;32m    236\u001B[0m     \u001B[38;5;28;01mraise\u001B[39;00m\n\n\u001B[0;31mAnalysisException\u001B[0m: [DATATYPE_MISMATCH.UNEXPECTED_INPUT_TYPE] Cannot resolve \"aggregate(c02_levels, named_struct(product, 1.0, N, 0), lambdafunction(named_struct(col1, (namedlambdavariable() * namedlambdavariable().product), col2, (namedlambdavariable().N + 1)), namedlambdavariable(), namedlambdavariable()), lambdafunction(round(POWER(namedlambdavariable().product, (1.0 / namedlambdavariable().N)), 0), namedlambdavariable()))\" due to data type mismatch: parameter 3 requires \"STRUCT<product: DECIMAL(2,1), N: INT>\" type, however, \"lambdafunction(named_struct(col1, (namedlambdavariable() * namedlambdavariable().product), col2, (namedlambdavariable().N + 1)), namedlambdavariable(), namedlambdavariable())\" is of \"STRUCT<col1: DECIMAL(13,1), col2: INT>\" type.; line 2 pos 5;\nSort [c02_geomean#1451 DESC NULLS LAST], false\n+- Project [key#1194, ip#1208, device_id#1206, c02_levels#1207, aggregate(c02_levels#1207, named_struct(product, 1.0, N, 0), lambdafunction(named_struct(col1, (cast(lambda c02#1453 as decimal(10,0)) * lambda buffer#1452.product), col2, (lambda buffer#1452.N + 1)), lambda buffer#1452, lambda c02#1453, false), lambdafunction(round(POWER(cast(lambda buffer#1454.product as double), cast((1.0 / cast(lambda buffer#1454.N as decimal(10,0))) as double)), 0), lambda buffer#1454, false)) AS c02_geomean#1451]\n   +- SubqueryAlias data_center_iot_devices\n      +- View (`data_center_iot_devices`, [dc_id#1185,key#1194,ip#1208,device_id#1206,c02_levels#1207,temp#1211])\n         +- Project [dc_id#1185, key#1194, value#1195.ip AS ip#1208, value#1195.id AS device_id#1206, value#1195.c02_level AS c02_levels#1207, value#1195.temp AS temp#1211]\n            +- Project [dc_id#1185, key#1194, value#1195]\n               +- Generate explode(source#1186), false, [key#1194, value#1195]\n                  +- LogicalRDD [dc_id#1185, source#1186], false\n",
       "errorSummary": "<span class='ansi-red-fg'>AnalysisException</span>: [DATATYPE_MISMATCH.UNEXPECTED_INPUT_TYPE] Cannot resolve \"aggregate(c02_levels, named_struct(product, 1.0, N, 0), lambdafunction(named_struct(col1, (namedlambdavariable() * namedlambdavariable().product), col2, (namedlambdavariable().N + 1)), namedlambdavariable(), namedlambdavariable()), lambdafunction(round(POWER(namedlambdavariable().product, (1.0 / namedlambdavariable().N)), 0), namedlambdavariable()))\" due to data type mismatch: parameter 3 requires \"STRUCT<product: DECIMAL(2,1), N: INT>\" type, however, \"lambdafunction(named_struct(col1, (namedlambdavariable() * namedlambdavariable().product), col2, (namedlambdavariable().N + 1)), namedlambdavariable(), namedlambdavariable())\" is of \"STRUCT<col1: DECIMAL(13,1), col2: INT>\" type.; line 2 pos 5;\nSort [c02_geomean#1451 DESC NULLS LAST], false\n+- Project [key#1194, ip#1208, device_id#1206, c02_levels#1207, aggregate(c02_levels#1207, named_struct(product, 1.0, N, 0), lambdafunction(named_struct(col1, (cast(lambda c02#1453 as decimal(10,0)) * lambda buffer#1452.product), col2, (lambda buffer#1452.N + 1)), lambda buffer#1452, lambda c02#1453, false), lambdafunction(round(POWER(cast(lambda buffer#1454.product as double), cast((1.0 / cast(lambda buffer#1454.N as decimal(10,0))) as double)), 0), lambda buffer#1454, false)) AS c02_geomean#1451]\n   +- SubqueryAlias data_center_iot_devices\n      +- View (`data_center_iot_devices`, [dc_id#1185,key#1194,ip#1208,device_id#1206,c02_levels#1207,temp#1211])\n         +- Project [dc_id#1185, key#1194, value#1195.ip AS ip#1208, value#1195.id AS device_id#1206, value#1195.c02_level AS c02_levels#1207, value#1195.temp AS temp#1211]\n            +- Project [dc_id#1185, key#1194, value#1195]\n               +- Generate explode(source#1186), false, [key#1194, value#1195]\n                  +- LogicalRDD [dc_id#1185, source#1186], false\n",
       "errorTraceType": "ansi",
       "metadata": {},
       "type": "ipynbError"
      }
     },
     "output_type": "display_data"
    }
   ],
   "source": [
    "%sql select key, ip, device_id, c02_levels,\n",
    "     aggregate(c02_levels,\n",
    "               (1.0 as product, 0 as N),\n",
    "               (buffer, c02) -> (c02 * buffer.product, buffer.N+1),\n",
    "               buffer -> round(Power(buffer.product, 1.0 / buffer.N))) as c02_geomean\n",
    "     from data_center_iot_devices\n",
    "     sort by c02_geomean desc"
   ]
  },
  {
   "cell_type": "markdown",
   "metadata": {
    "application/vnd.databricks.v1+cell": {
     "cellMetadata": {
      "byteLimit": 2048000,
      "rowLimit": 10000
     },
     "inputWidgets": {},
     "nuid": "c7ce0f50-cda2-4eff-8b8c-26e24a961e51",
     "showTitle": false,
     "tableResultSettingsMap": {},
     "title": ""
    }
   },
   "source": [
    "## Another example using similar nested structure with IoT JSON data.\n",
    "\n",
    "Let's create a DataFrame based on this schema and check if all is good."
   ]
  },
  {
   "cell_type": "code",
   "execution_count": 0,
   "metadata": {
    "application/vnd.databricks.v1+cell": {
     "cellMetadata": {
      "byteLimit": 2048000,
      "rowLimit": 10000
     },
     "inputWidgets": {},
     "nuid": "493a67fb-c4d4-442f-9354-cf467805e23d",
     "showTitle": false,
     "tableResultSettingsMap": {},
     "title": ""
    }
   },
   "outputs": [
    {
     "output_type": "display_data",
     "data": {
      "text/plain": [
       ""
      ]
     },
     "metadata": {
      "application/vnd.databricks.v1+output": {
       "arguments": {},
       "data": "",
       "errorSummary": "Command skipped",
       "errorTraceType": "ansi",
       "metadata": {},
       "type": "ipynbError"
      }
     },
     "output_type": "display_data"
    }
   ],
   "source": [
    "schema2 = StructType() \\\n",
    "                    .add(\"device_id\", IntegerType()) \\\n",
    "                    .add(\"battery_level\", ArrayType(IntegerType())) \\\n",
    "                    .add(\"c02_level\", ArrayType(IntegerType())) \\\n",
    "                    .add(\"signal\", ArrayType(IntegerType())) \\\n",
    "                    .add(\"temp\", ArrayType(IntegerType())) \\\n",
    "                    .add(\"cca3\", ArrayType(StringType())) \\\n",
    "                    .add(\"device_type\", StringType()) \\\n",
    "                    .add(\"ip\", StringType()) \\\n",
    "                    .add(\"timestamp\", TimestampType())"
   ]
  },
  {
   "cell_type": "code",
   "execution_count": 0,
   "metadata": {
    "application/vnd.databricks.v1+cell": {
     "cellMetadata": {
      "byteLimit": 2048000,
      "rowLimit": 10000
     },
     "inputWidgets": {},
     "nuid": "45b1de58-87a7-4e61-8d69-ff120377184b",
     "showTitle": false,
     "tableResultSettingsMap": {},
     "title": ""
    }
   },
   "outputs": [
    {
     "output_type": "display_data",
     "data": {
      "text/plain": [
       ""
      ]
     },
     "metadata": {
      "application/vnd.databricks.v1+output": {
       "arguments": {},
       "data": "",
       "errorSummary": "Command skipped",
       "errorTraceType": "ansi",
       "metadata": {},
       "type": "ipynbError"
      }
     },
     "output_type": "display_data"
    }
   ],
   "source": [
    "dataDF2 = jsonToDataFrame(\"\"\"[\n",
    "  {\"device_id\": 0, \"device_type\": \"sensor-ipad\", \"ip\": \"68.161.225.1\", \"cca3\": [\"USA\", \"United States\"], \"temp\": [25,26, 27], \"signal\": [23,22,24], \"battery_level\": [8,9,7], \"c02_level\": [917, 921, 925], \"timestamp\" :1475600496 }, \n",
    "  {\"device_id\": 1, \"device_type\": \"sensor-igauge\", \"ip\": \"213.161.254.1\", \"cca3\": [\"NOR\", \"Norway\"], \"temp\": [30, 32,35], \"signal\": [18,18,19], \"battery_level\": [6, 6, 5], \"c02_level\": [1413, 1416, 1417], \"timestamp\" :1475600498 }, \n",
    "  {\"device_id\": 3, \"device_type\": \"sensor-inest\", \"ip\": \"66.39.173.154\", \"cca3\": [\"USA\", \"United States\"], \"temp\":[47, 47, 48], \"signal\": [12,12,13], \"battery_level\": [1, 1, 0],  \"c02_level\": [1447,1446, 1448], \"timestamp\" :1475600502 }, \n",
    "  {\"device_id\": 4, \"device_type\": \"sensor-ipad\", \"ip\": \"203.82.41.9\", \"cca3\":[\"PHL\", \"Philippines\"], \"temp\":[29, 29, 28], \"signal\":[11, 11, 11], \"battery_level\":[0, 0, 0], \"c02_level\": [983, 990, 982], \"timestamp\" :1475600504 },\n",
    "  {\"device_id\": 5, \"device_type\": \"sensor-istick\", \"ip\": \"204.116.105.67\", \"cca3\": [\"USA\", \"United States\"], \"temp\":[50,51,50], \"signal\": [16,16,17], \"battery_level\": [8,8, 8], \"c02_level\": [1574,1575,1576], \"timestamp\" :1475600506 }, \n",
    "  {\"device_id\": 6, \"device_type\": \"sensor-ipad\", \"ip\": \"220.173.179.1\", \"cca3\": [\"CHN\", \"China\"], \"temp\": [21,21,22], \"signal\": [18,18,19], \"battery_level\": [9,9,9], \"c02_level\": [1249,1249,1250], \"timestamp\" :1475600508 },\n",
    "  {\"device_id\": 7, \"device_type\": \"sensor-ipad\", \"ip\": \"118.23.68.227\", \"cca3\": [\"JPN\", \"Japan\"], \"temp\":[27,27,28], \"signal\": [15,15,29], \"battery_level\":[0,0,0], \"c02_level\": [1531,1532,1531], \"timestamp\" :1475600512 },\n",
    "  {\"device_id\": 8, \"device_type\": \"sensor-inest\", \"ip\": \"208.109.163.218\", \"cca3\": [\"USA\", \"United States\"], \"temp\":[40,40,41], \"signal\": [16,16,17], \"battery_level\":[ 9, 9, 10], \"c02_level\": [1208,1209,1208], \"timestamp\" :1475600514},\n",
    "  {\"device_id\": 9, \"device_type\": \"sensor-ipad\", \"ip\": \"88.213.191.34\", \"cca3\": [\"ITA\", \"Italy\"], \"temp\": [19,28,5], \"signal\": [11, 5, 24], \"battery_level\": [0,-1,0], \"c02_level\": [1171, 1240, 1400], \"timestamp\" :1475600516 },\n",
    "  {\"device_id\": 10, \"device_type\": \"sensor-igauge\", \"ip\": \"68.28.91.22\", \"cca3\": [\"USA\", \"United States\"], \"temp\": [32,33,32], \"signal\": [26,26,25], \"battery_level\": [7,7,8], \"c02_level\": [886,886,887], \"timestamp\" :1475600518 },\n",
    "  {\"device_id\": 11, \"device_type\": \"sensor-ipad\", \"ip\": \"59.144.114.250\", \"cca3\": [\"IND\", \"India\"], \"temp\": [46,45,44], \"signal\": [25,25,24], \"battery_level\": [4,5,5], \"c02_level\": [863,862,864], \"timestamp\" :1475600520 },\n",
    "  {\"device_id\": 12, \"device_type\": \"sensor-igauge\", \"ip\": \"193.156.90.200\", \"cca3\": [\"NOR\", \"Norway\"], \"temp\": [18,17,18], \"signal\": [26,25,26], \"battery_level\": [8,9,8], \"c02_level\": [1220,1221,1220], \"timestamp\" :1475600522 },\n",
    "  {\"device_id\": 13, \"device_type\": \"sensor-ipad\", \"ip\": \"67.185.72.1\", \"cca3\": [\"USA\", \"United States\"], \"temp\": [34,35,34], \"signal\": [20,21,20], \"battery_level\": [8,8,8], \"c02_level\": [1504,1504,1503], \"timestamp\" :1475600524 },\n",
    "  {\"device_id\": 14, \"device_type\": \"sensor-inest\", \"ip\": \"68.85.85.106\", \"cca3\": [\"USA\", \"United States\"], \"temp\": [39,40,38], \"signal\": [17, 17, 18], \"battery_level\": [8,8,7], \"c02_level\": [831,832,831], \"timestamp\" :1475600526 },\n",
    "  {\"device_id\": 15, \"device_type\": \"sensor-ipad\", \"ip\": \"161.188.212.254\", \"cca3\": [\"USA\", \"United States\"], \"temp\": [27,27,28], \"signal\": [26,26,25], \"battery_level\": [5,5,5], \"c02_level\": [1378,1376,1378], \"timestamp\" :1475600528 },\n",
    "  {\"device_id\": 16, \"device_type\": \"sensor-igauge\", \"ip\": \"221.3.128.242\", \"cca3\": [\"CHN\", \"China\"], \"temp\": [10,10,11], \"signal\": [24,24,23], \"battery_level\": [6,5,6], \"c02_level\": [1423, 1423, 1423], \"timestamp\" :1475600530 },\n",
    "  {\"device_id\": 17, \"device_type\": \"sensor-ipad\", \"ip\": \"64.124.180.215\", \"cca3\": [\"USA\", \"United States\"], \"temp\": [38,38,39], \"signal\": [17,17,17], \"battery_level\": [9,9,9], \"c02_level\": [1304,1304,1304], \"timestamp\" :1475600532 },\n",
    "  {\"device_id\": 18, \"device_type\": \"sensor-igauge\", \"ip\": \"66.153.162.66\", \"cca3\": [\"USA\", \"United States\"], \"temp\": [26, 0, 99], \"signal\": [10, 1, 5], \"battery_level\": [0, 0, 0], \"c02_level\": [902,902, 1300], \"timestamp\" :1475600534 },\n",
    "  {\"device_id\": 19, \"device_type\": \"sensor-ipad\", \"ip\": \"193.200.142.254\", \"cca3\": [\"AUT\", \"Austria\"], \"temp\": [32,32,33], \"signal\": [27,27,28], \"battery_level\": [5,5,5], \"c02_level\": [1282, 1282, 1281], \"timestamp\" :1475600536 }\n",
    "  ]\"\"\", schema2)\n",
    "\n",
    "display(dataDF2)\n",
    " "
   ]
  },
  {
   "cell_type": "code",
   "execution_count": 0,
   "metadata": {
    "application/vnd.databricks.v1+cell": {
     "cellMetadata": {
      "byteLimit": 2048000,
      "rowLimit": 10000
     },
     "inputWidgets": {},
     "nuid": "c69e4e0e-ac2c-4e1d-a728-8fc30cca7877",
     "showTitle": false,
     "tableResultSettingsMap": {},
     "title": ""
    }
   },
   "outputs": [
    {
     "output_type": "display_data",
     "data": {
      "text/plain": [
       ""
      ]
     },
     "metadata": {
      "application/vnd.databricks.v1+output": {
       "arguments": {},
       "data": "",
       "errorSummary": "Command skipped",
       "errorTraceType": "ansi",
       "metadata": {},
       "type": "ipynbError"
      }
     },
     "output_type": "display_data"
    }
   ],
   "source": [
    "dataDF2.printSchema()"
   ]
  },
  {
   "cell_type": "markdown",
   "metadata": {
    "application/vnd.databricks.v1+cell": {
     "cellMetadata": {
      "byteLimit": 2048000,
      "rowLimit": 10000
     },
     "inputWidgets": {},
     "nuid": "c66cf9b2-9183-4379-a9ab-1e30484dff33",
     "showTitle": false,
     "tableResultSettingsMap": {},
     "title": ""
    }
   },
   "source": [
    "As above, let's create a temporary view to which you can issue SQL queries and do some processing using higher-order functions."
   ]
  },
  {
   "cell_type": "code",
   "execution_count": 0,
   "metadata": {
    "application/vnd.databricks.v1+cell": {
     "cellMetadata": {
      "byteLimit": 2048000,
      "rowLimit": 10000
     },
     "inputWidgets": {},
     "nuid": "687b41fe-ba01-46ba-a299-d73b3c285403",
     "showTitle": false,
     "tableResultSettingsMap": {},
     "title": ""
    }
   },
   "outputs": [
    {
     "output_type": "display_data",
     "data": {
      "text/plain": [
       ""
      ]
     },
     "metadata": {
      "application/vnd.databricks.v1+output": {
       "arguments": {},
       "data": "",
       "errorSummary": "Command skipped",
       "errorTraceType": "ansi",
       "metadata": {},
       "type": "ipynbError"
      }
     },
     "output_type": "display_data"
    }
   ],
   "source": [
    "dataDF2.createOrReplaceTempView(\"iot_nested_data\")"
   ]
  },
  {
   "cell_type": "markdown",
   "metadata": {
    "application/vnd.databricks.v1+cell": {
     "cellMetadata": {
      "byteLimit": 2048000,
      "rowLimit": 10000
     },
     "inputWidgets": {},
     "nuid": "a4b4bbb6-011a-4314-8377-d2af0a4ce5bc",
     "showTitle": false,
     "tableResultSettingsMap": {},
     "title": ""
    }
   },
   "source": [
    "### How to use `transform()`"
   ]
  },
  {
   "cell_type": "markdown",
   "metadata": {
    "application/vnd.databricks.v1+cell": {
     "cellMetadata": {
      "byteLimit": 2048000,
      "rowLimit": 10000
     },
     "inputWidgets": {},
     "nuid": "73db6e52-0261-4035-83ba-9ef497822c29",
     "showTitle": false,
     "tableResultSettingsMap": {},
     "title": ""
    }
   },
   "source": [
    "Use transform to check battery level."
   ]
  },
  {
   "cell_type": "code",
   "execution_count": 0,
   "metadata": {
    "application/vnd.databricks.v1+cell": {
     "cellMetadata": {
      "byteLimit": 2048000,
      "implicitDf": true,
      "rowLimit": 10000
     },
     "inputWidgets": {},
     "nuid": "3593714e-dd80-4f0a-8078-026cc0cda5da",
     "showTitle": false,
     "tableResultSettingsMap": {},
     "title": ""
    }
   },
   "outputs": [
    {
     "output_type": "display_data",
     "data": {
      "text/plain": [
       ""
      ]
     },
     "metadata": {
      "application/vnd.databricks.v1+output": {
       "arguments": {},
       "data": "",
       "errorSummary": "Command skipped",
       "errorTraceType": "ansi",
       "metadata": {},
       "type": "ipynbError"
      }
     },
     "output_type": "display_data"
    }
   ],
   "source": [
    "%sql select cca3, device_type, battery_level,\n",
    "     transform (battery_level, bl -> bl > 0) as boolean_battery_level\n",
    "     from iot_nested_data"
   ]
  },
  {
   "cell_type": "markdown",
   "metadata": {
    "application/vnd.databricks.v1+cell": {
     "cellMetadata": {
      "byteLimit": 2048000,
      "rowLimit": 10000
     },
     "inputWidgets": {},
     "nuid": "9cad9aae-c6b5-46b9-bb07-28b55ab71bb5",
     "showTitle": false,
     "tableResultSettingsMap": {},
     "title": ""
    }
   },
   "source": [
    "Note that you are not limited to only a single `transform()` function. In fact, you can chain multiple transformation, as this \n",
    "code tranforms countries to both lower and upper case."
   ]
  },
  {
   "cell_type": "code",
   "execution_count": 0,
   "metadata": {
    "application/vnd.databricks.v1+cell": {
     "cellMetadata": {
      "byteLimit": 2048000,
      "implicitDf": true,
      "rowLimit": 10000
     },
     "inputWidgets": {},
     "nuid": "852a40ca-bcb0-4565-bc95-f3e1f92734ee",
     "showTitle": false,
     "tableResultSettingsMap": {},
     "title": ""
    }
   },
   "outputs": [
    {
     "output_type": "display_data",
     "data": {
      "text/plain": [
       ""
      ]
     },
     "metadata": {
      "application/vnd.databricks.v1+output": {
       "arguments": {},
       "data": "",
       "errorSummary": "Command skipped",
       "errorTraceType": "ansi",
       "metadata": {},
       "type": "ipynbError"
      }
     },
     "output_type": "display_data"
    }
   ],
   "source": [
    "%sql select cca3,\n",
    "     transform (cca3, c -> lcase(c)) as lower_cca3,\n",
    "     transform (cca3, c -> ucase(c)) as upper_cca3\n",
    "     from iot_nested_data"
   ]
  },
  {
   "cell_type": "markdown",
   "metadata": {
    "application/vnd.databricks.v1+cell": {
     "cellMetadata": {
      "byteLimit": 2048000,
      "rowLimit": 10000
     },
     "inputWidgets": {},
     "nuid": "9e8feaee-d8a5-458b-b680-21957351699c",
     "showTitle": false,
     "tableResultSettingsMap": {},
     "title": ""
    }
   },
   "source": [
    "### How to use `filter()`"
   ]
  },
  {
   "cell_type": "markdown",
   "metadata": {
    "application/vnd.databricks.v1+cell": {
     "cellMetadata": {
      "byteLimit": 2048000,
      "rowLimit": 10000
     },
     "inputWidgets": {},
     "nuid": "7a8e4fd3-9406-4bc9-8ac6-1d4d81d3b672",
     "showTitle": false,
     "tableResultSettingsMap": {},
     "title": ""
    }
   },
   "source": [
    "Filter out any devices with battery levels lower than 5."
   ]
  },
  {
   "cell_type": "code",
   "execution_count": 0,
   "metadata": {
    "application/vnd.databricks.v1+cell": {
     "cellMetadata": {
      "byteLimit": 2048000,
      "implicitDf": true,
      "rowLimit": 10000
     },
     "inputWidgets": {},
     "nuid": "cb7ceadc-0d38-4797-b344-fe996c940f1a",
     "showTitle": false,
     "tableResultSettingsMap": {},
     "title": ""
    }
   },
   "outputs": [
    {
     "output_type": "display_data",
     "data": {
      "text/plain": [
       ""
      ]
     },
     "metadata": {
      "application/vnd.databricks.v1+output": {
       "arguments": {},
       "data": "",
       "errorSummary": "Command skipped",
       "errorTraceType": "ansi",
       "metadata": {},
       "type": "ipynbError"
      }
     },
     "output_type": "display_data"
    }
   ],
   "source": [
    "%sql select cca3, device_type, battery_level,\n",
    "     filter (battery_level, bl -> bl < 5) as low_levels\n",
    "     from iot_nested_data"
   ]
  },
  {
   "cell_type": "markdown",
   "metadata": {
    "application/vnd.databricks.v1+cell": {
     "cellMetadata": {
      "byteLimit": 2048000,
      "rowLimit": 10000
     },
     "inputWidgets": {},
     "nuid": "5e5cd979-2fe3-45c4-ba25-862481b96b01",
     "showTitle": false,
     "tableResultSettingsMap": {},
     "title": ""
    }
   },
   "source": [
    "### How to use `reduce()`"
   ]
  },
  {
   "cell_type": "code",
   "execution_count": 0,
   "metadata": {
    "application/vnd.databricks.v1+cell": {
     "cellMetadata": {
      "byteLimit": 2048000,
      "implicitDf": true,
      "rowLimit": 10000
     },
     "inputWidgets": {},
     "nuid": "199bfc36-e304-4234-9b10-66ead30b2b45",
     "showTitle": false,
     "tableResultSettingsMap": {},
     "title": ""
    }
   },
   "outputs": [
    {
     "output_type": "display_data",
     "data": {
      "text/plain": [
       ""
      ]
     },
     "metadata": {
      "application/vnd.databricks.v1+output": {
       "arguments": {},
       "data": "",
       "errorSummary": "Command skipped",
       "errorTraceType": "ansi",
       "metadata": {},
       "type": "ipynbError"
      }
     },
     "output_type": "display_data"
    }
   ],
   "source": [
    "%sql select cca3, device_type, battery_level,\n",
    "     reduce(battery_level, 0, (t, acc) -> t + acc,  acc -> acc div size(battery_level) ) as average_battery_level\n",
    "     from iot_nested_data\n",
    "     sort by average_battery_level desc"
   ]
  },
  {
   "cell_type": "code",
   "execution_count": 0,
   "metadata": {
    "application/vnd.databricks.v1+cell": {
     "cellMetadata": {
      "byteLimit": 2048000,
      "implicitDf": true,
      "rowLimit": 10000
     },
     "inputWidgets": {},
     "nuid": "35822ba4-4df1-4ef6-8440-5fd8945bf6eb",
     "showTitle": false,
     "tableResultSettingsMap": {},
     "title": ""
    }
   },
   "outputs": [
    {
     "output_type": "display_data",
     "data": {
      "text/plain": [
       ""
      ]
     },
     "metadata": {
      "application/vnd.databricks.v1+output": {
       "arguments": {},
       "data": "",
       "errorSummary": "Command skipped",
       "errorTraceType": "ansi",
       "metadata": {},
       "type": "ipynbError"
      }
     },
     "output_type": "display_data"
    }
   ],
   "source": [
    "%sql select cca3, device_type, temp,\n",
    "     reduce(temp, 0, (t, acc) -> t + acc,  acc -> acc div size(temp) ) as average_temp\n",
    "     from iot_nested_data\n",
    "     sort by average_temp desc"
   ]
  },
  {
   "cell_type": "code",
   "execution_count": 0,
   "metadata": {
    "application/vnd.databricks.v1+cell": {
     "cellMetadata": {
      "byteLimit": 2048000,
      "implicitDf": true,
      "rowLimit": 10000
     },
     "inputWidgets": {},
     "nuid": "e9923109-e333-4824-9409-1c34504acf9c",
     "showTitle": false,
     "tableResultSettingsMap": {},
     "title": ""
    }
   },
   "outputs": [
    {
     "output_type": "display_data",
     "data": {
      "text/plain": [
       ""
      ]
     },
     "metadata": {
      "application/vnd.databricks.v1+output": {
       "arguments": {},
       "data": "",
       "errorSummary": "Command skipped",
       "errorTraceType": "ansi",
       "metadata": {},
       "type": "ipynbError"
      }
     },
     "output_type": "display_data"
    }
   ],
   "source": [
    "%sql select cca3, device_type, c02_level,\n",
    "     reduce(c02_level, 0, (t, acc) -> t + acc,  acc -> acc div size(c02_level) ) as average_c02_level\n",
    "     from iot_nested_data\n",
    "     sort by average_c02_level desc"
   ]
  },
  {
   "cell_type": "markdown",
   "metadata": {
    "application/vnd.databricks.v1+cell": {
     "cellMetadata": {
      "byteLimit": 2048000,
      "rowLimit": 10000
     },
     "inputWidgets": {},
     "nuid": "8b631d19-ccb9-4afb-a83e-810d61e8a2a5",
     "showTitle": false,
     "tableResultSettingsMap": {},
     "title": ""
    }
   },
   "source": [
    "You can combine or chain many `reduce()` functions as this code shows."
   ]
  },
  {
   "cell_type": "code",
   "execution_count": 0,
   "metadata": {
    "application/vnd.databricks.v1+cell": {
     "cellMetadata": {
      "byteLimit": 2048000,
      "implicitDf": true,
      "rowLimit": 10000
     },
     "inputWidgets": {},
     "nuid": "5b38aade-008a-4057-8d5d-3d5f2eb9aea0",
     "showTitle": false,
     "tableResultSettingsMap": {},
     "title": ""
    }
   },
   "outputs": [
    {
     "output_type": "display_data",
     "data": {
      "text/plain": [
       ""
      ]
     },
     "metadata": {
      "application/vnd.databricks.v1+output": {
       "arguments": {},
       "data": "",
       "errorSummary": "Command skipped",
       "errorTraceType": "ansi",
       "metadata": {},
       "type": "ipynbError"
      }
     },
     "output_type": "display_data"
    }
   ],
   "source": [
    "%sql select cca3, device_type, signal, temp, c02_level,\n",
    "     reduce(signal, 0, (s, sacc) -> s + sacc,  sacc -> sacc div size(signal) ) as average_signal,\n",
    "     reduce(temp, 0, (t, tacc) -> t + tacc,  tacc -> tacc div size(temp) ) as average_temp,\n",
    "     reduce(c02_level, 0, (c, cacc) -> c + cacc,  cacc -> cacc div size(c02_level) ) as average_c02_level\n",
    "     from iot_nested_data\n",
    "     sort by average_signal desc"
   ]
  },
  {
   "cell_type": "markdown",
   "metadata": {
    "application/vnd.databricks.v1+cell": {
     "cellMetadata": {
      "byteLimit": 2048000,
      "rowLimit": 10000
     },
     "inputWidgets": {},
     "nuid": "00764ac3-8bcb-4208-af67-ff2200e5694e",
     "showTitle": false,
     "tableResultSettingsMap": {},
     "title": ""
    }
   },
   "source": [
    "## Summary"
   ]
  },
  {
   "cell_type": "markdown",
   "metadata": {
    "application/vnd.databricks.v1+cell": {
     "cellMetadata": {
      "byteLimit": 2048000,
      "rowLimit": 10000
     },
     "inputWidgets": {},
     "nuid": "e64a1e39-dacc-4280-8967-9912c8bd5f54",
     "showTitle": false,
     "tableResultSettingsMap": {},
     "title": ""
    }
   },
   "source": [
    "The point of this short tutorial has been to demonstrate the ease of utility of higher-order functions and lambda expressions in SQL, to work with JSON attributes nested structures and arrays. Once you have flattened or parsed the desired values into respective DataFrames or Datasets, and after saving them as a SQL view or table, you can as easily manipulate and tranform your arrays with higher-order functions in SQL as you would with DataFrame or Dataset API.\n",
    "\n",
    "Finally, it is easy to employ higher-order functions than to write UDFs in Python or Scala. Read the original blog on [SQL higher-order functions](https://databricks.com/blog/2017/05/24/working-with-nested-data-using-higher-order-functions-in-sql-on-databricks.html) to get more information on the _whys_.\n"
   ]
  }
 ],
 "metadata": {
  "application/vnd.databricks.v1+notebook": {
   "computePreferences": null,
   "dashboards": [
    {
     "elements": [
      {
       "dashboardResultIndex": null,
       "elementNUID": "80cb8ff5-e9e5-4221-a8d4-442027e5881e",
       "elementType": "command",
       "guid": "9a3e6a6e-d21c-4eb1-a467-be7a5ac6a490",
       "options": {
        "autoScaleImg": false,
        "scale": 0,
        "showRunButton": true,
        "showTitle": true,
        "title": "Average C02 Levels in IoT Device Events",
        "titleAlign": "center"
       },
       "position": {
        "height": 6,
        "width": 22,
        "x": 0,
        "y": 0,
        "z": null
       },
       "resultIndex": null
      },
      {
       "dashboardResultIndex": null,
       "elementNUID": "a984c41b-70b8-4185-b617-b4b989fe8a08",
       "elementType": "command",
       "guid": "b8937ef4-8bc2-4bd7-bc90-dc7262dc2fe9",
       "options": {
        "autoScaleImg": false,
        "scale": 0,
        "showTitle": true,
        "title": "Geomean C02 Levels in IoT Device Events",
        "titleAlign": "center"
       },
       "position": {
        "height": 8,
        "width": 22,
        "x": 0,
        "y": 6,
        "z": null
       },
       "resultIndex": null
      }
     ],
     "globalVars": {},
     "guid": "",
     "layoutOption": {
      "grid": true,
      "stack": true
     },
     "nuid": "edd6b32f-72ed-45e4-88d3-cc38dceb861d",
     "origId": 626842756918612,
     "title": "IoT Devices and Nested Data",
     "version": "DashboardViewV1",
     "width": 1024
    }
   ],
   "environmentMetadata": null,
   "inputWidgetPreferences": null,
   "language": "python",
   "notebookMetadata": {
    "mostRecentlyExecutedCommandWithImplicitDF": {
     "commandId": 626842756918609,
     "dataframes": [
      "_sqldf"
     ]
    },
    "pythonIndentUnit": 2
   },
   "notebookName": "higher-order-functions-tutorial-python",
   "widgets": {}
  }
 },
 "nbformat": 4,
 "nbformat_minor": 0
}