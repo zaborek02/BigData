{
 "cells": [
  {
   "cell_type": "markdown",
   "metadata": {
    "application/vnd.databricks.v1+cell": {
     "cellMetadata": {},
     "inputWidgets": {},
     "nuid": "466b8c77-2bac-4a7b-9b46-1a463c416b56",
     "showTitle": false,
     "tableResultSettingsMap": {},
     "title": ""
    }
   },
   "source": [
    "## RDD"
   ]
  },
  {
   "cell_type": "code",
   "execution_count": 0,
   "metadata": {
    "application/vnd.databricks.v1+cell": {
     "cellMetadata": {
      "byteLimit": 2048000,
      "rowLimit": 10000
     },
     "inputWidgets": {},
     "nuid": "d44ba78a-a9d9-42b9-8884-413d856a9cae",
     "showTitle": false,
     "tableResultSettingsMap": {},
     "title": ""
    }
   },
   "outputs": [],
   "source": [
    "tuples = [('A', 7), ('A', 8), ('A', -4),\n",
    "          ('B', 3), ('B', 9), ('B', -1),\n",
    "          ('C', 1), ('C', 5)]\n",
    "rdd = spark.sparkContext.parallelize(tuples)\n"
   ]
  },
  {
   "cell_type": "code",
   "execution_count": 0,
   "metadata": {
    "application/vnd.databricks.v1+cell": {
     "cellMetadata": {
      "byteLimit": 2048000,
      "rowLimit": 10000
     },
     "inputWidgets": {},
     "nuid": "1e4c11d2-f76f-4beb-ad79-769610e3063b",
     "showTitle": false,
     "tableResultSettingsMap": {},
     "title": ""
    }
   },
   "outputs": [
    {
     "output_type": "stream",
     "name": "stdout",
     "output_type": "stream",
     "text": [
      "Out[3]: [('A', 7), ('A', 8), ('B', 3), ('B', 9), ('C', 1), ('C', 5)]"
     ]
    }
   ],
   "source": [
    "# zadania wybierz wartości z tuple większe od zera wstaw brakujący kod <....>\n",
    "positives = rdd.filter(lambda x: x[1]>0)\n",
    "positives.collect()"
   ]
  },
  {
   "cell_type": "code",
   "execution_count": 0,
   "metadata": {
    "application/vnd.databricks.v1+cell": {
     "cellMetadata": {
      "byteLimit": 2048000,
      "rowLimit": 10000
     },
     "inputWidgets": {},
     "nuid": "f942212f-cdad-4723-9a90-1c5bde9e51ef",
     "showTitle": false,
     "tableResultSettingsMap": {},
     "title": ""
    }
   },
   "outputs": [
    {
     "output_type": "stream",
     "name": "stdout",
     "output_type": "stream",
     "text": [
      "Out[4]: [('B', (12, 6.0)), ('C', (6, 3.0)), ('A', (15, 7.5))]"
     ]
    }
   ],
   "source": [
    "# policz sumę wartościdla poszczególnych kluczy (A, B, C) - wstaw brakujący kod <....>\n",
    "\n",
    "sum_and_avg = positives.groupByKey().mapValues(lambda v: (sum(v), sum(v)/len(v)))\n",
    "sum_and_avg.collect()"
   ]
  },
  {
   "cell_type": "code",
   "execution_count": 0,
   "metadata": {
    "application/vnd.databricks.v1+cell": {
     "cellMetadata": {
      "byteLimit": 2048000,
      "rowLimit": 10000
     },
     "inputWidgets": {},
     "nuid": "c4b28d85-e67a-41cc-a203-aa5528b45d11",
     "showTitle": false,
     "tableResultSettingsMap": {},
     "title": ""
    }
   },
   "outputs": [
    {
     "output_type": "stream",
     "name": "stdout",
     "output_type": "stream",
     "text": [
      "Out[6]: [('B', (12, 6.0)), ('C', (6, 3.0)), ('A', (15, 7.5))]"
     ]
    }
   ],
   "source": [
    "# policz sumę wartościdla poszczególnych kluczy (A, B, C) używająć funkcji mapValues - wstaw brakujący kod <....>\n",
    "\n",
    "positives = rdd.filter(lambda x: x[1] > 0)\n",
    "sum_count_agg = positives.mapValues(lambda x: (x, 1)) \\\n",
    "                         .reduceByKey(lambda a, b: (a[0] + b[0], a[1] + b[1]))\n",
    "sum_and_avg = sum_count_agg.mapValues(lambda v: (v[0], v[0] / v[1]))\n",
    "sum_and_avg.collect()"
   ]
  },
  {
   "cell_type": "code",
   "execution_count": 0,
   "metadata": {
    "application/vnd.databricks.v1+cell": {
     "cellMetadata": {
      "byteLimit": 2048000,
      "rowLimit": 10000
     },
     "inputWidgets": {},
     "nuid": "6f87a9cb-28ac-4488-ab6e-e9db08110bcf",
     "showTitle": false,
     "tableResultSettingsMap": {},
     "title": ""
    }
   },
   "outputs": [
    {
     "output_type": "stream",
     "name": "stdout",
     "output_type": "stream",
     "text": [
      "Out[8]: [('fox', 6),\n ('dog', 5),\n ('fox', 3),\n ('dog', 8),\n ('cat', 1),\n ('cat', 2),\n ('cat', 3),\n ('cat', 4)]"
     ]
    }
   ],
   "source": [
    " data = [ \n",
    "    (\"fox\", 6), (\"dog\", 5), (\"fox\", 3), (\"dog\", 8),\n",
    "    (\"cat\", 1), (\"cat\", 2), (\"cat\", 3), (\"cat\", 4)\n",
    "]\n",
    "\n",
    "ListaRrdd = sc.parallelize(data) \n",
    "ListaRrdd.collect()"
   ]
  },
  {
   "cell_type": "code",
   "execution_count": 0,
   "metadata": {
    "application/vnd.databricks.v1+cell": {
     "cellMetadata": {
      "byteLimit": 2048000,
      "rowLimit": 10000
     },
     "inputWidgets": {},
     "nuid": "a2d61012-ebbe-4ac2-8217-971353d12e15",
     "showTitle": false,
     "tableResultSettingsMap": {},
     "title": ""
    }
   },
   "outputs": [
    {
     "output_type": "stream",
     "name": "stdout",
     "output_type": "stream",
     "text": [
      "Out[9]: [('fox', 9), ('dog', 13), ('cat', 10)]"
     ]
    }
   ],
   "source": [
    "# Uzyw funkcji reduceByKey żeby wykonać sumę wartości dla każdego klucza \n",
    "rdd = spark.sparkContext.parallelize(data)\n",
    "sum_per_key = rdd.reduceByKey(lambda a, b: a + b)\n",
    "sum_per_key.collect()"
   ]
  },
  {
   "cell_type": "code",
   "execution_count": 0,
   "metadata": {
    "application/vnd.databricks.v1+cell": {
     "cellMetadata": {
      "byteLimit": 2048000,
      "rowLimit": 10000
     },
     "inputWidgets": {},
     "nuid": "118f2fc2-fee2-4905-bdb6-a1bd6e76133c",
     "showTitle": false,
     "tableResultSettingsMap": {},
     "title": ""
    }
   },
   "outputs": [
    {
     "output_type": "stream",
     "name": "stdout",
     "output_type": "stream",
     "text": [
      "Out[10]: []"
     ]
    }
   ],
   "source": [
    "# Usuń wartości większe niż 4\n",
    "sum_filtered = sum_per_key.filter(lambda x: x[1]<=4)\n",
    "sum_filtered.collect()"
   ]
  },
  {
   "cell_type": "code",
   "execution_count": 0,
   "metadata": {
    "application/vnd.databricks.v1+cell": {
     "cellMetadata": {},
     "inputWidgets": {},
     "nuid": "2b3f2f60-2b5c-4bb2-908c-a0b395bb0eea",
     "showTitle": false,
     "tableResultSettingsMap": {},
     "title": ""
    }
   },
   "outputs": [],
   "source": []
  }
 ],
 "metadata": {
  "application/vnd.databricks.v1+notebook": {
   "computePreferences": null,
   "dashboards": [],
   "environmentMetadata": null,
   "inputWidgetPreferences": null,
   "language": "python",
   "notebookMetadata": {
    "pythonIndentUnit": 4
   },
   "notebookName": "RDD_Zadania",
   "widgets": {}
  }
 },
 "nbformat": 4,
 "nbformat_minor": 0
}